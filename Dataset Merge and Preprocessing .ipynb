{
 "cells": [
  {
   "cell_type": "code",
   "execution_count": 1,
   "id": "regular-bargain",
   "metadata": {},
   "outputs": [],
   "source": [
    "import pandas as pd"
   ]
  },
  {
   "cell_type": "code",
   "execution_count": 19,
   "id": "virgin-defense",
   "metadata": {},
   "outputs": [],
   "source": [
    "pd.set_option('display.max_rows', 400)\n",
    "pd.set_option('display.max_colwidth', 20)"
   ]
  },
  {
   "cell_type": "code",
   "execution_count": 2,
   "id": "conservative-bulgaria",
   "metadata": {},
   "outputs": [],
   "source": [
    "reviews = pd.read_json(r'C:\\Users\\dfota\\OneDrive\\Έγγραφα\\Thesis Project\\Amazon-Game-Reviews-Analysis\\Data\\Video_Games.json', lines = True)"
   ]
  },
  {
   "cell_type": "code",
   "execution_count": 3,
   "id": "forbidden-moses",
   "metadata": {},
   "outputs": [
    {
     "data": {
      "text/plain": [
       "(497577, 12)"
      ]
     },
     "execution_count": 3,
     "metadata": {},
     "output_type": "execute_result"
    }
   ],
   "source": [
    "reviews.shape"
   ]
  },
  {
   "cell_type": "code",
   "execution_count": 23,
   "id": "subject-condition",
   "metadata": {},
   "outputs": [
    {
     "data": {
      "text/html": [
       "<div>\n",
       "<style scoped>\n",
       "    .dataframe tbody tr th:only-of-type {\n",
       "        vertical-align: middle;\n",
       "    }\n",
       "\n",
       "    .dataframe tbody tr th {\n",
       "        vertical-align: top;\n",
       "    }\n",
       "\n",
       "    .dataframe thead th {\n",
       "        text-align: right;\n",
       "    }\n",
       "</style>\n",
       "<table border=\"1\" class=\"dataframe\">\n",
       "  <thead>\n",
       "    <tr style=\"text-align: right;\">\n",
       "      <th></th>\n",
       "      <th>overall</th>\n",
       "      <th>verified</th>\n",
       "      <th>reviewTime</th>\n",
       "      <th>reviewerID</th>\n",
       "      <th>asin</th>\n",
       "      <th>reviewerName</th>\n",
       "      <th>reviewText</th>\n",
       "      <th>summary</th>\n",
       "      <th>unixReviewTime</th>\n",
       "      <th>vote</th>\n",
       "      <th>style</th>\n",
       "      <th>image</th>\n",
       "    </tr>\n",
       "  </thead>\n",
       "  <tbody>\n",
       "    <tr>\n",
       "      <th>0</th>\n",
       "      <td>5</td>\n",
       "      <td>True</td>\n",
       "      <td>10 17, 2015</td>\n",
       "      <td>A1HP7NVNPFMA4N</td>\n",
       "      <td>0700026657</td>\n",
       "      <td>Ambrosia075</td>\n",
       "      <td>This game is a b...</td>\n",
       "      <td>but when you do ...</td>\n",
       "      <td>1445040000</td>\n",
       "      <td>NaN</td>\n",
       "      <td>NaN</td>\n",
       "      <td>NaN</td>\n",
       "    </tr>\n",
       "    <tr>\n",
       "      <th>1</th>\n",
       "      <td>4</td>\n",
       "      <td>False</td>\n",
       "      <td>07 27, 2015</td>\n",
       "      <td>A1JGAP0185YJI6</td>\n",
       "      <td>0700026657</td>\n",
       "      <td>travis</td>\n",
       "      <td>I played it a wh...</td>\n",
       "      <td>But in spite of ...</td>\n",
       "      <td>1437955200</td>\n",
       "      <td>NaN</td>\n",
       "      <td>NaN</td>\n",
       "      <td>NaN</td>\n",
       "    </tr>\n",
       "    <tr>\n",
       "      <th>2</th>\n",
       "      <td>3</td>\n",
       "      <td>True</td>\n",
       "      <td>02 23, 2015</td>\n",
       "      <td>A1YJWEXHQBWK2B</td>\n",
       "      <td>0700026657</td>\n",
       "      <td>Vincent G. Mezera</td>\n",
       "      <td>ok game.</td>\n",
       "      <td>Three Stars</td>\n",
       "      <td>1424649600</td>\n",
       "      <td>NaN</td>\n",
       "      <td>NaN</td>\n",
       "      <td>NaN</td>\n",
       "    </tr>\n",
       "    <tr>\n",
       "      <th>3</th>\n",
       "      <td>2</td>\n",
       "      <td>True</td>\n",
       "      <td>02 20, 2015</td>\n",
       "      <td>A2204E1TH211HT</td>\n",
       "      <td>0700026657</td>\n",
       "      <td>Grandma KR</td>\n",
       "      <td>found the game a...</td>\n",
       "      <td>Two Stars</td>\n",
       "      <td>1424390400</td>\n",
       "      <td>NaN</td>\n",
       "      <td>NaN</td>\n",
       "      <td>NaN</td>\n",
       "    </tr>\n",
       "    <tr>\n",
       "      <th>4</th>\n",
       "      <td>5</td>\n",
       "      <td>True</td>\n",
       "      <td>12 25, 2014</td>\n",
       "      <td>A2RF5B5H74JLPE</td>\n",
       "      <td>0700026657</td>\n",
       "      <td>jon</td>\n",
       "      <td>great game, I lo...</td>\n",
       "      <td>love this game</td>\n",
       "      <td>1419465600</td>\n",
       "      <td>NaN</td>\n",
       "      <td>NaN</td>\n",
       "      <td>NaN</td>\n",
       "    </tr>\n",
       "  </tbody>\n",
       "</table>\n",
       "</div>"
      ],
      "text/plain": [
       "   overall  verified   reviewTime      reviewerID        asin  \\\n",
       "0        5      True  10 17, 2015  A1HP7NVNPFMA4N  0700026657   \n",
       "1        4     False  07 27, 2015  A1JGAP0185YJI6  0700026657   \n",
       "2        3      True  02 23, 2015  A1YJWEXHQBWK2B  0700026657   \n",
       "3        2      True  02 20, 2015  A2204E1TH211HT  0700026657   \n",
       "4        5      True  12 25, 2014  A2RF5B5H74JLPE  0700026657   \n",
       "\n",
       "        reviewerName           reviewText              summary  \\\n",
       "0        Ambrosia075  This game is a b...  but when you do ...   \n",
       "1             travis  I played it a wh...  But in spite of ...   \n",
       "2  Vincent G. Mezera             ok game.          Three Stars   \n",
       "3         Grandma KR  found the game a...            Two Stars   \n",
       "4                jon  great game, I lo...       love this game   \n",
       "\n",
       "   unixReviewTime vote style image  \n",
       "0      1445040000  NaN   NaN   NaN  \n",
       "1      1437955200  NaN   NaN   NaN  \n",
       "2      1424649600  NaN   NaN   NaN  \n",
       "3      1424390400  NaN   NaN   NaN  \n",
       "4      1419465600  NaN   NaN   NaN  "
      ]
     },
     "execution_count": 23,
     "metadata": {},
     "output_type": "execute_result"
    }
   ],
   "source": [
    "reviews.head()"
   ]
  },
  {
   "cell_type": "code",
   "execution_count": 4,
   "id": "fifth-printing",
   "metadata": {},
   "outputs": [],
   "source": [
    "metadata = pd.read_json(r'C:\\Users\\dfota\\OneDrive\\Έγγραφα\\Thesis Project\\Amazon-Game-Reviews-Analysis\\Data\\meta_Video_Games.json', lines = True)"
   ]
  },
  {
   "cell_type": "code",
   "execution_count": 5,
   "id": "british-virtue",
   "metadata": {},
   "outputs": [],
   "source": [
    "reviews_metadata = reviews[['asin','reviewerID','overall','reviewTime', 'summary', 'reviewText']].merge(metadata[['asin', 'title', 'category', 'main_cat', 'imageURLHighRes']], on='asin', how='inner')"
   ]
  },
  {
   "cell_type": "code",
   "execution_count": 6,
   "id": "saved-making",
   "metadata": {},
   "outputs": [
    {
     "data": {
      "text/plain": [
       "(568986, 10)"
      ]
     },
     "execution_count": 6,
     "metadata": {},
     "output_type": "execute_result"
    }
   ],
   "source": [
    "reviews_metadata.shape"
   ]
  },
  {
   "cell_type": "code",
   "execution_count": 7,
   "id": "answering-channel",
   "metadata": {},
   "outputs": [],
   "source": [
    "nan_values = reviews_metadata.isna()\n",
    "nan_columns = nan_values.any()"
   ]
  },
  {
   "cell_type": "code",
   "execution_count": 8,
   "id": "surprising-vulnerability",
   "metadata": {},
   "outputs": [
    {
     "data": {
      "text/plain": [
       "['summary', 'reviewText']"
      ]
     },
     "execution_count": 8,
     "metadata": {},
     "output_type": "execute_result"
    }
   ],
   "source": [
    "reviews_metadata.columns[nan_columns].tolist()"
   ]
  },
  {
   "cell_type": "code",
   "execution_count": 9,
   "id": "governing-northeast",
   "metadata": {},
   "outputs": [
    {
     "data": {
      "text/plain": [
       "asin                 0\n",
       "reviewerID           0\n",
       "overall              0\n",
       "reviewTime           0\n",
       "summary            116\n",
       "reviewText           0\n",
       "title                0\n",
       "category             0\n",
       "main_cat             0\n",
       "imageURLHighRes      0\n",
       "dtype: int64"
      ]
     },
     "execution_count": 9,
     "metadata": {},
     "output_type": "execute_result"
    }
   ],
   "source": [
    "reviews_metadata = reviews_metadata[reviews_metadata['reviewText'].notna()]\n",
    "reviews_metadata.isnull().sum()"
   ]
  },
  {
   "cell_type": "code",
   "execution_count": 10,
   "id": "curious-berry",
   "metadata": {},
   "outputs": [],
   "source": [
    "reviews_metadata = reviews_metadata.drop_duplicates(subset=['reviewText', \"reviewerID\"])"
   ]
  },
  {
   "cell_type": "code",
   "execution_count": 11,
   "id": "introductory-juice",
   "metadata": {},
   "outputs": [
    {
     "data": {
      "text/plain": [
       "(423733, 10)"
      ]
     },
     "execution_count": 11,
     "metadata": {},
     "output_type": "execute_result"
    }
   ],
   "source": [
    "reviews_metadata.shape"
   ]
  },
  {
   "cell_type": "code",
   "execution_count": 12,
   "id": "fluid-plane",
   "metadata": {},
   "outputs": [],
   "source": [
    "index_names = reviews_metadata[ reviews_metadata['main_cat'] != \"Video Games\" ].index\n",
    "reviews_metadata.drop(index_names, inplace = True)"
   ]
  },
  {
   "cell_type": "code",
   "execution_count": 13,
   "id": "comic-karaoke",
   "metadata": {},
   "outputs": [
    {
     "data": {
      "text/plain": [
       "(393212, 10)"
      ]
     },
     "execution_count": 13,
     "metadata": {},
     "output_type": "execute_result"
    }
   ],
   "source": [
    "reviews_metadata.shape"
   ]
  },
  {
   "cell_type": "code",
   "execution_count": 14,
   "id": "coordinate-cross",
   "metadata": {},
   "outputs": [
    {
     "data": {
      "text/html": [
       "<div>\n",
       "<style scoped>\n",
       "    .dataframe tbody tr th:only-of-type {\n",
       "        vertical-align: middle;\n",
       "    }\n",
       "\n",
       "    .dataframe tbody tr th {\n",
       "        vertical-align: top;\n",
       "    }\n",
       "\n",
       "    .dataframe thead th {\n",
       "        text-align: right;\n",
       "    }\n",
       "</style>\n",
       "<table border=\"1\" class=\"dataframe\">\n",
       "  <thead>\n",
       "    <tr style=\"text-align: right;\">\n",
       "      <th></th>\n",
       "      <th>asin</th>\n",
       "      <th>reviewerID</th>\n",
       "      <th>overall</th>\n",
       "      <th>reviewTime</th>\n",
       "      <th>title</th>\n",
       "      <th>category</th>\n",
       "      <th>main_cat</th>\n",
       "      <th>imageURLHighRes</th>\n",
       "      <th>reviews</th>\n",
       "    </tr>\n",
       "  </thead>\n",
       "  <tbody>\n",
       "    <tr>\n",
       "      <th>0</th>\n",
       "      <td>0700026657</td>\n",
       "      <td>A1HP7NVNPFMA4N</td>\n",
       "      <td>5</td>\n",
       "      <td>10 17, 2015</td>\n",
       "      <td>Anno 2070</td>\n",
       "      <td>[Video Games, PC, Games]</td>\n",
       "      <td>Video Games</td>\n",
       "      <td>[https://images-na.ssl-images-amazon.com/images/I/51naywTctIL.jpg]</td>\n",
       "      <td>This game is a bit hard to get the hang of, but when you do it's great. but when you do it's great.</td>\n",
       "    </tr>\n",
       "    <tr>\n",
       "      <th>1</th>\n",
       "      <td>0700026657</td>\n",
       "      <td>A1JGAP0185YJI6</td>\n",
       "      <td>4</td>\n",
       "      <td>07 27, 2015</td>\n",
       "      <td>Anno 2070</td>\n",
       "      <td>[Video Games, PC, Games]</td>\n",
       "      <td>Video Games</td>\n",
       "      <td>[https://images-na.ssl-images-amazon.com/images/I/51naywTctIL.jpg]</td>\n",
       "      <td>I played it a while but it was alright. The steam was a bit of trouble. The more they move these...</td>\n",
       "    </tr>\n",
       "    <tr>\n",
       "      <th>2</th>\n",
       "      <td>0700026657</td>\n",
       "      <td>A1YJWEXHQBWK2B</td>\n",
       "      <td>3</td>\n",
       "      <td>02 23, 2015</td>\n",
       "      <td>Anno 2070</td>\n",
       "      <td>[Video Games, PC, Games]</td>\n",
       "      <td>Video Games</td>\n",
       "      <td>[https://images-na.ssl-images-amazon.com/images/I/51naywTctIL.jpg]</td>\n",
       "      <td>ok game. Three Stars</td>\n",
       "    </tr>\n",
       "    <tr>\n",
       "      <th>3</th>\n",
       "      <td>0700026657</td>\n",
       "      <td>A2204E1TH211HT</td>\n",
       "      <td>2</td>\n",
       "      <td>02 20, 2015</td>\n",
       "      <td>Anno 2070</td>\n",
       "      <td>[Video Games, PC, Games]</td>\n",
       "      <td>Video Games</td>\n",
       "      <td>[https://images-na.ssl-images-amazon.com/images/I/51naywTctIL.jpg]</td>\n",
       "      <td>found the game a bit too complicated, not what I expected after having played 1602, 1503, and 17...</td>\n",
       "    </tr>\n",
       "    <tr>\n",
       "      <th>4</th>\n",
       "      <td>0700026657</td>\n",
       "      <td>A2RF5B5H74JLPE</td>\n",
       "      <td>5</td>\n",
       "      <td>12 25, 2014</td>\n",
       "      <td>Anno 2070</td>\n",
       "      <td>[Video Games, PC, Games]</td>\n",
       "      <td>Video Games</td>\n",
       "      <td>[https://images-na.ssl-images-amazon.com/images/I/51naywTctIL.jpg]</td>\n",
       "      <td>great game, I love it and have played it since its arrived love this game</td>\n",
       "    </tr>\n",
       "  </tbody>\n",
       "</table>\n",
       "</div>"
      ],
      "text/plain": [
       "         asin      reviewerID  overall   reviewTime      title  \\\n",
       "0  0700026657  A1HP7NVNPFMA4N        5  10 17, 2015  Anno 2070   \n",
       "1  0700026657  A1JGAP0185YJI6        4  07 27, 2015  Anno 2070   \n",
       "2  0700026657  A1YJWEXHQBWK2B        3  02 23, 2015  Anno 2070   \n",
       "3  0700026657  A2204E1TH211HT        2  02 20, 2015  Anno 2070   \n",
       "4  0700026657  A2RF5B5H74JLPE        5  12 25, 2014  Anno 2070   \n",
       "\n",
       "                   category     main_cat  \\\n",
       "0  [Video Games, PC, Games]  Video Games   \n",
       "1  [Video Games, PC, Games]  Video Games   \n",
       "2  [Video Games, PC, Games]  Video Games   \n",
       "3  [Video Games, PC, Games]  Video Games   \n",
       "4  [Video Games, PC, Games]  Video Games   \n",
       "\n",
       "                                                      imageURLHighRes  \\\n",
       "0  [https://images-na.ssl-images-amazon.com/images/I/51naywTctIL.jpg]   \n",
       "1  [https://images-na.ssl-images-amazon.com/images/I/51naywTctIL.jpg]   \n",
       "2  [https://images-na.ssl-images-amazon.com/images/I/51naywTctIL.jpg]   \n",
       "3  [https://images-na.ssl-images-amazon.com/images/I/51naywTctIL.jpg]   \n",
       "4  [https://images-na.ssl-images-amazon.com/images/I/51naywTctIL.jpg]   \n",
       "\n",
       "                                                                                               reviews  \n",
       "0  This game is a bit hard to get the hang of, but when you do it's great. but when you do it's great.  \n",
       "1  I played it a while but it was alright. The steam was a bit of trouble. The more they move these...  \n",
       "2                                                                                 ok game. Three Stars  \n",
       "3  found the game a bit too complicated, not what I expected after having played 1602, 1503, and 17...  \n",
       "4                            great game, I love it and have played it since its arrived love this game  "
      ]
     },
     "execution_count": 14,
     "metadata": {},
     "output_type": "execute_result"
    }
   ],
   "source": [
    "reviews_metadata['reviews']=reviews_metadata['reviewText']+\" \" +reviews_metadata['summary'].fillna('')\n",
    "reviews_metadata=reviews_metadata.drop(['reviewText', 'summary'], axis=1)\n",
    "reviews_metadata.head()"
   ]
  },
  {
   "cell_type": "code",
   "execution_count": 15,
   "id": "unable-value",
   "metadata": {},
   "outputs": [
    {
     "data": {
      "text/plain": [
       "['Video Games', 'PC', 'Games', '</span></span></span>']                                                                                                                                                                                                                                                                                                                                                                                                                                                                                                                                               30862\n",
       "['Video Games', 'Xbox 360', 'Games', '</span></span></span>']                                                                                                                                                                                                                                                                                                                                                                                                                                                                                                                                         27424\n",
       "['Video Games', 'PlayStation 3', 'Games', '</span></span></span>']                                                                                                                                                                                                                                                                                                                                                                                                                                                                                                                                    23964\n",
       "['Video Games', 'PlayStation 4', 'Games', '</span></span></span>']                                                                                                                                                                                                                                                                                                                                                                                                                                                                                                                                    18959\n",
       "['Video Games', 'Retro Gaming & Microconsoles', 'PlayStation 2', 'Games', '</span></span></span>']                                                                                                                                                                                                                                                                                                                                                                                                                                                                                                    11653\n",
       "                                                                                                                                                                                                                                                                                                                                                                                                                                                                                                                                                                                                      ...  \n",
       "['Video Games', 'Xbox 360', 'Accessories', 'Cases & Storage', '</span></span></span>', 'Transport your Xbox 360 games, console and a variety of accessories', 'Soft shoulder strap and protective casing make traveling a breeze', 'Velcro panel opens to allow access to ports on back of XBOX 360', 'Room for discs, controllers, cables, memory, and more', 'Includes carrying bag for Xbox 360']                                                                                                                                                                                                      1\n",
       "['Video Games', 'PC', 'Games', '</span></span></span>', 'Largest and best jigsaw puzzle collection ever!', 'Unlimited jigsaw puzzle play  with built-in editors, never run out of puzzles!', 'Puzzle Master among the best-selling puzzle franchises ever!', 'Bonus 3D puzzles included!', 'Create screensavers and desktop wallpaper!']                                                                                                                                                                                                                                                                  1\n",
       "['Video Games', 'Wii', 'Accessories', 'Sensor Bars', '</span></span></span>', 'Incredible range-up to 30 feet', 'No batteries-includes AC adapter and USB connection for power.', 'No connection to the Wii', 'Eliminates most cursor jitter', 'designed for home theater systems']                                                                                                                                                                                                                                                                                                                       1\n",
       "['Video Games', 'Sony PSP', 'Accessories', 'Speakers', '</span></span></span>', '2.1 Sub-woofer Speaker System - 12 Watts RMS - 120 Watts PMPO. Enhanced sound system for the PSP utilizes a subwoofer, dynamic tweeter speakers and a 3D surround-sound processor', 'Operates from AC Adaptor (included) or Batteries 4xAA (not included)', 'Blue soft-light illumination and LED power indicator', 'Recharging station for PSP', 'Extra long 3.5mm Stereo line-in for playing PSP whilst connected to speaker system or for connecting other audio devices like iPods, MP3, MD, CD player. etc']        1\n",
       "['Video Games', 'PlayStation 3', 'Accessories', 'Controllers', 'Dance Pads', '</span></span></span>', 'Native USB connection, easy Plug-N-Play', 'Compatible with 20 GB, 60 GB and 80 GB Playstation 3 systems', 'Foam Inserts for Exceptional Comfort', 'Arcade sized circuitry', 'Non-Slip super soft surface']                                                                                                                                                                                                                                                                                         1\n",
       "Name: category, Length: 3804, dtype: int64"
      ]
     },
     "execution_count": 15,
     "metadata": {},
     "output_type": "execute_result"
    }
   ],
   "source": [
    "reviews_metadata['category'].astype('str').value_counts()"
   ]
  },
  {
   "cell_type": "code",
   "execution_count": 16,
   "id": "lonely-wedding",
   "metadata": {
    "scrolled": true
   },
   "outputs": [
    {
     "data": {
      "text/plain": [
       "asin               object\n",
       "reviewerID         object\n",
       "overall             int64\n",
       "reviewTime         object\n",
       "title              object\n",
       "category           object\n",
       "main_cat           object\n",
       "imageURLHighRes    object\n",
       "reviews            object\n",
       "dtype: object"
      ]
     },
     "execution_count": 16,
     "metadata": {},
     "output_type": "execute_result"
    }
   ],
   "source": [
    "reviews_metadata.dtypes"
   ]
  },
  {
   "cell_type": "code",
   "execution_count": 17,
   "id": "chemical-shopping",
   "metadata": {},
   "outputs": [],
   "source": [
    "reviews_metadata['category'] = pd.Series(reviews_metadata['category'], dtype='string')"
   ]
  },
  {
   "cell_type": "code",
   "execution_count": 18,
   "id": "primary-portrait",
   "metadata": {},
   "outputs": [
    {
     "name": "stderr",
     "output_type": "stream",
     "text": [
      "<ipython-input-18-6572a9eebd64>:2: SettingWithCopyWarning: \n",
      "A value is trying to be set on a copy of a slice from a DataFrame.\n",
      "Try using .loc[row_indexer,col_indexer] = value instead\n",
      "\n",
      "See the caveats in the documentation: https://pandas.pydata.org/pandas-docs/stable/user_guide/indexing.html#returning-a-view-versus-a-copy\n",
      "  pcreviews['category'] = 'PC'\n"
     ]
    },
    {
     "data": {
      "text/html": [
       "<div>\n",
       "<style scoped>\n",
       "    .dataframe tbody tr th:only-of-type {\n",
       "        vertical-align: middle;\n",
       "    }\n",
       "\n",
       "    .dataframe tbody tr th {\n",
       "        vertical-align: top;\n",
       "    }\n",
       "\n",
       "    .dataframe thead th {\n",
       "        text-align: right;\n",
       "    }\n",
       "</style>\n",
       "<table border=\"1\" class=\"dataframe\">\n",
       "  <thead>\n",
       "    <tr style=\"text-align: right;\">\n",
       "      <th></th>\n",
       "      <th>asin</th>\n",
       "      <th>reviewerID</th>\n",
       "      <th>overall</th>\n",
       "      <th>reviewTime</th>\n",
       "      <th>title</th>\n",
       "      <th>category</th>\n",
       "      <th>main_cat</th>\n",
       "      <th>imageURLHighRes</th>\n",
       "      <th>reviews</th>\n",
       "    </tr>\n",
       "  </thead>\n",
       "  <tbody>\n",
       "    <tr>\n",
       "      <th>707</th>\n",
       "      <td>B00000DMAN</td>\n",
       "      <td>ADP72IJRH95ZG</td>\n",
       "      <td>5</td>\n",
       "      <td>11 28, 1999</td>\n",
       "      <td>The X-Files Game</td>\n",
       "      <td>PC</td>\n",
       "      <td>Video Games</td>\n",
       "      <td>[https://images-na.ssl-images-amazon.com/images/I/31BDm2VqflL.jpg]</td>\n",
       "      <td>This game is a lot of fun, with a creepy atmosphere that revolves around the disappearance of Ag...</td>\n",
       "    </tr>\n",
       "    <tr>\n",
       "      <th>708</th>\n",
       "      <td>B00000DMAN</td>\n",
       "      <td>A116ZSMZRT9RUN</td>\n",
       "      <td>4</td>\n",
       "      <td>03 5, 2003</td>\n",
       "      <td>The X-Files Game</td>\n",
       "      <td>PC</td>\n",
       "      <td>Video Games</td>\n",
       "      <td>[https://images-na.ssl-images-amazon.com/images/I/31BDm2VqflL.jpg]</td>\n",
       "      <td>This was not the best mystery/adventure game I've ever played, and I'm not even a big fan of suc...</td>\n",
       "    </tr>\n",
       "    <tr>\n",
       "      <th>709</th>\n",
       "      <td>B00000DMAN</td>\n",
       "      <td>A160AB64G2E949</td>\n",
       "      <td>4</td>\n",
       "      <td>02 13, 2001</td>\n",
       "      <td>The X-Files Game</td>\n",
       "      <td>PC</td>\n",
       "      <td>Video Games</td>\n",
       "      <td>[https://images-na.ssl-images-amazon.com/images/I/31BDm2VqflL.jpg]</td>\n",
       "      <td>This was a pretty good game, but not a great game. I'd probably rate this closer to 3 1/2 stars....</td>\n",
       "    </tr>\n",
       "    <tr>\n",
       "      <th>710</th>\n",
       "      <td>B00000DMAN</td>\n",
       "      <td>A2L375A8IWXEGI</td>\n",
       "      <td>4</td>\n",
       "      <td>08 19, 2000</td>\n",
       "      <td>The X-Files Game</td>\n",
       "      <td>PC</td>\n",
       "      <td>Video Games</td>\n",
       "      <td>[https://images-na.ssl-images-amazon.com/images/I/31BDm2VqflL.jpg]</td>\n",
       "      <td>We stopped watching the series (lack of time) and so this was a nice way  to keep the excitement...</td>\n",
       "    </tr>\n",
       "    <tr>\n",
       "      <th>711</th>\n",
       "      <td>B00000DMAN</td>\n",
       "      <td>A3S87ZOPB3UM9N</td>\n",
       "      <td>5</td>\n",
       "      <td>07 27, 2000</td>\n",
       "      <td>The X-Files Game</td>\n",
       "      <td>PC</td>\n",
       "      <td>Video Games</td>\n",
       "      <td>[https://images-na.ssl-images-amazon.com/images/I/31BDm2VqflL.jpg]</td>\n",
       "      <td>As a fan of Myst and Riven, I would not put this game in the same  category.  However, it does e...</td>\n",
       "    </tr>\n",
       "    <tr>\n",
       "      <th>774</th>\n",
       "      <td>B00000DMAM</td>\n",
       "      <td>A1PN2U0AWXGVML</td>\n",
       "      <td>5</td>\n",
       "      <td>12 15, 1999</td>\n",
       "      <td>Unreal (Jewel Case) - PC</td>\n",
       "      <td>PC</td>\n",
       "      <td>Video Games</td>\n",
       "      <td>[https://images-na.ssl-images-amazon.com/images/I/61Q248NAJFL.jpg, https://images-na.ssl-images-...</td>\n",
       "      <td>This game is fun to play just for looking at all of the scenery. I enjoy all the brilliant color...</td>\n",
       "    </tr>\n",
       "    <tr>\n",
       "      <th>775</th>\n",
       "      <td>B00000DMAM</td>\n",
       "      <td>A3NK7ASILKG3TX</td>\n",
       "      <td>4</td>\n",
       "      <td>11 25, 1999</td>\n",
       "      <td>Unreal (Jewel Case) - PC</td>\n",
       "      <td>PC</td>\n",
       "      <td>Video Games</td>\n",
       "      <td>[https://images-na.ssl-images-amazon.com/images/I/61Q248NAJFL.jpg, https://images-na.ssl-images-...</td>\n",
       "      <td>In my humble oppinion this game is better the Quake II. The graphics is better, and the sound is...</td>\n",
       "    </tr>\n",
       "    <tr>\n",
       "      <th>776</th>\n",
       "      <td>B00000DMAM</td>\n",
       "      <td>A3E68QNSCABRVW</td>\n",
       "      <td>5</td>\n",
       "      <td>11 1, 2008</td>\n",
       "      <td>Unreal (Jewel Case) - PC</td>\n",
       "      <td>PC</td>\n",
       "      <td>Video Games</td>\n",
       "      <td>[https://images-na.ssl-images-amazon.com/images/I/61Q248NAJFL.jpg, https://images-na.ssl-images-...</td>\n",
       "      <td>I was feeling nostalgic last week so I started playing Unreal again.  Probably for my third time...</td>\n",
       "    </tr>\n",
       "    <tr>\n",
       "      <th>777</th>\n",
       "      <td>B00000DMAM</td>\n",
       "      <td>AV8287BM8LJN6</td>\n",
       "      <td>5</td>\n",
       "      <td>01 14, 2006</td>\n",
       "      <td>Unreal (Jewel Case) - PC</td>\n",
       "      <td>PC</td>\n",
       "      <td>Video Games</td>\n",
       "      <td>[https://images-na.ssl-images-amazon.com/images/I/61Q248NAJFL.jpg, https://images-na.ssl-images-...</td>\n",
       "      <td>The game may be old, but it's still fun as hell. The scenery and graphics are really not that ba...</td>\n",
       "    </tr>\n",
       "    <tr>\n",
       "      <th>778</th>\n",
       "      <td>B00000DMAM</td>\n",
       "      <td>A1JHJ48J9EZNMH</td>\n",
       "      <td>4</td>\n",
       "      <td>03 22, 2004</td>\n",
       "      <td>Unreal (Jewel Case) - PC</td>\n",
       "      <td>PC</td>\n",
       "      <td>Video Games</td>\n",
       "      <td>[https://images-na.ssl-images-amazon.com/images/I/61Q248NAJFL.jpg, https://images-na.ssl-images-...</td>\n",
       "      <td>I played unreal when I was 9 and beat it in a week.\\nThe game is just plain awsome.  Unfortenutl...</td>\n",
       "    </tr>\n",
       "  </tbody>\n",
       "</table>\n",
       "</div>"
      ],
      "text/plain": [
       "           asin      reviewerID  overall   reviewTime  \\\n",
       "707  B00000DMAN   ADP72IJRH95ZG        5  11 28, 1999   \n",
       "708  B00000DMAN  A116ZSMZRT9RUN        4   03 5, 2003   \n",
       "709  B00000DMAN  A160AB64G2E949        4  02 13, 2001   \n",
       "710  B00000DMAN  A2L375A8IWXEGI        4  08 19, 2000   \n",
       "711  B00000DMAN  A3S87ZOPB3UM9N        5  07 27, 2000   \n",
       "774  B00000DMAM  A1PN2U0AWXGVML        5  12 15, 1999   \n",
       "775  B00000DMAM  A3NK7ASILKG3TX        4  11 25, 1999   \n",
       "776  B00000DMAM  A3E68QNSCABRVW        5   11 1, 2008   \n",
       "777  B00000DMAM   AV8287BM8LJN6        5  01 14, 2006   \n",
       "778  B00000DMAM  A1JHJ48J9EZNMH        4  03 22, 2004   \n",
       "\n",
       "                        title category     main_cat  \\\n",
       "707          The X-Files Game       PC  Video Games   \n",
       "708          The X-Files Game       PC  Video Games   \n",
       "709          The X-Files Game       PC  Video Games   \n",
       "710          The X-Files Game       PC  Video Games   \n",
       "711          The X-Files Game       PC  Video Games   \n",
       "774  Unreal (Jewel Case) - PC       PC  Video Games   \n",
       "775  Unreal (Jewel Case) - PC       PC  Video Games   \n",
       "776  Unreal (Jewel Case) - PC       PC  Video Games   \n",
       "777  Unreal (Jewel Case) - PC       PC  Video Games   \n",
       "778  Unreal (Jewel Case) - PC       PC  Video Games   \n",
       "\n",
       "                                                                                         imageURLHighRes  \\\n",
       "707                                   [https://images-na.ssl-images-amazon.com/images/I/31BDm2VqflL.jpg]   \n",
       "708                                   [https://images-na.ssl-images-amazon.com/images/I/31BDm2VqflL.jpg]   \n",
       "709                                   [https://images-na.ssl-images-amazon.com/images/I/31BDm2VqflL.jpg]   \n",
       "710                                   [https://images-na.ssl-images-amazon.com/images/I/31BDm2VqflL.jpg]   \n",
       "711                                   [https://images-na.ssl-images-amazon.com/images/I/31BDm2VqflL.jpg]   \n",
       "774  [https://images-na.ssl-images-amazon.com/images/I/61Q248NAJFL.jpg, https://images-na.ssl-images-...   \n",
       "775  [https://images-na.ssl-images-amazon.com/images/I/61Q248NAJFL.jpg, https://images-na.ssl-images-...   \n",
       "776  [https://images-na.ssl-images-amazon.com/images/I/61Q248NAJFL.jpg, https://images-na.ssl-images-...   \n",
       "777  [https://images-na.ssl-images-amazon.com/images/I/61Q248NAJFL.jpg, https://images-na.ssl-images-...   \n",
       "778  [https://images-na.ssl-images-amazon.com/images/I/61Q248NAJFL.jpg, https://images-na.ssl-images-...   \n",
       "\n",
       "                                                                                                 reviews  \n",
       "707  This game is a lot of fun, with a creepy atmosphere that revolves around the disappearance of Ag...  \n",
       "708  This was not the best mystery/adventure game I've ever played, and I'm not even a big fan of suc...  \n",
       "709  This was a pretty good game, but not a great game. I'd probably rate this closer to 3 1/2 stars....  \n",
       "710  We stopped watching the series (lack of time) and so this was a nice way  to keep the excitement...  \n",
       "711  As a fan of Myst and Riven, I would not put this game in the same  category.  However, it does e...  \n",
       "774  This game is fun to play just for looking at all of the scenery. I enjoy all the brilliant color...  \n",
       "775  In my humble oppinion this game is better the Quake II. The graphics is better, and the sound is...  \n",
       "776  I was feeling nostalgic last week so I started playing Unreal again.  Probably for my third time...  \n",
       "777  The game may be old, but it's still fun as hell. The scenery and graphics are really not that ba...  \n",
       "778  I played unreal when I was 9 and beat it in a week.\\nThe game is just plain awsome.  Unfortenutl...  "
      ]
     },
     "execution_count": 18,
     "metadata": {},
     "output_type": "execute_result"
    }
   ],
   "source": [
    "pcreviews = reviews_metadata[reviews_metadata.category.apply(lambda x: x == \"['Video Games', 'PC', 'Games', '</span></span></span>']\" )]\n",
    "pcreviews['category'] = 'PC'\n",
    "pcreviews.head(10)"
   ]
  },
  {
   "cell_type": "code",
   "execution_count": 19,
   "id": "general-testament",
   "metadata": {},
   "outputs": [
    {
     "name": "stderr",
     "output_type": "stream",
     "text": [
      "<ipython-input-19-ac52908a5d9c>:2: SettingWithCopyWarning: \n",
      "A value is trying to be set on a copy of a slice from a DataFrame.\n",
      "Try using .loc[row_indexer,col_indexer] = value instead\n",
      "\n",
      "See the caveats in the documentation: https://pandas.pydata.org/pandas-docs/stable/user_guide/indexing.html#returning-a-view-versus-a-copy\n",
      "  psreviews['category'] = 'Playstation'\n"
     ]
    },
    {
     "data": {
      "text/html": [
       "<div>\n",
       "<style scoped>\n",
       "    .dataframe tbody tr th:only-of-type {\n",
       "        vertical-align: middle;\n",
       "    }\n",
       "\n",
       "    .dataframe tbody tr th {\n",
       "        vertical-align: top;\n",
       "    }\n",
       "\n",
       "    .dataframe thead th {\n",
       "        text-align: right;\n",
       "    }\n",
       "</style>\n",
       "<table border=\"1\" class=\"dataframe\">\n",
       "  <thead>\n",
       "    <tr style=\"text-align: right;\">\n",
       "      <th></th>\n",
       "      <th>asin</th>\n",
       "      <th>reviewerID</th>\n",
       "      <th>overall</th>\n",
       "      <th>reviewTime</th>\n",
       "      <th>title</th>\n",
       "      <th>category</th>\n",
       "      <th>main_cat</th>\n",
       "      <th>imageURLHighRes</th>\n",
       "      <th>reviews</th>\n",
       "    </tr>\n",
       "  </thead>\n",
       "  <tbody>\n",
       "    <tr>\n",
       "      <th>169648</th>\n",
       "      <td>B000FQ2D5E</td>\n",
       "      <td>A33YCKZX1TZJD0</td>\n",
       "      <td>5</td>\n",
       "      <td>09 23, 2017</td>\n",
       "      <td>Metal Gear Solid 4: Guns of the Patriots</td>\n",
       "      <td>Playstation</td>\n",
       "      <td>Video Games</td>\n",
       "      <td>[https://images-na.ssl-images-amazon.com/images/I/51NiJ21M3jL.jpg, https://images-na.ssl-images-...</td>\n",
       "      <td>Perfect gift... Perfect gift...</td>\n",
       "    </tr>\n",
       "    <tr>\n",
       "      <th>169649</th>\n",
       "      <td>B000FQ2D5E</td>\n",
       "      <td>A36NHTSGO54XFM</td>\n",
       "      <td>5</td>\n",
       "      <td>08 25, 2017</td>\n",
       "      <td>Metal Gear Solid 4: Guns of the Patriots</td>\n",
       "      <td>Playstation</td>\n",
       "      <td>Video Games</td>\n",
       "      <td>[https://images-na.ssl-images-amazon.com/images/I/51NiJ21M3jL.jpg, https://images-na.ssl-images-...</td>\n",
       "      <td>Basically one day maybe two days with the game and 5 hours with the movie steel very epic game i...</td>\n",
       "    </tr>\n",
       "    <tr>\n",
       "      <th>169650</th>\n",
       "      <td>B000FQ2D5E</td>\n",
       "      <td>A3LM6OX0ECBTB1</td>\n",
       "      <td>5</td>\n",
       "      <td>08 15, 2017</td>\n",
       "      <td>Metal Gear Solid 4: Guns of the Patriots</td>\n",
       "      <td>Playstation</td>\n",
       "      <td>Video Games</td>\n",
       "      <td>[https://images-na.ssl-images-amazon.com/images/I/51NiJ21M3jL.jpg, https://images-na.ssl-images-...</td>\n",
       "      <td>Very Good Very Good</td>\n",
       "    </tr>\n",
       "    <tr>\n",
       "      <th>169651</th>\n",
       "      <td>B000FQ2D5E</td>\n",
       "      <td>A1JJMHF8QZQOLN</td>\n",
       "      <td>5</td>\n",
       "      <td>08 14, 2017</td>\n",
       "      <td>Metal Gear Solid 4: Guns of the Patriots</td>\n",
       "      <td>Playstation</td>\n",
       "      <td>Video Games</td>\n",
       "      <td>[https://images-na.ssl-images-amazon.com/images/I/51NiJ21M3jL.jpg, https://images-na.ssl-images-...</td>\n",
       "      <td>GOOD ITEM! Five Stars</td>\n",
       "    </tr>\n",
       "    <tr>\n",
       "      <th>169652</th>\n",
       "      <td>B000FQ2D5E</td>\n",
       "      <td>A1RS06313BL6WN</td>\n",
       "      <td>5</td>\n",
       "      <td>06 8, 2017</td>\n",
       "      <td>Metal Gear Solid 4: Guns of the Patriots</td>\n",
       "      <td>Playstation</td>\n",
       "      <td>Video Games</td>\n",
       "      <td>[https://images-na.ssl-images-amazon.com/images/I/51NiJ21M3jL.jpg, https://images-na.ssl-images-...</td>\n",
       "      <td>Love this game. Five Stars</td>\n",
       "    </tr>\n",
       "  </tbody>\n",
       "</table>\n",
       "</div>"
      ],
      "text/plain": [
       "              asin      reviewerID  overall   reviewTime  \\\n",
       "169648  B000FQ2D5E  A33YCKZX1TZJD0        5  09 23, 2017   \n",
       "169649  B000FQ2D5E  A36NHTSGO54XFM        5  08 25, 2017   \n",
       "169650  B000FQ2D5E  A3LM6OX0ECBTB1        5  08 15, 2017   \n",
       "169651  B000FQ2D5E  A1JJMHF8QZQOLN        5  08 14, 2017   \n",
       "169652  B000FQ2D5E  A1RS06313BL6WN        5   06 8, 2017   \n",
       "\n",
       "                                           title     category     main_cat  \\\n",
       "169648  Metal Gear Solid 4: Guns of the Patriots  Playstation  Video Games   \n",
       "169649  Metal Gear Solid 4: Guns of the Patriots  Playstation  Video Games   \n",
       "169650  Metal Gear Solid 4: Guns of the Patriots  Playstation  Video Games   \n",
       "169651  Metal Gear Solid 4: Guns of the Patriots  Playstation  Video Games   \n",
       "169652  Metal Gear Solid 4: Guns of the Patriots  Playstation  Video Games   \n",
       "\n",
       "                                                                                            imageURLHighRes  \\\n",
       "169648  [https://images-na.ssl-images-amazon.com/images/I/51NiJ21M3jL.jpg, https://images-na.ssl-images-...   \n",
       "169649  [https://images-na.ssl-images-amazon.com/images/I/51NiJ21M3jL.jpg, https://images-na.ssl-images-...   \n",
       "169650  [https://images-na.ssl-images-amazon.com/images/I/51NiJ21M3jL.jpg, https://images-na.ssl-images-...   \n",
       "169651  [https://images-na.ssl-images-amazon.com/images/I/51NiJ21M3jL.jpg, https://images-na.ssl-images-...   \n",
       "169652  [https://images-na.ssl-images-amazon.com/images/I/51NiJ21M3jL.jpg, https://images-na.ssl-images-...   \n",
       "\n",
       "                                                                                                    reviews  \n",
       "169648                                                                      Perfect gift... Perfect gift...  \n",
       "169649  Basically one day maybe two days with the game and 5 hours with the movie steel very epic game i...  \n",
       "169650                                                                                  Very Good Very Good  \n",
       "169651                                                                                GOOD ITEM! Five Stars  \n",
       "169652                                                                           Love this game. Five Stars  "
      ]
     },
     "execution_count": 19,
     "metadata": {},
     "output_type": "execute_result"
    }
   ],
   "source": [
    "psreviews = reviews_metadata[reviews_metadata.category.apply(lambda x: x == \"['Video Games', 'PlayStation 3', 'Games', '</span></span></span>']\" or x == \"['Video Games', 'PlayStation 4', 'Games', '</span></span></span>']\" )]\n",
    "psreviews['category'] = 'Playstation'\n",
    "psreviews.head()"
   ]
  },
  {
   "cell_type": "code",
   "execution_count": 20,
   "id": "still-centre",
   "metadata": {},
   "outputs": [
    {
     "name": "stderr",
     "output_type": "stream",
     "text": [
      "<ipython-input-20-99a7553ebb08>:2: SettingWithCopyWarning: \n",
      "A value is trying to be set on a copy of a slice from a DataFrame.\n",
      "Try using .loc[row_indexer,col_indexer] = value instead\n",
      "\n",
      "See the caveats in the documentation: https://pandas.pydata.org/pandas-docs/stable/user_guide/indexing.html#returning-a-view-versus-a-copy\n",
      "  xboxreviews['category'] = 'Xbox'\n"
     ]
    },
    {
     "data": {
      "text/html": [
       "<div>\n",
       "<style scoped>\n",
       "    .dataframe tbody tr th:only-of-type {\n",
       "        vertical-align: middle;\n",
       "    }\n",
       "\n",
       "    .dataframe tbody tr th {\n",
       "        vertical-align: top;\n",
       "    }\n",
       "\n",
       "    .dataframe thead th {\n",
       "        text-align: right;\n",
       "    }\n",
       "</style>\n",
       "<table border=\"1\" class=\"dataframe\">\n",
       "  <thead>\n",
       "    <tr style=\"text-align: right;\">\n",
       "      <th></th>\n",
       "      <th>asin</th>\n",
       "      <th>reviewerID</th>\n",
       "      <th>overall</th>\n",
       "      <th>reviewTime</th>\n",
       "      <th>title</th>\n",
       "      <th>category</th>\n",
       "      <th>main_cat</th>\n",
       "      <th>imageURLHighRes</th>\n",
       "      <th>reviews</th>\n",
       "    </tr>\n",
       "  </thead>\n",
       "  <tbody>\n",
       "    <tr>\n",
       "      <th>152688</th>\n",
       "      <td>B0009S4UOA</td>\n",
       "      <td>A32H8MZ3QLM5T0</td>\n",
       "      <td>5</td>\n",
       "      <td>11 16, 2005</td>\n",
       "      <td>Call of Duty 2 - Xbox 360</td>\n",
       "      <td>Xbox</td>\n",
       "      <td>Video Games</td>\n",
       "      <td>[https://images-na.ssl-images-amazon.com/images/I/51mrKT%2BkspL.jpg, https://images-na.ssl-image...</td>\n",
       "      <td>Call of Duty 2 is going to be a REALLY TOTAL AWESOME game to play\\n\\nI give it 5 Stars \"Highly R...</td>\n",
       "    </tr>\n",
       "    <tr>\n",
       "      <th>152689</th>\n",
       "      <td>B0009S4UOA</td>\n",
       "      <td>A1ZFAM8SK8W8K</td>\n",
       "      <td>5</td>\n",
       "      <td>08 29, 2016</td>\n",
       "      <td>Call of Duty 2 - Xbox 360</td>\n",
       "      <td>Xbox</td>\n",
       "      <td>Video Games</td>\n",
       "      <td>[https://images-na.ssl-images-amazon.com/images/I/51mrKT%2BkspL.jpg, https://images-na.ssl-image...</td>\n",
       "      <td>it came in the mail in mint condition, will order again soon if i have to Five Stars</td>\n",
       "    </tr>\n",
       "    <tr>\n",
       "      <th>152690</th>\n",
       "      <td>B0009S4UOA</td>\n",
       "      <td>A1BM4GLPZZAPWA</td>\n",
       "      <td>5</td>\n",
       "      <td>08 28, 2016</td>\n",
       "      <td>Call of Duty 2 - Xbox 360</td>\n",
       "      <td>Xbox</td>\n",
       "      <td>Video Games</td>\n",
       "      <td>[https://images-na.ssl-images-amazon.com/images/I/51mrKT%2BkspL.jpg, https://images-na.ssl-image...</td>\n",
       "      <td>Being playable through Xbox one's backwards compatibility program it was great to buy and play a...</td>\n",
       "    </tr>\n",
       "    <tr>\n",
       "      <th>152691</th>\n",
       "      <td>B0009S4UOA</td>\n",
       "      <td>A3V5QT5BI3KEWU</td>\n",
       "      <td>5</td>\n",
       "      <td>08 24, 2016</td>\n",
       "      <td>Call of Duty 2 - Xbox 360</td>\n",
       "      <td>Xbox</td>\n",
       "      <td>Video Games</td>\n",
       "      <td>[https://images-na.ssl-images-amazon.com/images/I/51mrKT%2BkspL.jpg, https://images-na.ssl-image...</td>\n",
       "      <td>Now backwards compatible with the Xbox One.  This is a straight up shooter, no perks or other BS...</td>\n",
       "    </tr>\n",
       "    <tr>\n",
       "      <th>152692</th>\n",
       "      <td>B0009S4UOA</td>\n",
       "      <td>A10GW8NI8Z6OSX</td>\n",
       "      <td>2</td>\n",
       "      <td>07 15, 2016</td>\n",
       "      <td>Call of Duty 2 - Xbox 360</td>\n",
       "      <td>Xbox</td>\n",
       "      <td>Video Games</td>\n",
       "      <td>[https://images-na.ssl-images-amazon.com/images/I/51mrKT%2BkspL.jpg, https://images-na.ssl-image...</td>\n",
       "      <td>It was a gift. Two Stars</td>\n",
       "    </tr>\n",
       "  </tbody>\n",
       "</table>\n",
       "</div>"
      ],
      "text/plain": [
       "              asin      reviewerID  overall   reviewTime  \\\n",
       "152688  B0009S4UOA  A32H8MZ3QLM5T0        5  11 16, 2005   \n",
       "152689  B0009S4UOA   A1ZFAM8SK8W8K        5  08 29, 2016   \n",
       "152690  B0009S4UOA  A1BM4GLPZZAPWA        5  08 28, 2016   \n",
       "152691  B0009S4UOA  A3V5QT5BI3KEWU        5  08 24, 2016   \n",
       "152692  B0009S4UOA  A10GW8NI8Z6OSX        2  07 15, 2016   \n",
       "\n",
       "                            title category     main_cat  \\\n",
       "152688  Call of Duty 2 - Xbox 360     Xbox  Video Games   \n",
       "152689  Call of Duty 2 - Xbox 360     Xbox  Video Games   \n",
       "152690  Call of Duty 2 - Xbox 360     Xbox  Video Games   \n",
       "152691  Call of Duty 2 - Xbox 360     Xbox  Video Games   \n",
       "152692  Call of Duty 2 - Xbox 360     Xbox  Video Games   \n",
       "\n",
       "                                                                                            imageURLHighRes  \\\n",
       "152688  [https://images-na.ssl-images-amazon.com/images/I/51mrKT%2BkspL.jpg, https://images-na.ssl-image...   \n",
       "152689  [https://images-na.ssl-images-amazon.com/images/I/51mrKT%2BkspL.jpg, https://images-na.ssl-image...   \n",
       "152690  [https://images-na.ssl-images-amazon.com/images/I/51mrKT%2BkspL.jpg, https://images-na.ssl-image...   \n",
       "152691  [https://images-na.ssl-images-amazon.com/images/I/51mrKT%2BkspL.jpg, https://images-na.ssl-image...   \n",
       "152692  [https://images-na.ssl-images-amazon.com/images/I/51mrKT%2BkspL.jpg, https://images-na.ssl-image...   \n",
       "\n",
       "                                                                                                    reviews  \n",
       "152688  Call of Duty 2 is going to be a REALLY TOTAL AWESOME game to play\\n\\nI give it 5 Stars \"Highly R...  \n",
       "152689                 it came in the mail in mint condition, will order again soon if i have to Five Stars  \n",
       "152690  Being playable through Xbox one's backwards compatibility program it was great to buy and play a...  \n",
       "152691  Now backwards compatible with the Xbox One.  This is a straight up shooter, no perks or other BS...  \n",
       "152692                                                                             It was a gift. Two Stars  "
      ]
     },
     "execution_count": 20,
     "metadata": {},
     "output_type": "execute_result"
    }
   ],
   "source": [
    "xboxreviews = reviews_metadata[reviews_metadata.category.apply(lambda x: x == \"['Video Games', 'Xbox 360', 'Games', '</span></span></span>']\" or x == \"['Video Games', 'Xbox One', 'Games', '</span></span></span>']\" )]\n",
    "xboxreviews['category'] = 'Xbox'\n",
    "xboxreviews.head()"
   ]
  },
  {
   "cell_type": "code",
   "execution_count": 23,
   "id": "structural-poker",
   "metadata": {},
   "outputs": [],
   "source": [
    "keptreviews = pd.concat([pcreviews, psreviews, xboxreviews])"
   ]
  },
  {
   "cell_type": "code",
   "execution_count": 24,
   "id": "accepted-month",
   "metadata": {},
   "outputs": [
    {
     "data": {
      "text/plain": [
       "(111582, 9)"
      ]
     },
     "execution_count": 24,
     "metadata": {},
     "output_type": "execute_result"
    }
   ],
   "source": [
    "keptreviews.shape"
   ]
  },
  {
   "cell_type": "code",
   "execution_count": 25,
   "id": "nearby-cliff",
   "metadata": {
    "scrolled": false
   },
   "outputs": [
    {
     "data": {
      "text/html": [
       "<div>\n",
       "<style scoped>\n",
       "    .dataframe tbody tr th:only-of-type {\n",
       "        vertical-align: middle;\n",
       "    }\n",
       "\n",
       "    .dataframe tbody tr th {\n",
       "        vertical-align: top;\n",
       "    }\n",
       "\n",
       "    .dataframe thead th {\n",
       "        text-align: right;\n",
       "    }\n",
       "</style>\n",
       "<table border=\"1\" class=\"dataframe\">\n",
       "  <thead>\n",
       "    <tr style=\"text-align: right;\">\n",
       "      <th></th>\n",
       "      <th>asin</th>\n",
       "      <th>reviewerID</th>\n",
       "      <th>overall</th>\n",
       "      <th>reviewTime</th>\n",
       "      <th>title</th>\n",
       "      <th>category</th>\n",
       "      <th>main_cat</th>\n",
       "      <th>imageURLHighRes</th>\n",
       "      <th>reviews</th>\n",
       "    </tr>\n",
       "  </thead>\n",
       "  <tbody>\n",
       "    <tr>\n",
       "      <th>707</th>\n",
       "      <td>B00000DMAN</td>\n",
       "      <td>ADP72IJRH95ZG</td>\n",
       "      <td>5</td>\n",
       "      <td>11 28, 1999</td>\n",
       "      <td>The X-Files Game</td>\n",
       "      <td>PC</td>\n",
       "      <td>Video Games</td>\n",
       "      <td>[https://images-na.ssl-images-amazon.com/images/I/31BDm2VqflL.jpg]</td>\n",
       "      <td>This game is a lot of fun, with a creepy atmosphere that revolves around the disappearance of Ag...</td>\n",
       "    </tr>\n",
       "    <tr>\n",
       "      <th>708</th>\n",
       "      <td>B00000DMAN</td>\n",
       "      <td>A116ZSMZRT9RUN</td>\n",
       "      <td>4</td>\n",
       "      <td>03 5, 2003</td>\n",
       "      <td>The X-Files Game</td>\n",
       "      <td>PC</td>\n",
       "      <td>Video Games</td>\n",
       "      <td>[https://images-na.ssl-images-amazon.com/images/I/31BDm2VqflL.jpg]</td>\n",
       "      <td>This was not the best mystery/adventure game I've ever played, and I'm not even a big fan of suc...</td>\n",
       "    </tr>\n",
       "    <tr>\n",
       "      <th>709</th>\n",
       "      <td>B00000DMAN</td>\n",
       "      <td>A160AB64G2E949</td>\n",
       "      <td>4</td>\n",
       "      <td>02 13, 2001</td>\n",
       "      <td>The X-Files Game</td>\n",
       "      <td>PC</td>\n",
       "      <td>Video Games</td>\n",
       "      <td>[https://images-na.ssl-images-amazon.com/images/I/31BDm2VqflL.jpg]</td>\n",
       "      <td>This was a pretty good game, but not a great game. I'd probably rate this closer to 3 1/2 stars....</td>\n",
       "    </tr>\n",
       "    <tr>\n",
       "      <th>710</th>\n",
       "      <td>B00000DMAN</td>\n",
       "      <td>A2L375A8IWXEGI</td>\n",
       "      <td>4</td>\n",
       "      <td>08 19, 2000</td>\n",
       "      <td>The X-Files Game</td>\n",
       "      <td>PC</td>\n",
       "      <td>Video Games</td>\n",
       "      <td>[https://images-na.ssl-images-amazon.com/images/I/31BDm2VqflL.jpg]</td>\n",
       "      <td>We stopped watching the series (lack of time) and so this was a nice way  to keep the excitement...</td>\n",
       "    </tr>\n",
       "    <tr>\n",
       "      <th>711</th>\n",
       "      <td>B00000DMAN</td>\n",
       "      <td>A3S87ZOPB3UM9N</td>\n",
       "      <td>5</td>\n",
       "      <td>07 27, 2000</td>\n",
       "      <td>The X-Files Game</td>\n",
       "      <td>PC</td>\n",
       "      <td>Video Games</td>\n",
       "      <td>[https://images-na.ssl-images-amazon.com/images/I/31BDm2VqflL.jpg]</td>\n",
       "      <td>As a fan of Myst and Riven, I would not put this game in the same  category.  However, it does e...</td>\n",
       "    </tr>\n",
       "  </tbody>\n",
       "</table>\n",
       "</div>"
      ],
      "text/plain": [
       "           asin      reviewerID  overall   reviewTime             title  \\\n",
       "707  B00000DMAN   ADP72IJRH95ZG        5  11 28, 1999  The X-Files Game   \n",
       "708  B00000DMAN  A116ZSMZRT9RUN        4   03 5, 2003  The X-Files Game   \n",
       "709  B00000DMAN  A160AB64G2E949        4  02 13, 2001  The X-Files Game   \n",
       "710  B00000DMAN  A2L375A8IWXEGI        4  08 19, 2000  The X-Files Game   \n",
       "711  B00000DMAN  A3S87ZOPB3UM9N        5  07 27, 2000  The X-Files Game   \n",
       "\n",
       "    category     main_cat  \\\n",
       "707       PC  Video Games   \n",
       "708       PC  Video Games   \n",
       "709       PC  Video Games   \n",
       "710       PC  Video Games   \n",
       "711       PC  Video Games   \n",
       "\n",
       "                                                        imageURLHighRes  \\\n",
       "707  [https://images-na.ssl-images-amazon.com/images/I/31BDm2VqflL.jpg]   \n",
       "708  [https://images-na.ssl-images-amazon.com/images/I/31BDm2VqflL.jpg]   \n",
       "709  [https://images-na.ssl-images-amazon.com/images/I/31BDm2VqflL.jpg]   \n",
       "710  [https://images-na.ssl-images-amazon.com/images/I/31BDm2VqflL.jpg]   \n",
       "711  [https://images-na.ssl-images-amazon.com/images/I/31BDm2VqflL.jpg]   \n",
       "\n",
       "                                                                                                 reviews  \n",
       "707  This game is a lot of fun, with a creepy atmosphere that revolves around the disappearance of Ag...  \n",
       "708  This was not the best mystery/adventure game I've ever played, and I'm not even a big fan of suc...  \n",
       "709  This was a pretty good game, but not a great game. I'd probably rate this closer to 3 1/2 stars....  \n",
       "710  We stopped watching the series (lack of time) and so this was a nice way  to keep the excitement...  \n",
       "711  As a fan of Myst and Riven, I would not put this game in the same  category.  However, it does e...  "
      ]
     },
     "execution_count": 25,
     "metadata": {},
     "output_type": "execute_result"
    }
   ],
   "source": [
    "keptreviews.head()"
   ]
  },
  {
   "cell_type": "code",
   "execution_count": 26,
   "id": "organic-brief",
   "metadata": {
    "scrolled": true
   },
   "outputs": [
    {
     "data": {
      "text/plain": [
       "Video Games    111582\n",
       "Name: main_cat, dtype: int64"
      ]
     },
     "execution_count": 26,
     "metadata": {},
     "output_type": "execute_result"
    }
   ],
   "source": [
    "keptreviews['main_cat'].astype('str').value_counts()"
   ]
  },
  {
   "cell_type": "code",
   "execution_count": 27,
   "id": "paperback-construction",
   "metadata": {},
   "outputs": [],
   "source": [
    "keptreviews = keptreviews.drop(['main_cat', 'reviewerID'], axis =1)"
   ]
  },
  {
   "cell_type": "code",
   "execution_count": 28,
   "id": "operational-tennis",
   "metadata": {},
   "outputs": [
    {
     "name": "stdout",
     "output_type": "stream",
     "text": [
      "<class 'pandas.core.frame.DataFrame'>\n",
      "Int64Index: 111582 entries, 707 to 568959\n",
      "Data columns (total 7 columns):\n",
      " #   Column           Non-Null Count   Dtype \n",
      "---  ------           --------------   ----- \n",
      " 0   asin             111582 non-null  object\n",
      " 1   overall          111582 non-null  int64 \n",
      " 2   reviewTime       111582 non-null  object\n",
      " 3   title            111582 non-null  object\n",
      " 4   category         111582 non-null  object\n",
      " 5   imageURLHighRes  111582 non-null  object\n",
      " 6   reviews          111582 non-null  object\n",
      "dtypes: int64(1), object(6)\n",
      "memory usage: 148.0 MB\n"
     ]
    }
   ],
   "source": [
    "keptreviews.info(memory_usage='deep')"
   ]
  },
  {
   "cell_type": "code",
   "execution_count": 29,
   "id": "productive-alarm",
   "metadata": {
    "scrolled": true
   },
   "outputs": [],
   "source": [
    "keptreviews['imageURLHighRes'] = keptreviews['imageURLHighRes'].str[0]"
   ]
  },
  {
   "cell_type": "code",
   "execution_count": 30,
   "id": "mathematical-property",
   "metadata": {},
   "outputs": [],
   "source": [
    "keptreviews = keptreviews.reset_index(drop=True)"
   ]
  },
  {
   "cell_type": "code",
   "execution_count": 31,
   "id": "chief-filter",
   "metadata": {},
   "outputs": [
    {
     "data": {
      "text/html": [
       "<div>\n",
       "<style scoped>\n",
       "    .dataframe tbody tr th:only-of-type {\n",
       "        vertical-align: middle;\n",
       "    }\n",
       "\n",
       "    .dataframe tbody tr th {\n",
       "        vertical-align: top;\n",
       "    }\n",
       "\n",
       "    .dataframe thead th {\n",
       "        text-align: right;\n",
       "    }\n",
       "</style>\n",
       "<table border=\"1\" class=\"dataframe\">\n",
       "  <thead>\n",
       "    <tr style=\"text-align: right;\">\n",
       "      <th></th>\n",
       "      <th>asin</th>\n",
       "      <th>overall</th>\n",
       "      <th>reviewTime</th>\n",
       "      <th>title</th>\n",
       "      <th>category</th>\n",
       "      <th>imageURLHighRes</th>\n",
       "      <th>reviews</th>\n",
       "    </tr>\n",
       "  </thead>\n",
       "  <tbody>\n",
       "    <tr>\n",
       "      <th>0</th>\n",
       "      <td>B00000DMAN</td>\n",
       "      <td>5</td>\n",
       "      <td>11 28, 1999</td>\n",
       "      <td>The X-Files Game</td>\n",
       "      <td>PC</td>\n",
       "      <td>https://images-na.ssl-images-amazon.com/images/I/31BDm2VqflL.jpg</td>\n",
       "      <td>This game is a lot of fun, with a creepy atmosphere that revolves around the disappearance of Ag...</td>\n",
       "    </tr>\n",
       "    <tr>\n",
       "      <th>1</th>\n",
       "      <td>B00000DMAN</td>\n",
       "      <td>4</td>\n",
       "      <td>03 5, 2003</td>\n",
       "      <td>The X-Files Game</td>\n",
       "      <td>PC</td>\n",
       "      <td>https://images-na.ssl-images-amazon.com/images/I/31BDm2VqflL.jpg</td>\n",
       "      <td>This was not the best mystery/adventure game I've ever played, and I'm not even a big fan of suc...</td>\n",
       "    </tr>\n",
       "    <tr>\n",
       "      <th>2</th>\n",
       "      <td>B00000DMAN</td>\n",
       "      <td>4</td>\n",
       "      <td>02 13, 2001</td>\n",
       "      <td>The X-Files Game</td>\n",
       "      <td>PC</td>\n",
       "      <td>https://images-na.ssl-images-amazon.com/images/I/31BDm2VqflL.jpg</td>\n",
       "      <td>This was a pretty good game, but not a great game. I'd probably rate this closer to 3 1/2 stars....</td>\n",
       "    </tr>\n",
       "    <tr>\n",
       "      <th>3</th>\n",
       "      <td>B00000DMAN</td>\n",
       "      <td>4</td>\n",
       "      <td>08 19, 2000</td>\n",
       "      <td>The X-Files Game</td>\n",
       "      <td>PC</td>\n",
       "      <td>https://images-na.ssl-images-amazon.com/images/I/31BDm2VqflL.jpg</td>\n",
       "      <td>We stopped watching the series (lack of time) and so this was a nice way  to keep the excitement...</td>\n",
       "    </tr>\n",
       "    <tr>\n",
       "      <th>4</th>\n",
       "      <td>B00000DMAN</td>\n",
       "      <td>5</td>\n",
       "      <td>07 27, 2000</td>\n",
       "      <td>The X-Files Game</td>\n",
       "      <td>PC</td>\n",
       "      <td>https://images-na.ssl-images-amazon.com/images/I/31BDm2VqflL.jpg</td>\n",
       "      <td>As a fan of Myst and Riven, I would not put this game in the same  category.  However, it does e...</td>\n",
       "    </tr>\n",
       "  </tbody>\n",
       "</table>\n",
       "</div>"
      ],
      "text/plain": [
       "         asin  overall   reviewTime             title category  \\\n",
       "0  B00000DMAN        5  11 28, 1999  The X-Files Game       PC   \n",
       "1  B00000DMAN        4   03 5, 2003  The X-Files Game       PC   \n",
       "2  B00000DMAN        4  02 13, 2001  The X-Files Game       PC   \n",
       "3  B00000DMAN        4  08 19, 2000  The X-Files Game       PC   \n",
       "4  B00000DMAN        5  07 27, 2000  The X-Files Game       PC   \n",
       "\n",
       "                                                    imageURLHighRes  \\\n",
       "0  https://images-na.ssl-images-amazon.com/images/I/31BDm2VqflL.jpg   \n",
       "1  https://images-na.ssl-images-amazon.com/images/I/31BDm2VqflL.jpg   \n",
       "2  https://images-na.ssl-images-amazon.com/images/I/31BDm2VqflL.jpg   \n",
       "3  https://images-na.ssl-images-amazon.com/images/I/31BDm2VqflL.jpg   \n",
       "4  https://images-na.ssl-images-amazon.com/images/I/31BDm2VqflL.jpg   \n",
       "\n",
       "                                                                                               reviews  \n",
       "0  This game is a lot of fun, with a creepy atmosphere that revolves around the disappearance of Ag...  \n",
       "1  This was not the best mystery/adventure game I've ever played, and I'm not even a big fan of suc...  \n",
       "2  This was a pretty good game, but not a great game. I'd probably rate this closer to 3 1/2 stars....  \n",
       "3  We stopped watching the series (lack of time) and so this was a nice way  to keep the excitement...  \n",
       "4  As a fan of Myst and Riven, I would not put this game in the same  category.  However, it does e...  "
      ]
     },
     "execution_count": 31,
     "metadata": {},
     "output_type": "execute_result"
    }
   ],
   "source": [
    "keptreviews.head()"
   ]
  },
  {
   "cell_type": "code",
   "execution_count": 32,
   "id": "wrapped-ballot",
   "metadata": {},
   "outputs": [
    {
     "data": {
      "text/plain": [
       "(111582, 7)"
      ]
     },
     "execution_count": 32,
     "metadata": {},
     "output_type": "execute_result"
    }
   ],
   "source": [
    "keptreviews.shape"
   ]
  },
  {
   "cell_type": "code",
   "execution_count": 37,
   "id": "fuzzy-hormone",
   "metadata": {},
   "outputs": [],
   "source": [
    "keptreviews.to_json(r'C:\\Users\\dfota\\OneDrive\\Έγγραφα\\Thesis Project\\Amazon-Game-Reviews-Analysis\\Data\\MergedDataset.json')"
   ]
  },
  {
   "cell_type": "code",
   "execution_count": null,
   "id": "invisible-inventory",
   "metadata": {},
   "outputs": [],
   "source": []
  },
  {
   "cell_type": "code",
   "execution_count": null,
   "id": "sealed-gallery",
   "metadata": {},
   "outputs": [],
   "source": []
  }
 ],
 "metadata": {
  "kernelspec": {
   "display_name": "Python 3",
   "language": "python",
   "name": "python3"
  },
  "language_info": {
   "codemirror_mode": {
    "name": "ipython",
    "version": 3
   },
   "file_extension": ".py",
   "mimetype": "text/x-python",
   "name": "python",
   "nbconvert_exporter": "python",
   "pygments_lexer": "ipython3",
   "version": "3.8.1"
  }
 },
 "nbformat": 4,
 "nbformat_minor": 5
}
