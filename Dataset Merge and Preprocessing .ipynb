{
 "cells": [
  {
   "cell_type": "code",
   "execution_count": 1,
   "id": "regular-bargain",
   "metadata": {},
   "outputs": [],
   "source": [
    "import pandas as pd"
   ]
  },
  {
   "cell_type": "code",
   "execution_count": 2,
   "id": "virgin-defense",
   "metadata": {},
   "outputs": [],
   "source": [
    "pd.set_option('display.max_rows', 400)\n",
    "pd.set_option('display.max_colwidth', 100)"
   ]
  },
  {
   "cell_type": "code",
   "execution_count": 3,
   "id": "conservative-bulgaria",
   "metadata": {},
   "outputs": [],
   "source": [
    "reviews = pd.read_json('Video_Gamesnew.json', lines = True)"
   ]
  },
  {
   "cell_type": "code",
   "execution_count": 4,
   "id": "fifth-printing",
   "metadata": {},
   "outputs": [],
   "source": [
    "metadata = pd.read_json('meta_Video_Games.json', lines = True)"
   ]
  },
  {
   "cell_type": "code",
   "execution_count": 5,
   "id": "british-virtue",
   "metadata": {},
   "outputs": [],
   "source": [
    "reviews_metadata = reviews[['asin','reviewerID','overall','reviewTime', 'summary', 'reviewText']].merge(metadata[['asin', 'title', 'category', 'main_cat', 'imageURLHighRes']], on='asin', how='inner')"
   ]
  },
  {
   "cell_type": "code",
   "execution_count": 6,
   "id": "saved-making",
   "metadata": {},
   "outputs": [
    {
     "data": {
      "text/plain": [
       "(568986, 10)"
      ]
     },
     "execution_count": 6,
     "metadata": {},
     "output_type": "execute_result"
    }
   ],
   "source": [
    "reviews_metadata.shape"
   ]
  },
  {
   "cell_type": "code",
   "execution_count": 7,
   "id": "answering-channel",
   "metadata": {},
   "outputs": [],
   "source": [
    "nan_values = reviews_metadata.isna()\n",
    "nan_columns = nan_values.any()"
   ]
  },
  {
   "cell_type": "code",
   "execution_count": 8,
   "id": "surprising-vulnerability",
   "metadata": {},
   "outputs": [
    {
     "data": {
      "text/plain": [
       "['summary', 'reviewText']"
      ]
     },
     "execution_count": 8,
     "metadata": {},
     "output_type": "execute_result"
    }
   ],
   "source": [
    "reviews_metadata.columns[nan_columns].tolist()"
   ]
  },
  {
   "cell_type": "code",
   "execution_count": 9,
   "id": "governing-northeast",
   "metadata": {},
   "outputs": [
    {
     "data": {
      "text/plain": [
       "asin                 0\n",
       "reviewerID           0\n",
       "overall              0\n",
       "reviewTime           0\n",
       "summary            116\n",
       "reviewText           0\n",
       "title                0\n",
       "category             0\n",
       "main_cat             0\n",
       "imageURLHighRes      0\n",
       "dtype: int64"
      ]
     },
     "execution_count": 9,
     "metadata": {},
     "output_type": "execute_result"
    }
   ],
   "source": [
    "reviews_metadata = reviews_metadata[reviews_metadata['reviewText'].notna()]\n",
    "reviews_metadata.isnull().sum()"
   ]
  },
  {
   "cell_type": "code",
   "execution_count": 10,
   "id": "curious-berry",
   "metadata": {},
   "outputs": [],
   "source": [
    "reviews_metadata = reviews_metadata.drop_duplicates(subset=['reviewText', \"reviewerID\"])"
   ]
  },
  {
   "cell_type": "code",
   "execution_count": 11,
   "id": "introductory-juice",
   "metadata": {},
   "outputs": [
    {
     "data": {
      "text/plain": [
       "(423733, 10)"
      ]
     },
     "execution_count": 11,
     "metadata": {},
     "output_type": "execute_result"
    }
   ],
   "source": [
    "reviews_metadata.shape"
   ]
  },
  {
   "cell_type": "code",
   "execution_count": 12,
   "id": "fluid-plane",
   "metadata": {},
   "outputs": [],
   "source": [
    "index_names = reviews_metadata[ reviews_metadata['main_cat'] != \"Video Games\" ].index\n",
    "reviews_metadata.drop(index_names, inplace = True)"
   ]
  },
  {
   "cell_type": "code",
   "execution_count": 13,
   "id": "comic-karaoke",
   "metadata": {},
   "outputs": [
    {
     "data": {
      "text/plain": [
       "(393212, 10)"
      ]
     },
     "execution_count": 13,
     "metadata": {},
     "output_type": "execute_result"
    }
   ],
   "source": [
    "reviews_metadata.shape"
   ]
  },
  {
   "cell_type": "code",
   "execution_count": 14,
   "id": "coordinate-cross",
   "metadata": {},
   "outputs": [
    {
     "data": {
      "text/html": [
       "<div>\n",
       "<style scoped>\n",
       "    .dataframe tbody tr th:only-of-type {\n",
       "        vertical-align: middle;\n",
       "    }\n",
       "\n",
       "    .dataframe tbody tr th {\n",
       "        vertical-align: top;\n",
       "    }\n",
       "\n",
       "    .dataframe thead th {\n",
       "        text-align: right;\n",
       "    }\n",
       "</style>\n",
       "<table border=\"1\" class=\"dataframe\">\n",
       "  <thead>\n",
       "    <tr style=\"text-align: right;\">\n",
       "      <th></th>\n",
       "      <th>asin</th>\n",
       "      <th>reviewerID</th>\n",
       "      <th>overall</th>\n",
       "      <th>reviewTime</th>\n",
       "      <th>title</th>\n",
       "      <th>category</th>\n",
       "      <th>main_cat</th>\n",
       "      <th>imageURLHighRes</th>\n",
       "      <th>reviews</th>\n",
       "    </tr>\n",
       "  </thead>\n",
       "  <tbody>\n",
       "    <tr>\n",
       "      <th>0</th>\n",
       "      <td>0700026657</td>\n",
       "      <td>A1HP7NVNPFMA4N</td>\n",
       "      <td>5</td>\n",
       "      <td>10 17, 2015</td>\n",
       "      <td>Anno 2070</td>\n",
       "      <td>[Video Games, PC, Games]</td>\n",
       "      <td>Video Games</td>\n",
       "      <td>[https://images-na.ssl-images-amazon.com/images/I/51naywTctIL.jpg]</td>\n",
       "      <td>This game is a bit hard to get the hang of, but when you do it's great. but when you do it's great.</td>\n",
       "    </tr>\n",
       "    <tr>\n",
       "      <th>1</th>\n",
       "      <td>0700026657</td>\n",
       "      <td>A1JGAP0185YJI6</td>\n",
       "      <td>4</td>\n",
       "      <td>07 27, 2015</td>\n",
       "      <td>Anno 2070</td>\n",
       "      <td>[Video Games, PC, Games]</td>\n",
       "      <td>Video Games</td>\n",
       "      <td>[https://images-na.ssl-images-amazon.com/images/I/51naywTctIL.jpg]</td>\n",
       "      <td>I played it a while but it was alright. The steam was a bit of trouble. The more they move these...</td>\n",
       "    </tr>\n",
       "    <tr>\n",
       "      <th>2</th>\n",
       "      <td>0700026657</td>\n",
       "      <td>A1YJWEXHQBWK2B</td>\n",
       "      <td>3</td>\n",
       "      <td>02 23, 2015</td>\n",
       "      <td>Anno 2070</td>\n",
       "      <td>[Video Games, PC, Games]</td>\n",
       "      <td>Video Games</td>\n",
       "      <td>[https://images-na.ssl-images-amazon.com/images/I/51naywTctIL.jpg]</td>\n",
       "      <td>ok game. Three Stars</td>\n",
       "    </tr>\n",
       "    <tr>\n",
       "      <th>3</th>\n",
       "      <td>0700026657</td>\n",
       "      <td>A2204E1TH211HT</td>\n",
       "      <td>2</td>\n",
       "      <td>02 20, 2015</td>\n",
       "      <td>Anno 2070</td>\n",
       "      <td>[Video Games, PC, Games]</td>\n",
       "      <td>Video Games</td>\n",
       "      <td>[https://images-na.ssl-images-amazon.com/images/I/51naywTctIL.jpg]</td>\n",
       "      <td>found the game a bit too complicated, not what I expected after having played 1602, 1503, and 17...</td>\n",
       "    </tr>\n",
       "    <tr>\n",
       "      <th>4</th>\n",
       "      <td>0700026657</td>\n",
       "      <td>A2RF5B5H74JLPE</td>\n",
       "      <td>5</td>\n",
       "      <td>12 25, 2014</td>\n",
       "      <td>Anno 2070</td>\n",
       "      <td>[Video Games, PC, Games]</td>\n",
       "      <td>Video Games</td>\n",
       "      <td>[https://images-na.ssl-images-amazon.com/images/I/51naywTctIL.jpg]</td>\n",
       "      <td>great game, I love it and have played it since its arrived love this game</td>\n",
       "    </tr>\n",
       "  </tbody>\n",
       "</table>\n",
       "</div>"
      ],
      "text/plain": [
       "         asin      reviewerID  overall   reviewTime      title  \\\n",
       "0  0700026657  A1HP7NVNPFMA4N        5  10 17, 2015  Anno 2070   \n",
       "1  0700026657  A1JGAP0185YJI6        4  07 27, 2015  Anno 2070   \n",
       "2  0700026657  A1YJWEXHQBWK2B        3  02 23, 2015  Anno 2070   \n",
       "3  0700026657  A2204E1TH211HT        2  02 20, 2015  Anno 2070   \n",
       "4  0700026657  A2RF5B5H74JLPE        5  12 25, 2014  Anno 2070   \n",
       "\n",
       "                   category     main_cat  \\\n",
       "0  [Video Games, PC, Games]  Video Games   \n",
       "1  [Video Games, PC, Games]  Video Games   \n",
       "2  [Video Games, PC, Games]  Video Games   \n",
       "3  [Video Games, PC, Games]  Video Games   \n",
       "4  [Video Games, PC, Games]  Video Games   \n",
       "\n",
       "                                                      imageURLHighRes  \\\n",
       "0  [https://images-na.ssl-images-amazon.com/images/I/51naywTctIL.jpg]   \n",
       "1  [https://images-na.ssl-images-amazon.com/images/I/51naywTctIL.jpg]   \n",
       "2  [https://images-na.ssl-images-amazon.com/images/I/51naywTctIL.jpg]   \n",
       "3  [https://images-na.ssl-images-amazon.com/images/I/51naywTctIL.jpg]   \n",
       "4  [https://images-na.ssl-images-amazon.com/images/I/51naywTctIL.jpg]   \n",
       "\n",
       "                                                                                               reviews  \n",
       "0  This game is a bit hard to get the hang of, but when you do it's great. but when you do it's great.  \n",
       "1  I played it a while but it was alright. The steam was a bit of trouble. The more they move these...  \n",
       "2                                                                                 ok game. Three Stars  \n",
       "3  found the game a bit too complicated, not what I expected after having played 1602, 1503, and 17...  \n",
       "4                            great game, I love it and have played it since its arrived love this game  "
      ]
     },
     "execution_count": 14,
     "metadata": {},
     "output_type": "execute_result"
    }
   ],
   "source": [
    "reviews_metadata['reviews']=reviews_metadata['reviewText']+\" \" +reviews_metadata['summary'].fillna('')\n",
    "reviews_metadata=reviews_metadata.drop(['reviewText', 'summary'], axis=1)\n",
    "reviews_metadata.head()"
   ]
  },
  {
   "cell_type": "code",
   "execution_count": 15,
   "id": "unable-value",
   "metadata": {},
   "outputs": [
    {
     "data": {
      "text/plain": [
       "['Video Games', 'PC', 'Games', '</span></span></span>']                                                                                                                                                                                                                                                                                                                                                 30862\n",
       "['Video Games', 'Xbox 360', 'Games', '</span></span></span>']                                                                                                                                                                                                                                                                                                                                           27424\n",
       "['Video Games', 'PlayStation 3', 'Games', '</span></span></span>']                                                                                                                                                                                                                                                                                                                                      23964\n",
       "['Video Games', 'PlayStation 4', 'Games', '</span></span></span>']                                                                                                                                                                                                                                                                                                                                      18959\n",
       "['Video Games', 'Retro Gaming & Microconsoles', 'PlayStation 2', 'Games', '</span></span></span>']                                                                                                                                                                                                                                                                                                      11653\n",
       "                                                                                                                                                                                                                                                                                                                                                                                                        ...  \n",
       "['Video Games', 'Xbox 360', 'Accessories', 'Cases & Storage', '</span></span></span>', 'Transport your Xbox 360 games, console and a variety of accessories', 'Soft shoulder strap and protective casing make traveling a breeze', 'Velcro panel opens to allow access to ports on back of XBOX 360', 'Room for discs, controllers, cables, memory, and more', 'Includes carrying bag for Xbox 360']        1\n",
       "['Video Games', 'Wii', 'Accessories', 'Batteries & Chargers', 'Chargers', '</span></span></span>', 'Sold Individually']                                                                                                                                                                                                                                                                                     1\n",
       "['Video Games', 'Sony PSP', 'Accessories', '</span></span></span>', 'Good Quality', 'Fast Ship']                                                                                                                                                                                                                                                                                                            1\n",
       "['Video Games', 'Wii', 'Accessories', 'Sensor Bars', '</span></span></span>', 'Incredible range-up to 30 feet', 'No batteries-includes AC adapter and USB connection for power.', 'No connection to the Wii', 'Eliminates most cursor jitter', 'designed for home theater systems']                                                                                                                         1\n",
       "['Video Games', 'PC', 'Games', '</span></span></span>', 'Hit sequel to Polar Games', 'Two zany games in one - Polar Golfer Pineapple Cup and Polar Pool', 'Unlock new tables and new friends in Polar Pool', 'New comical characters and crazy hazards in Polar Golfer Pineapple Cup', 'Windows XP / Vista']                                                                                                1\n",
       "Name: category, Length: 3804, dtype: int64"
      ]
     },
     "execution_count": 15,
     "metadata": {},
     "output_type": "execute_result"
    }
   ],
   "source": [
    "reviews_metadata['category'].astype('str').value_counts()"
   ]
  },
  {
   "cell_type": "code",
   "execution_count": 16,
   "id": "lonely-wedding",
   "metadata": {
    "scrolled": true
   },
   "outputs": [
    {
     "data": {
      "text/plain": [
       "asin               object\n",
       "reviewerID         object\n",
       "overall             int64\n",
       "reviewTime         object\n",
       "title              object\n",
       "category           object\n",
       "main_cat           object\n",
       "imageURLHighRes    object\n",
       "reviews            object\n",
       "dtype: object"
      ]
     },
     "execution_count": 16,
     "metadata": {},
     "output_type": "execute_result"
    }
   ],
   "source": [
    "reviews_metadata.dtypes"
   ]
  },
  {
   "cell_type": "code",
   "execution_count": 17,
   "id": "chemical-shopping",
   "metadata": {},
   "outputs": [],
   "source": [
    "reviews_metadata['category'] = pd.Series(reviews_metadata['category'], dtype='string')"
   ]
  },
  {
   "cell_type": "code",
   "execution_count": 18,
   "id": "primary-portrait",
   "metadata": {},
   "outputs": [],
   "source": [
    "#pcreviews = reviews_metadata[reviews_metadata.category.apply(lambda x: x == \"['Video Games', 'PC', 'Games', '</span></span></span>']\" )]\n",
    "#pcreviews.shape"
   ]
  },
  {
   "cell_type": "code",
   "execution_count": 19,
   "id": "general-testament",
   "metadata": {},
   "outputs": [],
   "source": [
    "#psreviews = reviews_metadata[reviews_metadata.category.apply(lambda x: x == \"['Video Games', 'PlayStation 3', 'Games', '</span></span></span>']\" or x == \"['Video Games', 'PlayStation 4', 'Games', '</span></span></span>']\" )]\n",
    "#psreviews.shape"
   ]
  },
  {
   "cell_type": "code",
   "execution_count": 20,
   "id": "still-centre",
   "metadata": {},
   "outputs": [],
   "source": [
    "#xboxreviews = reviews_metadata[reviews_metadata.category.apply(lambda x: x == \"['Video Games', 'Xbox 360', 'Games', '</span></span></span>']\" or x == \"['Video Games', 'Xbox One', 'Games', '</span></span></span>']\" )]\n",
    "#xboxreviews.shape"
   ]
  },
  {
   "cell_type": "code",
   "execution_count": 21,
   "id": "deluxe-plain",
   "metadata": {},
   "outputs": [],
   "source": [
    "reviews_metadata = reviews_metadata[reviews_metadata.category.apply(lambda x: x == \"['Video Games', 'PC', 'Games', '</span></span></span>']\" \n",
    "                                                                    or x == \"['Video Games', 'PlayStation 3', 'Games', '</span></span></span>']\" \n",
    "                                                                    or x == \"['Video Games', 'PlayStation 4', 'Games', '</span></span></span>']\" \n",
    "                                                                    or x == \"['Video Games', 'Xbox 360', 'Games', '</span></span></span>']\" \n",
    "                                                                    or x == \"['Video Games', 'Xbox One', 'Games', '</span></span></span>']\")]"
   ]
  },
  {
   "cell_type": "code",
   "execution_count": 22,
   "id": "classical-jonathan",
   "metadata": {},
   "outputs": [],
   "source": [
    "reviews_metadata.loc[(reviews_metadata['category'].str.contains('360')) | (reviews_metadata['category'].str.contains('One')), 'category'] = 'Xbox'  \n",
    "reviews_metadata.loc[(reviews_metadata['category'].str.contains('Playstation')), 'category'] = 'Playstation'  \n",
    "reviews_metadata.loc[(reviews_metadata['category'].str.contains('PC')), 'category'] = 'PC' "
   ]
  },
  {
   "cell_type": "code",
   "execution_count": 23,
   "id": "nearby-cliff",
   "metadata": {
    "scrolled": false
   },
   "outputs": [
    {
     "data": {
      "text/html": [
       "<div>\n",
       "<style scoped>\n",
       "    .dataframe tbody tr th:only-of-type {\n",
       "        vertical-align: middle;\n",
       "    }\n",
       "\n",
       "    .dataframe tbody tr th {\n",
       "        vertical-align: top;\n",
       "    }\n",
       "\n",
       "    .dataframe thead th {\n",
       "        text-align: right;\n",
       "    }\n",
       "</style>\n",
       "<table border=\"1\" class=\"dataframe\">\n",
       "  <thead>\n",
       "    <tr style=\"text-align: right;\">\n",
       "      <th></th>\n",
       "      <th>asin</th>\n",
       "      <th>reviewerID</th>\n",
       "      <th>overall</th>\n",
       "      <th>reviewTime</th>\n",
       "      <th>title</th>\n",
       "      <th>category</th>\n",
       "      <th>main_cat</th>\n",
       "      <th>imageURLHighRes</th>\n",
       "      <th>reviews</th>\n",
       "    </tr>\n",
       "  </thead>\n",
       "  <tbody>\n",
       "    <tr>\n",
       "      <th>707</th>\n",
       "      <td>B00000DMAN</td>\n",
       "      <td>ADP72IJRH95ZG</td>\n",
       "      <td>5</td>\n",
       "      <td>11 28, 1999</td>\n",
       "      <td>The X-Files Game</td>\n",
       "      <td>PC</td>\n",
       "      <td>Video Games</td>\n",
       "      <td>[https://images-na.ssl-images-amazon.com/images/I/31BDm2VqflL.jpg]</td>\n",
       "      <td>This game is a lot of fun, with a creepy atmosphere that revolves around the disappearance of Ag...</td>\n",
       "    </tr>\n",
       "    <tr>\n",
       "      <th>708</th>\n",
       "      <td>B00000DMAN</td>\n",
       "      <td>A116ZSMZRT9RUN</td>\n",
       "      <td>4</td>\n",
       "      <td>03 5, 2003</td>\n",
       "      <td>The X-Files Game</td>\n",
       "      <td>PC</td>\n",
       "      <td>Video Games</td>\n",
       "      <td>[https://images-na.ssl-images-amazon.com/images/I/31BDm2VqflL.jpg]</td>\n",
       "      <td>This was not the best mystery/adventure game I've ever played, and I'm not even a big fan of suc...</td>\n",
       "    </tr>\n",
       "    <tr>\n",
       "      <th>709</th>\n",
       "      <td>B00000DMAN</td>\n",
       "      <td>A160AB64G2E949</td>\n",
       "      <td>4</td>\n",
       "      <td>02 13, 2001</td>\n",
       "      <td>The X-Files Game</td>\n",
       "      <td>PC</td>\n",
       "      <td>Video Games</td>\n",
       "      <td>[https://images-na.ssl-images-amazon.com/images/I/31BDm2VqflL.jpg]</td>\n",
       "      <td>This was a pretty good game, but not a great game. I'd probably rate this closer to 3 1/2 stars....</td>\n",
       "    </tr>\n",
       "    <tr>\n",
       "      <th>710</th>\n",
       "      <td>B00000DMAN</td>\n",
       "      <td>A2L375A8IWXEGI</td>\n",
       "      <td>4</td>\n",
       "      <td>08 19, 2000</td>\n",
       "      <td>The X-Files Game</td>\n",
       "      <td>PC</td>\n",
       "      <td>Video Games</td>\n",
       "      <td>[https://images-na.ssl-images-amazon.com/images/I/31BDm2VqflL.jpg]</td>\n",
       "      <td>We stopped watching the series (lack of time) and so this was a nice way  to keep the excitement...</td>\n",
       "    </tr>\n",
       "    <tr>\n",
       "      <th>711</th>\n",
       "      <td>B00000DMAN</td>\n",
       "      <td>A3S87ZOPB3UM9N</td>\n",
       "      <td>5</td>\n",
       "      <td>07 27, 2000</td>\n",
       "      <td>The X-Files Game</td>\n",
       "      <td>PC</td>\n",
       "      <td>Video Games</td>\n",
       "      <td>[https://images-na.ssl-images-amazon.com/images/I/31BDm2VqflL.jpg]</td>\n",
       "      <td>As a fan of Myst and Riven, I would not put this game in the same  category.  However, it does e...</td>\n",
       "    </tr>\n",
       "  </tbody>\n",
       "</table>\n",
       "</div>"
      ],
      "text/plain": [
       "           asin      reviewerID  overall   reviewTime             title  \\\n",
       "707  B00000DMAN   ADP72IJRH95ZG        5  11 28, 1999  The X-Files Game   \n",
       "708  B00000DMAN  A116ZSMZRT9RUN        4   03 5, 2003  The X-Files Game   \n",
       "709  B00000DMAN  A160AB64G2E949        4  02 13, 2001  The X-Files Game   \n",
       "710  B00000DMAN  A2L375A8IWXEGI        4  08 19, 2000  The X-Files Game   \n",
       "711  B00000DMAN  A3S87ZOPB3UM9N        5  07 27, 2000  The X-Files Game   \n",
       "\n",
       "    category     main_cat  \\\n",
       "707       PC  Video Games   \n",
       "708       PC  Video Games   \n",
       "709       PC  Video Games   \n",
       "710       PC  Video Games   \n",
       "711       PC  Video Games   \n",
       "\n",
       "                                                        imageURLHighRes  \\\n",
       "707  [https://images-na.ssl-images-amazon.com/images/I/31BDm2VqflL.jpg]   \n",
       "708  [https://images-na.ssl-images-amazon.com/images/I/31BDm2VqflL.jpg]   \n",
       "709  [https://images-na.ssl-images-amazon.com/images/I/31BDm2VqflL.jpg]   \n",
       "710  [https://images-na.ssl-images-amazon.com/images/I/31BDm2VqflL.jpg]   \n",
       "711  [https://images-na.ssl-images-amazon.com/images/I/31BDm2VqflL.jpg]   \n",
       "\n",
       "                                                                                                 reviews  \n",
       "707  This game is a lot of fun, with a creepy atmosphere that revolves around the disappearance of Ag...  \n",
       "708  This was not the best mystery/adventure game I've ever played, and I'm not even a big fan of suc...  \n",
       "709  This was a pretty good game, but not a great game. I'd probably rate this closer to 3 1/2 stars....  \n",
       "710  We stopped watching the series (lack of time) and so this was a nice way  to keep the excitement...  \n",
       "711  As a fan of Myst and Riven, I would not put this game in the same  category.  However, it does e...  "
      ]
     },
     "execution_count": 23,
     "metadata": {},
     "output_type": "execute_result"
    }
   ],
   "source": [
    "reviews_metadata.head()"
   ]
  },
  {
   "cell_type": "code",
   "execution_count": 24,
   "id": "organic-brief",
   "metadata": {
    "scrolled": true
   },
   "outputs": [
    {
     "data": {
      "text/plain": [
       "Video Games    111582\n",
       "Name: main_cat, dtype: int64"
      ]
     },
     "execution_count": 24,
     "metadata": {},
     "output_type": "execute_result"
    }
   ],
   "source": [
    "reviews_metadata['main_cat'].astype('str').value_counts()"
   ]
  },
  {
   "cell_type": "code",
   "execution_count": 25,
   "id": "paperback-construction",
   "metadata": {},
   "outputs": [],
   "source": [
    "reviews_metadata = reviews_metadata.drop(['main_cat', 'reviewerID'], axis =1)"
   ]
  },
  {
   "cell_type": "code",
   "execution_count": 26,
   "id": "operational-tennis",
   "metadata": {},
   "outputs": [
    {
     "name": "stdout",
     "output_type": "stream",
     "text": [
      "<class 'pandas.core.frame.DataFrame'>\n",
      "Int64Index: 111582 entries, 707 to 568959\n",
      "Data columns (total 7 columns):\n",
      " #   Column           Non-Null Count   Dtype \n",
      "---  ------           --------------   ----- \n",
      " 0   asin             111582 non-null  object\n",
      " 1   overall          111582 non-null  int64 \n",
      " 2   reviewTime       111582 non-null  object\n",
      " 3   title            111582 non-null  object\n",
      " 4   category         111582 non-null  string\n",
      " 5   imageURLHighRes  111582 non-null  object\n",
      " 6   reviews          111582 non-null  object\n",
      "dtypes: int64(1), object(5), string(1)\n",
      "memory usage: 150.3 MB\n"
     ]
    }
   ],
   "source": [
    "reviews_metadata.info(memory_usage='deep')"
   ]
  },
  {
   "cell_type": "code",
   "execution_count": 27,
   "id": "productive-alarm",
   "metadata": {
    "scrolled": true
   },
   "outputs": [],
   "source": [
    "reviews_metadata['imageURLHighRes'] = reviews_metadata['imageURLHighRes'].str[0]"
   ]
  },
  {
   "cell_type": "code",
   "execution_count": 28,
   "id": "mathematical-property",
   "metadata": {},
   "outputs": [],
   "source": [
    "reviews_metadata = reviews_metadata.reset_index(drop=True)"
   ]
  },
  {
   "cell_type": "code",
   "execution_count": 29,
   "id": "chief-filter",
   "metadata": {},
   "outputs": [
    {
     "data": {
      "text/html": [
       "<div>\n",
       "<style scoped>\n",
       "    .dataframe tbody tr th:only-of-type {\n",
       "        vertical-align: middle;\n",
       "    }\n",
       "\n",
       "    .dataframe tbody tr th {\n",
       "        vertical-align: top;\n",
       "    }\n",
       "\n",
       "    .dataframe thead th {\n",
       "        text-align: right;\n",
       "    }\n",
       "</style>\n",
       "<table border=\"1\" class=\"dataframe\">\n",
       "  <thead>\n",
       "    <tr style=\"text-align: right;\">\n",
       "      <th></th>\n",
       "      <th>asin</th>\n",
       "      <th>overall</th>\n",
       "      <th>reviewTime</th>\n",
       "      <th>title</th>\n",
       "      <th>category</th>\n",
       "      <th>imageURLHighRes</th>\n",
       "      <th>reviews</th>\n",
       "    </tr>\n",
       "  </thead>\n",
       "  <tbody>\n",
       "    <tr>\n",
       "      <th>0</th>\n",
       "      <td>B00000DMAN</td>\n",
       "      <td>5</td>\n",
       "      <td>11 28, 1999</td>\n",
       "      <td>The X-Files Game</td>\n",
       "      <td>PC</td>\n",
       "      <td>https://images-na.ssl-images-amazon.com/images/I/31BDm2VqflL.jpg</td>\n",
       "      <td>This game is a lot of fun, with a creepy atmosphere that revolves around the disappearance of Ag...</td>\n",
       "    </tr>\n",
       "    <tr>\n",
       "      <th>1</th>\n",
       "      <td>B00000DMAN</td>\n",
       "      <td>4</td>\n",
       "      <td>03 5, 2003</td>\n",
       "      <td>The X-Files Game</td>\n",
       "      <td>PC</td>\n",
       "      <td>https://images-na.ssl-images-amazon.com/images/I/31BDm2VqflL.jpg</td>\n",
       "      <td>This was not the best mystery/adventure game I've ever played, and I'm not even a big fan of suc...</td>\n",
       "    </tr>\n",
       "    <tr>\n",
       "      <th>2</th>\n",
       "      <td>B00000DMAN</td>\n",
       "      <td>4</td>\n",
       "      <td>02 13, 2001</td>\n",
       "      <td>The X-Files Game</td>\n",
       "      <td>PC</td>\n",
       "      <td>https://images-na.ssl-images-amazon.com/images/I/31BDm2VqflL.jpg</td>\n",
       "      <td>This was a pretty good game, but not a great game. I'd probably rate this closer to 3 1/2 stars....</td>\n",
       "    </tr>\n",
       "    <tr>\n",
       "      <th>3</th>\n",
       "      <td>B00000DMAN</td>\n",
       "      <td>4</td>\n",
       "      <td>08 19, 2000</td>\n",
       "      <td>The X-Files Game</td>\n",
       "      <td>PC</td>\n",
       "      <td>https://images-na.ssl-images-amazon.com/images/I/31BDm2VqflL.jpg</td>\n",
       "      <td>We stopped watching the series (lack of time) and so this was a nice way  to keep the excitement...</td>\n",
       "    </tr>\n",
       "    <tr>\n",
       "      <th>4</th>\n",
       "      <td>B00000DMAN</td>\n",
       "      <td>5</td>\n",
       "      <td>07 27, 2000</td>\n",
       "      <td>The X-Files Game</td>\n",
       "      <td>PC</td>\n",
       "      <td>https://images-na.ssl-images-amazon.com/images/I/31BDm2VqflL.jpg</td>\n",
       "      <td>As a fan of Myst and Riven, I would not put this game in the same  category.  However, it does e...</td>\n",
       "    </tr>\n",
       "  </tbody>\n",
       "</table>\n",
       "</div>"
      ],
      "text/plain": [
       "         asin  overall   reviewTime             title category  \\\n",
       "0  B00000DMAN        5  11 28, 1999  The X-Files Game       PC   \n",
       "1  B00000DMAN        4   03 5, 2003  The X-Files Game       PC   \n",
       "2  B00000DMAN        4  02 13, 2001  The X-Files Game       PC   \n",
       "3  B00000DMAN        4  08 19, 2000  The X-Files Game       PC   \n",
       "4  B00000DMAN        5  07 27, 2000  The X-Files Game       PC   \n",
       "\n",
       "                                                    imageURLHighRes  \\\n",
       "0  https://images-na.ssl-images-amazon.com/images/I/31BDm2VqflL.jpg   \n",
       "1  https://images-na.ssl-images-amazon.com/images/I/31BDm2VqflL.jpg   \n",
       "2  https://images-na.ssl-images-amazon.com/images/I/31BDm2VqflL.jpg   \n",
       "3  https://images-na.ssl-images-amazon.com/images/I/31BDm2VqflL.jpg   \n",
       "4  https://images-na.ssl-images-amazon.com/images/I/31BDm2VqflL.jpg   \n",
       "\n",
       "                                                                                               reviews  \n",
       "0  This game is a lot of fun, with a creepy atmosphere that revolves around the disappearance of Ag...  \n",
       "1  This was not the best mystery/adventure game I've ever played, and I'm not even a big fan of suc...  \n",
       "2  This was a pretty good game, but not a great game. I'd probably rate this closer to 3 1/2 stars....  \n",
       "3  We stopped watching the series (lack of time) and so this was a nice way  to keep the excitement...  \n",
       "4  As a fan of Myst and Riven, I would not put this game in the same  category.  However, it does e...  "
      ]
     },
     "execution_count": 29,
     "metadata": {},
     "output_type": "execute_result"
    }
   ],
   "source": [
    "reviews_metadata.head()"
   ]
  },
  {
   "cell_type": "code",
   "execution_count": 30,
   "id": "wrapped-ballot",
   "metadata": {},
   "outputs": [
    {
     "data": {
      "text/plain": [
       "(111582, 7)"
      ]
     },
     "execution_count": 30,
     "metadata": {},
     "output_type": "execute_result"
    }
   ],
   "source": [
    "reviews_metadata.shape"
   ]
  },
  {
   "cell_type": "code",
   "execution_count": 31,
   "id": "fuzzy-hormone",
   "metadata": {},
   "outputs": [],
   "source": [
    "reviews_metadata.to_json(r'C:\\Users\\dfota\\Desktop\\Game Reviews\\DatasetFinal.json')"
   ]
  }
 ],
 "metadata": {
  "kernelspec": {
   "display_name": "Python 3",
   "language": "python",
   "name": "python3"
  },
  "language_info": {
   "codemirror_mode": {
    "name": "ipython",
    "version": 3
   },
   "file_extension": ".py",
   "mimetype": "text/x-python",
   "name": "python",
   "nbconvert_exporter": "python",
   "pygments_lexer": "ipython3",
   "version": "3.8.1"
  }
 },
 "nbformat": 4,
 "nbformat_minor": 5
}
