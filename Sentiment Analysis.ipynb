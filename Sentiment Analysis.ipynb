{
 "cells": [
  {
   "cell_type": "code",
   "execution_count": 66,
   "id": "appropriate-functionality",
   "metadata": {},
   "outputs": [],
   "source": [
    "import pandas as pd \n",
    "import numpy as np\n",
    "import itertools\n",
    "import re\n",
    "import string\n",
    "pd.set_option('display.max_colwidth', 100)\n",
    "import nltk.corpus\n",
    "from nltk.corpus import stopwords\n",
    "stop_words = stopwords.words('english')\n",
    "from nltk.tokenize import sent_tokenize, word_tokenize\n",
    "import matplotlib.pyplot as plt\n",
    "#!pip install contractions\n",
    "import contractions \n",
    "from nltk.stem.lancaster import LancasterStemmer\n",
    "from nltk.stem import WordNetLemmatizer\n",
    "from sklearn.model_selection import train_test_split\n",
    "from sklearn.feature_extraction.text import CountVectorizer,TfidfVectorizer\n",
    "from sklearn.dummy import DummyClassifier\n",
    "from sklearn.linear_model import LogisticRegression\n",
    "from sklearn.metrics import f1_score, classification_report, confusion_matrix,precision_recall_fscore_support\n",
    "from sklearn import metrics\n",
    "from sklearn.ensemble import RandomForestClassifier\n",
    "from sklearn.naive_bayes import MultinomialNB\n",
    "#!pip install xgboost\n",
    "from xgboost import XGBClassifier\n",
    "import warnings\n",
    "warnings.filterwarnings('ignore')\n",
    "from sklearn.model_selection import GridSearchCV\n",
    "from sklearn.model_selection import GridSearchCV"
   ]
  },
  {
   "cell_type": "code",
   "execution_count": 2,
   "id": "regulated-rendering",
   "metadata": {},
   "outputs": [],
   "source": [
    "reviews = pd.read_json(r'C:\\Users\\dfota\\OneDrive\\Έγγραφα\\Thesis Project\\Amazon-Game-Reviews-Analysis\\Data\\MergedDataset.json')"
   ]
  },
  {
   "cell_type": "code",
   "execution_count": 3,
   "id": "creative-tampa",
   "metadata": {
    "scrolled": false
   },
   "outputs": [
    {
     "data": {
      "text/html": [
       "<div>\n",
       "<style scoped>\n",
       "    .dataframe tbody tr th:only-of-type {\n",
       "        vertical-align: middle;\n",
       "    }\n",
       "\n",
       "    .dataframe tbody tr th {\n",
       "        vertical-align: top;\n",
       "    }\n",
       "\n",
       "    .dataframe thead th {\n",
       "        text-align: right;\n",
       "    }\n",
       "</style>\n",
       "<table border=\"1\" class=\"dataframe\">\n",
       "  <thead>\n",
       "    <tr style=\"text-align: right;\">\n",
       "      <th></th>\n",
       "      <th>asin</th>\n",
       "      <th>overall</th>\n",
       "      <th>reviewTime</th>\n",
       "      <th>title</th>\n",
       "      <th>category</th>\n",
       "      <th>imageURLHighRes</th>\n",
       "      <th>reviews</th>\n",
       "    </tr>\n",
       "  </thead>\n",
       "  <tbody>\n",
       "    <tr>\n",
       "      <th>0</th>\n",
       "      <td>B00000DMAN</td>\n",
       "      <td>5</td>\n",
       "      <td>11 28, 1999</td>\n",
       "      <td>The X-Files Game</td>\n",
       "      <td>PC</td>\n",
       "      <td>https://images-na.ssl-images-amazon.com/images/I/31BDm2VqflL.jpg</td>\n",
       "      <td>This game is a lot of fun, with a creepy atmosphere that revolves around the disappearance of Ag...</td>\n",
       "    </tr>\n",
       "    <tr>\n",
       "      <th>1</th>\n",
       "      <td>B00000DMAN</td>\n",
       "      <td>4</td>\n",
       "      <td>03 5, 2003</td>\n",
       "      <td>The X-Files Game</td>\n",
       "      <td>PC</td>\n",
       "      <td>https://images-na.ssl-images-amazon.com/images/I/31BDm2VqflL.jpg</td>\n",
       "      <td>This was not the best mystery/adventure game I've ever played, and I'm not even a big fan of suc...</td>\n",
       "    </tr>\n",
       "    <tr>\n",
       "      <th>2</th>\n",
       "      <td>B00000DMAN</td>\n",
       "      <td>4</td>\n",
       "      <td>02 13, 2001</td>\n",
       "      <td>The X-Files Game</td>\n",
       "      <td>PC</td>\n",
       "      <td>https://images-na.ssl-images-amazon.com/images/I/31BDm2VqflL.jpg</td>\n",
       "      <td>This was a pretty good game, but not a great game. I'd probably rate this closer to 3 1/2 stars....</td>\n",
       "    </tr>\n",
       "    <tr>\n",
       "      <th>3</th>\n",
       "      <td>B00000DMAN</td>\n",
       "      <td>4</td>\n",
       "      <td>08 19, 2000</td>\n",
       "      <td>The X-Files Game</td>\n",
       "      <td>PC</td>\n",
       "      <td>https://images-na.ssl-images-amazon.com/images/I/31BDm2VqflL.jpg</td>\n",
       "      <td>We stopped watching the series (lack of time) and so this was a nice way  to keep the excitement...</td>\n",
       "    </tr>\n",
       "    <tr>\n",
       "      <th>4</th>\n",
       "      <td>B00000DMAN</td>\n",
       "      <td>5</td>\n",
       "      <td>07 27, 2000</td>\n",
       "      <td>The X-Files Game</td>\n",
       "      <td>PC</td>\n",
       "      <td>https://images-na.ssl-images-amazon.com/images/I/31BDm2VqflL.jpg</td>\n",
       "      <td>As a fan of Myst and Riven, I would not put this game in the same  category.  However, it does e...</td>\n",
       "    </tr>\n",
       "  </tbody>\n",
       "</table>\n",
       "</div>"
      ],
      "text/plain": [
       "         asin  overall   reviewTime             title category  \\\n",
       "0  B00000DMAN        5  11 28, 1999  The X-Files Game       PC   \n",
       "1  B00000DMAN        4   03 5, 2003  The X-Files Game       PC   \n",
       "2  B00000DMAN        4  02 13, 2001  The X-Files Game       PC   \n",
       "3  B00000DMAN        4  08 19, 2000  The X-Files Game       PC   \n",
       "4  B00000DMAN        5  07 27, 2000  The X-Files Game       PC   \n",
       "\n",
       "                                                    imageURLHighRes  \\\n",
       "0  https://images-na.ssl-images-amazon.com/images/I/31BDm2VqflL.jpg   \n",
       "1  https://images-na.ssl-images-amazon.com/images/I/31BDm2VqflL.jpg   \n",
       "2  https://images-na.ssl-images-amazon.com/images/I/31BDm2VqflL.jpg   \n",
       "3  https://images-na.ssl-images-amazon.com/images/I/31BDm2VqflL.jpg   \n",
       "4  https://images-na.ssl-images-amazon.com/images/I/31BDm2VqflL.jpg   \n",
       "\n",
       "                                                                                               reviews  \n",
       "0  This game is a lot of fun, with a creepy atmosphere that revolves around the disappearance of Ag...  \n",
       "1  This was not the best mystery/adventure game I've ever played, and I'm not even a big fan of suc...  \n",
       "2  This was a pretty good game, but not a great game. I'd probably rate this closer to 3 1/2 stars....  \n",
       "3  We stopped watching the series (lack of time) and so this was a nice way  to keep the excitement...  \n",
       "4  As a fan of Myst and Riven, I would not put this game in the same  category.  However, it does e...  "
      ]
     },
     "execution_count": 3,
     "metadata": {},
     "output_type": "execute_result"
    }
   ],
   "source": [
    "reviews.head()"
   ]
  },
  {
   "cell_type": "code",
   "execution_count": 4,
   "id": "ahead-platform",
   "metadata": {
    "scrolled": true
   },
   "outputs": [
    {
     "data": {
      "text/html": [
       "<div>\n",
       "<style scoped>\n",
       "    .dataframe tbody tr th:only-of-type {\n",
       "        vertical-align: middle;\n",
       "    }\n",
       "\n",
       "    .dataframe tbody tr th {\n",
       "        vertical-align: top;\n",
       "    }\n",
       "\n",
       "    .dataframe thead th {\n",
       "        text-align: right;\n",
       "    }\n",
       "</style>\n",
       "<table border=\"1\" class=\"dataframe\">\n",
       "  <thead>\n",
       "    <tr style=\"text-align: right;\">\n",
       "      <th></th>\n",
       "      <th>asin</th>\n",
       "      <th>overall</th>\n",
       "      <th>reviewTime</th>\n",
       "      <th>title</th>\n",
       "      <th>category</th>\n",
       "      <th>imageURLHighRes</th>\n",
       "      <th>reviews</th>\n",
       "      <th>rating_class</th>\n",
       "    </tr>\n",
       "  </thead>\n",
       "  <tbody>\n",
       "    <tr>\n",
       "      <th>0</th>\n",
       "      <td>B00000DMAN</td>\n",
       "      <td>5</td>\n",
       "      <td>11 28, 1999</td>\n",
       "      <td>The X-Files Game</td>\n",
       "      <td>PC</td>\n",
       "      <td>https://images-na.ssl-images-amazon.com/images/I/31BDm2VqflL.jpg</td>\n",
       "      <td>This game is a lot of fun, with a creepy atmosphere that revolves around the disappearance of Ag...</td>\n",
       "      <td>good</td>\n",
       "    </tr>\n",
       "    <tr>\n",
       "      <th>1</th>\n",
       "      <td>B00000DMAN</td>\n",
       "      <td>4</td>\n",
       "      <td>03 5, 2003</td>\n",
       "      <td>The X-Files Game</td>\n",
       "      <td>PC</td>\n",
       "      <td>https://images-na.ssl-images-amazon.com/images/I/31BDm2VqflL.jpg</td>\n",
       "      <td>This was not the best mystery/adventure game I've ever played, and I'm not even a big fan of suc...</td>\n",
       "      <td>good</td>\n",
       "    </tr>\n",
       "    <tr>\n",
       "      <th>2</th>\n",
       "      <td>B00000DMAN</td>\n",
       "      <td>4</td>\n",
       "      <td>02 13, 2001</td>\n",
       "      <td>The X-Files Game</td>\n",
       "      <td>PC</td>\n",
       "      <td>https://images-na.ssl-images-amazon.com/images/I/31BDm2VqflL.jpg</td>\n",
       "      <td>This was a pretty good game, but not a great game. I'd probably rate this closer to 3 1/2 stars....</td>\n",
       "      <td>good</td>\n",
       "    </tr>\n",
       "    <tr>\n",
       "      <th>3</th>\n",
       "      <td>B00000DMAN</td>\n",
       "      <td>4</td>\n",
       "      <td>08 19, 2000</td>\n",
       "      <td>The X-Files Game</td>\n",
       "      <td>PC</td>\n",
       "      <td>https://images-na.ssl-images-amazon.com/images/I/31BDm2VqflL.jpg</td>\n",
       "      <td>We stopped watching the series (lack of time) and so this was a nice way  to keep the excitement...</td>\n",
       "      <td>good</td>\n",
       "    </tr>\n",
       "    <tr>\n",
       "      <th>4</th>\n",
       "      <td>B00000DMAN</td>\n",
       "      <td>5</td>\n",
       "      <td>07 27, 2000</td>\n",
       "      <td>The X-Files Game</td>\n",
       "      <td>PC</td>\n",
       "      <td>https://images-na.ssl-images-amazon.com/images/I/31BDm2VqflL.jpg</td>\n",
       "      <td>As a fan of Myst and Riven, I would not put this game in the same  category.  However, it does e...</td>\n",
       "      <td>good</td>\n",
       "    </tr>\n",
       "  </tbody>\n",
       "</table>\n",
       "</div>"
      ],
      "text/plain": [
       "         asin  overall   reviewTime             title category  \\\n",
       "0  B00000DMAN        5  11 28, 1999  The X-Files Game       PC   \n",
       "1  B00000DMAN        4   03 5, 2003  The X-Files Game       PC   \n",
       "2  B00000DMAN        4  02 13, 2001  The X-Files Game       PC   \n",
       "3  B00000DMAN        4  08 19, 2000  The X-Files Game       PC   \n",
       "4  B00000DMAN        5  07 27, 2000  The X-Files Game       PC   \n",
       "\n",
       "                                                    imageURLHighRes  \\\n",
       "0  https://images-na.ssl-images-amazon.com/images/I/31BDm2VqflL.jpg   \n",
       "1  https://images-na.ssl-images-amazon.com/images/I/31BDm2VqflL.jpg   \n",
       "2  https://images-na.ssl-images-amazon.com/images/I/31BDm2VqflL.jpg   \n",
       "3  https://images-na.ssl-images-amazon.com/images/I/31BDm2VqflL.jpg   \n",
       "4  https://images-na.ssl-images-amazon.com/images/I/31BDm2VqflL.jpg   \n",
       "\n",
       "                                                                                               reviews  \\\n",
       "0  This game is a lot of fun, with a creepy atmosphere that revolves around the disappearance of Ag...   \n",
       "1  This was not the best mystery/adventure game I've ever played, and I'm not even a big fan of suc...   \n",
       "2  This was a pretty good game, but not a great game. I'd probably rate this closer to 3 1/2 stars....   \n",
       "3  We stopped watching the series (lack of time) and so this was a nice way  to keep the excitement...   \n",
       "4  As a fan of Myst and Riven, I would not put this game in the same  category.  However, it does e...   \n",
       "\n",
       "  rating_class  \n",
       "0         good  \n",
       "1         good  \n",
       "2         good  \n",
       "3         good  \n",
       "4         good  "
      ]
     },
     "execution_count": 4,
     "metadata": {},
     "output_type": "execute_result"
    }
   ],
   "source": [
    "reviews['rating_class'] = reviews['overall'].apply(lambda x: 'bad' if x < 3 else'good')\n",
    "reviews.head()"
   ]
  },
  {
   "cell_type": "code",
   "execution_count": 5,
   "id": "false-mistake",
   "metadata": {},
   "outputs": [
    {
     "data": {
      "text/plain": [
       "good    95521\n",
       "bad     16061\n",
       "Name: rating_class, dtype: int64"
      ]
     },
     "execution_count": 5,
     "metadata": {},
     "output_type": "execute_result"
    }
   ],
   "source": [
    "reviews['rating_class'].value_counts()"
   ]
  },
  {
   "cell_type": "code",
   "execution_count": 6,
   "id": "after-prison",
   "metadata": {},
   "outputs": [
    {
     "name": "stdout",
     "output_type": "stream",
     "text": [
      "Number of raw tokens: 21317836\n"
     ]
    }
   ],
   "source": [
    "raw_tokens=len([w for t in (reviews[\"reviews\"].apply(word_tokenize)) for w in t])\n",
    "print('Number of raw tokens: {}'.format(raw_tokens))"
   ]
  },
  {
   "cell_type": "code",
   "execution_count": 7,
   "id": "skilled-preserve",
   "metadata": {},
   "outputs": [],
   "source": [
    "def text_cleaning(text):\n",
    "    text = str(text).lower()\n",
    "    text = re.sub('\\[.*?\\]', '', text)\n",
    "    text = re.sub('https?://\\S+|www\\.\\S+', '', text)\n",
    "    text = re.sub('<.*?>+', '', text)\n",
    "    text = re.sub('[%s]' % re.escape(string.punctuation), '', text)\n",
    "    text = re.sub('\\n', '', text)\n",
    "    text = re.sub('\\w*\\d\\w*', '', text)\n",
    "    return text"
   ]
  },
  {
   "cell_type": "code",
   "execution_count": 8,
   "id": "fleet-sapphire",
   "metadata": {},
   "outputs": [],
   "source": [
    "def expand_contractions(text):\n",
    "    expanded_text = contractions.fix(text)\n",
    "    return expanded_text"
   ]
  },
  {
   "cell_type": "code",
   "execution_count": 9,
   "id": "gothic-application",
   "metadata": {},
   "outputs": [],
   "source": [
    "def replace_numbers(text):\n",
    "    p = inflect.engine()\n",
    "    new_words = []\n",
    "    for word in words:\n",
    "        if word.isdigit():\n",
    "            new_word = p.number_to_words(word)\n",
    "            new_words.append(new_word)\n",
    "        else:\n",
    "            new_words.append(word)\n",
    "    return new_words"
   ]
  },
  {
   "cell_type": "code",
   "execution_count": 10,
   "id": "short-operation",
   "metadata": {},
   "outputs": [],
   "source": [
    "stopword_list= stopwords.words('english')\n",
    "stopword_list.remove('no')\n",
    "stopword_list.remove('not')"
   ]
  },
  {
   "cell_type": "code",
   "execution_count": 11,
   "id": "valuable-qualification",
   "metadata": {},
   "outputs": [],
   "source": [
    "def remove_stopwords(words):\n",
    "    new_words = []\n",
    "    for word in words:\n",
    "        if word not in stopword_list:\n",
    "            new_words.append(word)\n",
    "    return new_words"
   ]
  },
  {
   "cell_type": "code",
   "execution_count": 12,
   "id": "suitable-brunswick",
   "metadata": {},
   "outputs": [],
   "source": [
    "def lemmatize_text(words):\n",
    "    lemmatizer = nltk.stem.WordNetLemmatizer()\n",
    "    return [lemmatizer.lemmatize(w) for w in words]"
   ]
  },
  {
   "cell_type": "code",
   "execution_count": 13,
   "id": "excessive-finish",
   "metadata": {},
   "outputs": [],
   "source": [
    "def normalize_and_lemmatize(input):\n",
    "    sample = text_cleaning(input)\n",
    "    sample = expand_contractions(sample)\n",
    "    words = nltk.word_tokenize(sample)\n",
    "    words = remove_stopwords(words)    \n",
    "    lemmas = lemmatize_text(words)\n",
    "    return ' '.join(lemmas)"
   ]
  },
  {
   "cell_type": "code",
   "execution_count": 14,
   "id": "retired-review",
   "metadata": {},
   "outputs": [],
   "source": [
    "reviews['clean_text'] = reviews['reviews'].map(lambda text: normalize_and_lemmatize(text))"
   ]
  },
  {
   "cell_type": "code",
   "execution_count": 15,
   "id": "differential-detail",
   "metadata": {},
   "outputs": [
    {
     "name": "stdout",
     "output_type": "stream",
     "text": [
      "Number of clean tokens: 9386880\n",
      "\n",
      "Percentage of removed tokens: 0.56\n"
     ]
    }
   ],
   "source": [
    "clean_tokens=len([w for t in (reviews[\"clean_text\"].apply(word_tokenize)) for w in t])\n",
    "print('Number of clean tokens: {}\\n'.format(clean_tokens))\n",
    "print('Percentage of removed tokens: {0:.2f}'.format(1-(clean_tokens/raw_tokens)))"
   ]
  },
  {
   "cell_type": "code",
   "execution_count": 16,
   "id": "referenced-actress",
   "metadata": {},
   "outputs": [],
   "source": [
    "def token (text):\n",
    "    token = [w for w in nltk.word_tokenize(text)]\n",
    "    return token\n",
    "\n",
    "reviews['token'] = reviews['clean_text'].apply(token)"
   ]
  },
  {
   "cell_type": "code",
   "execution_count": 17,
   "id": "packed-quest",
   "metadata": {},
   "outputs": [
    {
     "data": {
      "text/html": [
       "<div>\n",
       "<style scoped>\n",
       "    .dataframe tbody tr th:only-of-type {\n",
       "        vertical-align: middle;\n",
       "    }\n",
       "\n",
       "    .dataframe tbody tr th {\n",
       "        vertical-align: top;\n",
       "    }\n",
       "\n",
       "    .dataframe thead th {\n",
       "        text-align: right;\n",
       "    }\n",
       "</style>\n",
       "<table border=\"1\" class=\"dataframe\">\n",
       "  <thead>\n",
       "    <tr style=\"text-align: right;\">\n",
       "      <th></th>\n",
       "      <th>asin</th>\n",
       "      <th>overall</th>\n",
       "      <th>reviewTime</th>\n",
       "      <th>title</th>\n",
       "      <th>category</th>\n",
       "      <th>imageURLHighRes</th>\n",
       "      <th>reviews</th>\n",
       "      <th>rating_class</th>\n",
       "      <th>clean_text</th>\n",
       "      <th>token</th>\n",
       "    </tr>\n",
       "  </thead>\n",
       "  <tbody>\n",
       "    <tr>\n",
       "      <th>0</th>\n",
       "      <td>B00000DMAN</td>\n",
       "      <td>5</td>\n",
       "      <td>11 28, 1999</td>\n",
       "      <td>The X-Files Game</td>\n",
       "      <td>PC</td>\n",
       "      <td>https://images-na.ssl-images-amazon.com/images/I/31BDm2VqflL.jpg</td>\n",
       "      <td>This game is a lot of fun, with a creepy atmosphere that revolves around the disappearance of Ag...</td>\n",
       "      <td>good</td>\n",
       "      <td>game lot fun creepy atmosphere revolves around disappearance agent mulder scully heard complain ...</td>\n",
       "      <td>[game, lot, fun, creepy, atmosphere, revolves, around, disappearance, agent, mulder, scully, hea...</td>\n",
       "    </tr>\n",
       "    <tr>\n",
       "      <th>1</th>\n",
       "      <td>B00000DMAN</td>\n",
       "      <td>4</td>\n",
       "      <td>03 5, 2003</td>\n",
       "      <td>The X-Files Game</td>\n",
       "      <td>PC</td>\n",
       "      <td>https://images-na.ssl-images-amazon.com/images/I/31BDm2VqflL.jpg</td>\n",
       "      <td>This was not the best mystery/adventure game I've ever played, and I'm not even a big fan of suc...</td>\n",
       "      <td>good</td>\n",
       "      <td>not best mysteryadventure game ever played not even big fan game begin serious xphile despite se...</td>\n",
       "      <td>[not, best, mysteryadventure, game, ever, played, not, even, big, fan, game, begin, serious, xph...</td>\n",
       "    </tr>\n",
       "    <tr>\n",
       "      <th>2</th>\n",
       "      <td>B00000DMAN</td>\n",
       "      <td>4</td>\n",
       "      <td>02 13, 2001</td>\n",
       "      <td>The X-Files Game</td>\n",
       "      <td>PC</td>\n",
       "      <td>https://images-na.ssl-images-amazon.com/images/I/31BDm2VqflL.jpg</td>\n",
       "      <td>This was a pretty good game, but not a great game. I'd probably rate this closer to 3 1/2 stars....</td>\n",
       "      <td>good</td>\n",
       "      <td>pretty good game not great game id probably rate closer star agent craig wilmore scully mulder d...</td>\n",
       "      <td>[pretty, good, game, not, great, game, id, probably, rate, closer, star, agent, craig, wilmore, ...</td>\n",
       "    </tr>\n",
       "    <tr>\n",
       "      <th>3</th>\n",
       "      <td>B00000DMAN</td>\n",
       "      <td>4</td>\n",
       "      <td>08 19, 2000</td>\n",
       "      <td>The X-Files Game</td>\n",
       "      <td>PC</td>\n",
       "      <td>https://images-na.ssl-images-amazon.com/images/I/31BDm2VqflL.jpg</td>\n",
       "      <td>We stopped watching the series (lack of time) and so this was a nice way  to keep the excitement...</td>\n",
       "      <td>good</td>\n",
       "      <td>stopped watching series lack time nice way keep excitement going game good perhaps little disori...</td>\n",
       "      <td>[stopped, watching, series, lack, time, nice, way, keep, excitement, going, game, good, perhaps,...</td>\n",
       "    </tr>\n",
       "    <tr>\n",
       "      <th>4</th>\n",
       "      <td>B00000DMAN</td>\n",
       "      <td>5</td>\n",
       "      <td>07 27, 2000</td>\n",
       "      <td>The X-Files Game</td>\n",
       "      <td>PC</td>\n",
       "      <td>https://images-na.ssl-images-amazon.com/images/I/31BDm2VqflL.jpg</td>\n",
       "      <td>As a fan of Myst and Riven, I would not put this game in the same  category.  However, it does e...</td>\n",
       "      <td>good</td>\n",
       "      <td>fan myst riven would not put game category however equally well type myst riven not main charact...</td>\n",
       "      <td>[fan, myst, riven, would, not, put, game, category, however, equally, well, type, myst, riven, n...</td>\n",
       "    </tr>\n",
       "  </tbody>\n",
       "</table>\n",
       "</div>"
      ],
      "text/plain": [
       "         asin  overall   reviewTime             title category  \\\n",
       "0  B00000DMAN        5  11 28, 1999  The X-Files Game       PC   \n",
       "1  B00000DMAN        4   03 5, 2003  The X-Files Game       PC   \n",
       "2  B00000DMAN        4  02 13, 2001  The X-Files Game       PC   \n",
       "3  B00000DMAN        4  08 19, 2000  The X-Files Game       PC   \n",
       "4  B00000DMAN        5  07 27, 2000  The X-Files Game       PC   \n",
       "\n",
       "                                                    imageURLHighRes  \\\n",
       "0  https://images-na.ssl-images-amazon.com/images/I/31BDm2VqflL.jpg   \n",
       "1  https://images-na.ssl-images-amazon.com/images/I/31BDm2VqflL.jpg   \n",
       "2  https://images-na.ssl-images-amazon.com/images/I/31BDm2VqflL.jpg   \n",
       "3  https://images-na.ssl-images-amazon.com/images/I/31BDm2VqflL.jpg   \n",
       "4  https://images-na.ssl-images-amazon.com/images/I/31BDm2VqflL.jpg   \n",
       "\n",
       "                                                                                               reviews  \\\n",
       "0  This game is a lot of fun, with a creepy atmosphere that revolves around the disappearance of Ag...   \n",
       "1  This was not the best mystery/adventure game I've ever played, and I'm not even a big fan of suc...   \n",
       "2  This was a pretty good game, but not a great game. I'd probably rate this closer to 3 1/2 stars....   \n",
       "3  We stopped watching the series (lack of time) and so this was a nice way  to keep the excitement...   \n",
       "4  As a fan of Myst and Riven, I would not put this game in the same  category.  However, it does e...   \n",
       "\n",
       "  rating_class  \\\n",
       "0         good   \n",
       "1         good   \n",
       "2         good   \n",
       "3         good   \n",
       "4         good   \n",
       "\n",
       "                                                                                            clean_text  \\\n",
       "0  game lot fun creepy atmosphere revolves around disappearance agent mulder scully heard complain ...   \n",
       "1  not best mysteryadventure game ever played not even big fan game begin serious xphile despite se...   \n",
       "2  pretty good game not great game id probably rate closer star agent craig wilmore scully mulder d...   \n",
       "3  stopped watching series lack time nice way keep excitement going game good perhaps little disori...   \n",
       "4  fan myst riven would not put game category however equally well type myst riven not main charact...   \n",
       "\n",
       "                                                                                                 token  \n",
       "0  [game, lot, fun, creepy, atmosphere, revolves, around, disappearance, agent, mulder, scully, hea...  \n",
       "1  [not, best, mysteryadventure, game, ever, played, not, even, big, fan, game, begin, serious, xph...  \n",
       "2  [pretty, good, game, not, great, game, id, probably, rate, closer, star, agent, craig, wilmore, ...  \n",
       "3  [stopped, watching, series, lack, time, nice, way, keep, excitement, going, game, good, perhaps,...  \n",
       "4  [fan, myst, riven, would, not, put, game, category, however, equally, well, type, myst, riven, n...  "
      ]
     },
     "execution_count": 17,
     "metadata": {},
     "output_type": "execute_result"
    }
   ],
   "source": [
    "reviews.head()"
   ]
  },
  {
   "cell_type": "code",
   "execution_count": 18,
   "id": "individual-sympathy",
   "metadata": {},
   "outputs": [],
   "source": [
    "reviews['rating_class'] = reviews['rating_class'].apply(lambda x: 0 if x == 'bad' else 1)"
   ]
  },
  {
   "cell_type": "code",
   "execution_count": 19,
   "id": "accepted-dancing",
   "metadata": {},
   "outputs": [],
   "source": [
    "X = reviews['clean_text']\n",
    "y = reviews['rating_class']"
   ]
  },
  {
   "cell_type": "code",
   "execution_count": 20,
   "id": "revised-offense",
   "metadata": {},
   "outputs": [],
   "source": [
    "#!pip install sklearn\n",
    "\n",
    "# Splitting Dataset into train and test set \n",
    "X_train, X_test, y_train, y_test = train_test_split(X, y, test_size=0.25, random_state=42)"
   ]
  },
  {
   "cell_type": "code",
   "execution_count": 21,
   "id": "strange-chancellor",
   "metadata": {},
   "outputs": [
    {
     "name": "stdout",
     "output_type": "stream",
     "text": [
      "Train Set Shape\t\t:(83686,)\n",
      "Test Set Shape\t\t:(27896,)\n"
     ]
    }
   ],
   "source": [
    "print ('Train Set Shape\\t\\t:{}\\nTest Set Shape\\t\\t:{}'.format(X_train.shape, X_test.shape))"
   ]
  },
  {
   "cell_type": "code",
   "execution_count": 22,
   "id": "analyzed-effects",
   "metadata": {},
   "outputs": [],
   "source": [
    "def plot_confusion_matrix(cm, classes,\n",
    "                          normalize=False,\n",
    "                          title = 'Confusion matrix',\n",
    "                          cmap = plt.cm.ocean):\n",
    "    \"\"\"\n",
    "    Create a confusion matrix plot for 'good' and 'bad' rating values \n",
    "    \"\"\"\n",
    "    if normalize:\n",
    "        cm = cm.astype('float') / cm.sum(axis = 1)[:, np.newaxis]\n",
    "    plt.imshow(cm, interpolation = 'nearest', cmap = cmap)\n",
    "    plt.title(title, fontsize = 20)\n",
    "    plt.colorbar()\n",
    "    tick_marks = np.arange(len(classes))\n",
    "    plt.xticks(tick_marks, classes, fontsize = 20)\n",
    "    plt.yticks(tick_marks, classes, fontsize = 20)\n",
    "    \n",
    "    fmt = '.2f' if normalize else 'd'\n",
    "    thresh = cm.max() / 2.\n",
    "\n",
    "    for i, j in itertools.product(range(cm.shape[0]), range(cm.shape[1])):\n",
    "        plt.text(j, i, format(cm[i, j], fmt), horizontalalignment = \"center\", \n",
    "                 color = \"white\" if cm[i, j] < thresh else \"black\", fontsize = 40)\n",
    "    \n",
    "    plt.tight_layout()\n",
    "    plt.ylabel('True Label', fontsize = 30)\n",
    "    plt.xlabel('Predicted Label', fontsize = 30)\n",
    "\n",
    "    return plt"
   ]
  },
  {
   "cell_type": "code",
   "execution_count": 23,
   "id": "accredited-webcam",
   "metadata": {},
   "outputs": [],
   "source": [
    "def disp_confusion_matrix(y_pred, model_name, vector = 'CounterVectorizing'):\n",
    "    \"\"\"\n",
    "    Display confusion matrix for selected model with countVectorizer\n",
    "    \"\"\"\n",
    "    cm = confusion_matrix(y_test, y_pred)\n",
    "    fig = plt.figure(figsize=(10, 10))\n",
    "    plot = plot_confusion_matrix(cm, classes=['Bad','Good'], normalize=False, \n",
    "                                 title = model_name + \" \" + 'with' + \" \" + vector + \" \"+ '\\nConfusion Matrix')\n",
    "    plt.show()"
   ]
  },
  {
   "cell_type": "code",
   "execution_count": 24,
   "id": "modular-monday",
   "metadata": {},
   "outputs": [],
   "source": [
    "# Create the word vector with CountVectorizer\n",
    "count_vect = CountVectorizer(ngram_range=(1,1), max_features=10000)\n",
    "count_vect_train = count_vect.fit_transform(X_train)\n",
    "count_vect_train = count_vect_train.toarray()\n",
    "count_vect_test = count_vect.transform(X_test)\n",
    "count_vect_test = count_vect_test.toarray()"
   ]
  },
  {
   "cell_type": "code",
   "execution_count": 25,
   "id": "dressed-halifax",
   "metadata": {},
   "outputs": [
    {
     "name": "stdout",
     "output_type": "stream",
     "text": [
      "Vocabulary length : 10000\n"
     ]
    }
   ],
   "source": [
    "print('Vocabulary length :', len(count_vect.get_feature_names()))"
   ]
  },
  {
   "cell_type": "code",
   "execution_count": 26,
   "id": "earlier-catch",
   "metadata": {},
   "outputs": [],
   "source": [
    "# Assign feature names of vector into a variable\n",
    "vocab = count_vect.get_feature_names()"
   ]
  },
  {
   "cell_type": "code",
   "execution_count": 27,
   "id": "modern-findings",
   "metadata": {},
   "outputs": [
    {
     "data": {
      "text/html": [
       "<div>\n",
       "<style scoped>\n",
       "    .dataframe tbody tr th:only-of-type {\n",
       "        vertical-align: middle;\n",
       "    }\n",
       "\n",
       "    .dataframe tbody tr th {\n",
       "        vertical-align: top;\n",
       "    }\n",
       "\n",
       "    .dataframe thead th {\n",
       "        text-align: right;\n",
       "    }\n",
       "</style>\n",
       "<table border=\"1\" class=\"dataframe\">\n",
       "  <thead>\n",
       "    <tr style=\"text-align: right;\">\n",
       "      <th></th>\n",
       "      <th>aa</th>\n",
       "      <th>aaa</th>\n",
       "      <th>abandon</th>\n",
       "      <th>abandoned</th>\n",
       "      <th>ability</th>\n",
       "      <th>abit</th>\n",
       "      <th>able</th>\n",
       "      <th>aboard</th>\n",
       "      <th>abomination</th>\n",
       "      <th>abound</th>\n",
       "      <th>...</th>\n",
       "      <th>zillion</th>\n",
       "      <th>zip</th>\n",
       "      <th>zombie</th>\n",
       "      <th>zombrex</th>\n",
       "      <th>zone</th>\n",
       "      <th>zoning</th>\n",
       "      <th>zoo</th>\n",
       "      <th>zoom</th>\n",
       "      <th>zoomed</th>\n",
       "      <th>zooming</th>\n",
       "    </tr>\n",
       "  </thead>\n",
       "  <tbody>\n",
       "    <tr>\n",
       "      <th>0</th>\n",
       "      <td>0</td>\n",
       "      <td>0</td>\n",
       "      <td>0</td>\n",
       "      <td>0</td>\n",
       "      <td>0</td>\n",
       "      <td>0</td>\n",
       "      <td>0</td>\n",
       "      <td>0</td>\n",
       "      <td>0</td>\n",
       "      <td>0</td>\n",
       "      <td>...</td>\n",
       "      <td>0</td>\n",
       "      <td>0</td>\n",
       "      <td>0</td>\n",
       "      <td>0</td>\n",
       "      <td>0</td>\n",
       "      <td>0</td>\n",
       "      <td>0</td>\n",
       "      <td>0</td>\n",
       "      <td>0</td>\n",
       "      <td>0</td>\n",
       "    </tr>\n",
       "    <tr>\n",
       "      <th>1</th>\n",
       "      <td>0</td>\n",
       "      <td>0</td>\n",
       "      <td>0</td>\n",
       "      <td>0</td>\n",
       "      <td>0</td>\n",
       "      <td>0</td>\n",
       "      <td>0</td>\n",
       "      <td>0</td>\n",
       "      <td>0</td>\n",
       "      <td>0</td>\n",
       "      <td>...</td>\n",
       "      <td>0</td>\n",
       "      <td>0</td>\n",
       "      <td>0</td>\n",
       "      <td>0</td>\n",
       "      <td>0</td>\n",
       "      <td>0</td>\n",
       "      <td>0</td>\n",
       "      <td>0</td>\n",
       "      <td>0</td>\n",
       "      <td>0</td>\n",
       "    </tr>\n",
       "    <tr>\n",
       "      <th>2</th>\n",
       "      <td>0</td>\n",
       "      <td>0</td>\n",
       "      <td>0</td>\n",
       "      <td>0</td>\n",
       "      <td>0</td>\n",
       "      <td>0</td>\n",
       "      <td>0</td>\n",
       "      <td>0</td>\n",
       "      <td>0</td>\n",
       "      <td>0</td>\n",
       "      <td>...</td>\n",
       "      <td>0</td>\n",
       "      <td>0</td>\n",
       "      <td>0</td>\n",
       "      <td>0</td>\n",
       "      <td>0</td>\n",
       "      <td>0</td>\n",
       "      <td>0</td>\n",
       "      <td>0</td>\n",
       "      <td>0</td>\n",
       "      <td>0</td>\n",
       "    </tr>\n",
       "    <tr>\n",
       "      <th>3</th>\n",
       "      <td>0</td>\n",
       "      <td>0</td>\n",
       "      <td>0</td>\n",
       "      <td>0</td>\n",
       "      <td>0</td>\n",
       "      <td>0</td>\n",
       "      <td>0</td>\n",
       "      <td>0</td>\n",
       "      <td>0</td>\n",
       "      <td>0</td>\n",
       "      <td>...</td>\n",
       "      <td>0</td>\n",
       "      <td>0</td>\n",
       "      <td>0</td>\n",
       "      <td>0</td>\n",
       "      <td>0</td>\n",
       "      <td>0</td>\n",
       "      <td>0</td>\n",
       "      <td>0</td>\n",
       "      <td>0</td>\n",
       "      <td>0</td>\n",
       "    </tr>\n",
       "    <tr>\n",
       "      <th>4</th>\n",
       "      <td>0</td>\n",
       "      <td>0</td>\n",
       "      <td>0</td>\n",
       "      <td>0</td>\n",
       "      <td>0</td>\n",
       "      <td>0</td>\n",
       "      <td>0</td>\n",
       "      <td>0</td>\n",
       "      <td>0</td>\n",
       "      <td>0</td>\n",
       "      <td>...</td>\n",
       "      <td>0</td>\n",
       "      <td>0</td>\n",
       "      <td>2</td>\n",
       "      <td>0</td>\n",
       "      <td>0</td>\n",
       "      <td>0</td>\n",
       "      <td>0</td>\n",
       "      <td>0</td>\n",
       "      <td>0</td>\n",
       "      <td>0</td>\n",
       "    </tr>\n",
       "    <tr>\n",
       "      <th>...</th>\n",
       "      <td>...</td>\n",
       "      <td>...</td>\n",
       "      <td>...</td>\n",
       "      <td>...</td>\n",
       "      <td>...</td>\n",
       "      <td>...</td>\n",
       "      <td>...</td>\n",
       "      <td>...</td>\n",
       "      <td>...</td>\n",
       "      <td>...</td>\n",
       "      <td>...</td>\n",
       "      <td>...</td>\n",
       "      <td>...</td>\n",
       "      <td>...</td>\n",
       "      <td>...</td>\n",
       "      <td>...</td>\n",
       "      <td>...</td>\n",
       "      <td>...</td>\n",
       "      <td>...</td>\n",
       "      <td>...</td>\n",
       "      <td>...</td>\n",
       "    </tr>\n",
       "    <tr>\n",
       "      <th>83681</th>\n",
       "      <td>0</td>\n",
       "      <td>0</td>\n",
       "      <td>0</td>\n",
       "      <td>0</td>\n",
       "      <td>0</td>\n",
       "      <td>0</td>\n",
       "      <td>0</td>\n",
       "      <td>0</td>\n",
       "      <td>0</td>\n",
       "      <td>0</td>\n",
       "      <td>...</td>\n",
       "      <td>0</td>\n",
       "      <td>0</td>\n",
       "      <td>0</td>\n",
       "      <td>0</td>\n",
       "      <td>0</td>\n",
       "      <td>0</td>\n",
       "      <td>0</td>\n",
       "      <td>0</td>\n",
       "      <td>0</td>\n",
       "      <td>0</td>\n",
       "    </tr>\n",
       "    <tr>\n",
       "      <th>83682</th>\n",
       "      <td>0</td>\n",
       "      <td>0</td>\n",
       "      <td>0</td>\n",
       "      <td>0</td>\n",
       "      <td>2</td>\n",
       "      <td>0</td>\n",
       "      <td>0</td>\n",
       "      <td>0</td>\n",
       "      <td>0</td>\n",
       "      <td>0</td>\n",
       "      <td>...</td>\n",
       "      <td>0</td>\n",
       "      <td>0</td>\n",
       "      <td>0</td>\n",
       "      <td>0</td>\n",
       "      <td>0</td>\n",
       "      <td>0</td>\n",
       "      <td>0</td>\n",
       "      <td>0</td>\n",
       "      <td>0</td>\n",
       "      <td>0</td>\n",
       "    </tr>\n",
       "    <tr>\n",
       "      <th>83683</th>\n",
       "      <td>0</td>\n",
       "      <td>0</td>\n",
       "      <td>0</td>\n",
       "      <td>0</td>\n",
       "      <td>0</td>\n",
       "      <td>0</td>\n",
       "      <td>0</td>\n",
       "      <td>0</td>\n",
       "      <td>0</td>\n",
       "      <td>0</td>\n",
       "      <td>...</td>\n",
       "      <td>0</td>\n",
       "      <td>0</td>\n",
       "      <td>0</td>\n",
       "      <td>0</td>\n",
       "      <td>0</td>\n",
       "      <td>0</td>\n",
       "      <td>0</td>\n",
       "      <td>0</td>\n",
       "      <td>0</td>\n",
       "      <td>0</td>\n",
       "    </tr>\n",
       "    <tr>\n",
       "      <th>83684</th>\n",
       "      <td>0</td>\n",
       "      <td>0</td>\n",
       "      <td>0</td>\n",
       "      <td>0</td>\n",
       "      <td>0</td>\n",
       "      <td>0</td>\n",
       "      <td>0</td>\n",
       "      <td>0</td>\n",
       "      <td>0</td>\n",
       "      <td>0</td>\n",
       "      <td>...</td>\n",
       "      <td>0</td>\n",
       "      <td>0</td>\n",
       "      <td>0</td>\n",
       "      <td>0</td>\n",
       "      <td>0</td>\n",
       "      <td>0</td>\n",
       "      <td>0</td>\n",
       "      <td>0</td>\n",
       "      <td>0</td>\n",
       "      <td>0</td>\n",
       "    </tr>\n",
       "    <tr>\n",
       "      <th>83685</th>\n",
       "      <td>0</td>\n",
       "      <td>0</td>\n",
       "      <td>0</td>\n",
       "      <td>0</td>\n",
       "      <td>0</td>\n",
       "      <td>0</td>\n",
       "      <td>0</td>\n",
       "      <td>0</td>\n",
       "      <td>0</td>\n",
       "      <td>0</td>\n",
       "      <td>...</td>\n",
       "      <td>0</td>\n",
       "      <td>0</td>\n",
       "      <td>0</td>\n",
       "      <td>0</td>\n",
       "      <td>0</td>\n",
       "      <td>0</td>\n",
       "      <td>0</td>\n",
       "      <td>0</td>\n",
       "      <td>0</td>\n",
       "      <td>0</td>\n",
       "    </tr>\n",
       "  </tbody>\n",
       "</table>\n",
       "<p>83686 rows × 10000 columns</p>\n",
       "</div>"
      ],
      "text/plain": [
       "       aa  aaa  abandon  abandoned  ability  abit  able  aboard  abomination  \\\n",
       "0       0    0        0          0        0     0     0       0            0   \n",
       "1       0    0        0          0        0     0     0       0            0   \n",
       "2       0    0        0          0        0     0     0       0            0   \n",
       "3       0    0        0          0        0     0     0       0            0   \n",
       "4       0    0        0          0        0     0     0       0            0   \n",
       "...    ..  ...      ...        ...      ...   ...   ...     ...          ...   \n",
       "83681   0    0        0          0        0     0     0       0            0   \n",
       "83682   0    0        0          0        2     0     0       0            0   \n",
       "83683   0    0        0          0        0     0     0       0            0   \n",
       "83684   0    0        0          0        0     0     0       0            0   \n",
       "83685   0    0        0          0        0     0     0       0            0   \n",
       "\n",
       "       abound  ...  zillion  zip  zombie  zombrex  zone  zoning  zoo  zoom  \\\n",
       "0           0  ...        0    0       0        0     0       0    0     0   \n",
       "1           0  ...        0    0       0        0     0       0    0     0   \n",
       "2           0  ...        0    0       0        0     0       0    0     0   \n",
       "3           0  ...        0    0       0        0     0       0    0     0   \n",
       "4           0  ...        0    0       2        0     0       0    0     0   \n",
       "...       ...  ...      ...  ...     ...      ...   ...     ...  ...   ...   \n",
       "83681       0  ...        0    0       0        0     0       0    0     0   \n",
       "83682       0  ...        0    0       0        0     0       0    0     0   \n",
       "83683       0  ...        0    0       0        0     0       0    0     0   \n",
       "83684       0  ...        0    0       0        0     0       0    0     0   \n",
       "83685       0  ...        0    0       0        0     0       0    0     0   \n",
       "\n",
       "       zoomed  zooming  \n",
       "0           0        0  \n",
       "1           0        0  \n",
       "2           0        0  \n",
       "3           0        0  \n",
       "4           0        0  \n",
       "...       ...      ...  \n",
       "83681       0        0  \n",
       "83682       0        0  \n",
       "83683       0        0  \n",
       "83684       0        0  \n",
       "83685       0        0  \n",
       "\n",
       "[83686 rows x 10000 columns]"
      ]
     },
     "execution_count": 27,
     "metadata": {},
     "output_type": "execute_result"
    }
   ],
   "source": [
    "pd.DataFrame(count_vect_train, columns = vocab)"
   ]
  },
  {
   "cell_type": "code",
   "execution_count": 28,
   "id": "cutting-impossible",
   "metadata": {},
   "outputs": [],
   "source": [
    "def modeling(Model, Xtrain = count_vect_train, Xtest = count_vect_test):\n",
    "    \"\"\"\n",
    "    This function apply countVectorizer with machine learning algorithms. \n",
    "    \"\"\"\n",
    "    \n",
    "    # Instantiate the classifier: model\n",
    "    model = Model\n",
    "    \n",
    "    # Fitting classifier to the Training set (all features)\n",
    "    model.fit(Xtrain, y_train)\n",
    "    \n",
    "    global y_pred\n",
    "    # Predicting the Test set results\n",
    "    y_pred = model.predict(Xtest)\n",
    "    \n",
    "    # Assign f1 score to a variable\n",
    "    score = f1_score(y_test, y_pred, average = 'weighted')\n",
    "    \n",
    "    # Printing evaluation metric (f1-score) \n",
    "    print(\"f1 score: {}\".format(score)) "
   ]
  },
  {
   "cell_type": "code",
   "execution_count": 29,
   "id": "concrete-symphony",
   "metadata": {},
   "outputs": [
    {
     "name": "stdout",
     "output_type": "stream",
     "text": [
      "f1 score: 0.7549607743649035\n"
     ]
    }
   ],
   "source": [
    "clf = DummyClassifier(strategy = 'stratified', random_state =42)\n",
    "clf.fit(X_train, y_train)\n",
    "y_pred = clf.predict(X_test)\n",
    "score = f1_score(y_test, y_pred, average = 'weighted')\n",
    "    \n",
    "# Printing evaluation metric (f1-score) \n",
    "print(\"f1 score: {}\".format(score))"
   ]
  },
  {
   "cell_type": "code",
   "execution_count": 30,
   "id": "possible-composite",
   "metadata": {},
   "outputs": [
    {
     "name": "stdout",
     "output_type": "stream",
     "text": [
      "              precision    recall  f1-score   support\n",
      "\n",
      "           0       0.16      0.15      0.15      4059\n",
      "           1       0.86      0.86      0.86     23837\n",
      "\n",
      "    accuracy                           0.76     27896\n",
      "   macro avg       0.51      0.51      0.51     27896\n",
      "weighted avg       0.75      0.76      0.75     27896\n",
      "\n"
     ]
    }
   ],
   "source": [
    "# Compute and print the classification report\n",
    "print(classification_report(y_test, y_pred))"
   ]
  },
  {
   "cell_type": "code",
   "execution_count": null,
   "id": "treated-representative",
   "metadata": {},
   "outputs": [],
   "source": []
  },
  {
   "cell_type": "code",
   "execution_count": 31,
   "id": "finished-alpha",
   "metadata": {},
   "outputs": [
    {
     "name": "stdout",
     "output_type": "stream",
     "text": [
      "f1 score: 0.8898335675873317\n"
     ]
    }
   ],
   "source": [
    "# Call the modeling function for logistic regression with countvectorizer and print f1 score\n",
    "modeling(LogisticRegression(multi_class = 'multinomial', solver = 'sag',\n",
    "                                     class_weight = 'balanced', C = 0.1, n_jobs = -1, random_state = 42))\n",
    "\n",
    "# Assign y_pred to a variable for further process\n",
    "y_pred_cv_logreg = y_pred"
   ]
  },
  {
   "cell_type": "code",
   "execution_count": 32,
   "id": "flush-flesh",
   "metadata": {},
   "outputs": [
    {
     "name": "stdout",
     "output_type": "stream",
     "text": [
      "              precision    recall  f1-score   support\n",
      "\n",
      "           0       0.56      0.85      0.67      4059\n",
      "           1       0.97      0.89      0.93     23837\n",
      "\n",
      "    accuracy                           0.88     27896\n",
      "   macro avg       0.76      0.87      0.80     27896\n",
      "weighted avg       0.91      0.88      0.89     27896\n",
      "\n"
     ]
    }
   ],
   "source": [
    "# Compute and print the classification report\n",
    "print(classification_report(y_test, y_pred_cv_logreg))"
   ]
  },
  {
   "cell_type": "code",
   "execution_count": 33,
   "id": "gorgeous-press",
   "metadata": {
    "scrolled": false
   },
   "outputs": [
    {
     "data": {
      "image/png": "[encoded data removed]",
      "text/plain": [
       "<Figure size 720x720 with 2 Axes>"
      ]
     },
     "metadata": {
      "needs_background": "light"
     },
     "output_type": "display_data"
    }
   ],
   "source": [
    "# Print confusion matrix for logistic regression with countvectorizer\n",
    "disp_confusion_matrix(y_pred_cv_logreg, \"Logistic Regression\")"
   ]
  },
  {
   "cell_type": "code",
   "execution_count": 34,
   "id": "different-monte",
   "metadata": {},
   "outputs": [],
   "source": [
    "#model = LogisticRegression()\n",
    "#parameters = {\n",
    "#    'solver' : ['sag', 'saga']\n",
    "#}"
   ]
  },
  {
   "cell_type": "code",
   "execution_count": 35,
   "id": "unlike-hayes",
   "metadata": {},
   "outputs": [],
   "source": [
    "#grid_search = GridSearchCV(model, param_grid=parameters, cv=10,verbose = 1, \n",
    "#                          scoring='accuracy',error_score=0)"
   ]
  },
  {
   "cell_type": "code",
   "execution_count": 36,
   "id": "careful-louis",
   "metadata": {},
   "outputs": [],
   "source": [
    "#grid_result = grid_search.fit(count_vect_train, y_train)"
   ]
  },
  {
   "cell_type": "code",
   "execution_count": 37,
   "id": "ancient-bahrain",
   "metadata": {},
   "outputs": [],
   "source": [
    "#grid_result.best_params_"
   ]
  },
  {
   "cell_type": "code",
   "execution_count": null,
   "id": "difficult-postcard",
   "metadata": {},
   "outputs": [],
   "source": []
  },
  {
   "cell_type": "code",
   "execution_count": 38,
   "id": "dated-retreat",
   "metadata": {},
   "outputs": [],
   "source": [
    "#weights = {0:6.0, 1:1.0}\n",
    "# Call the modeling function for logistic regression with countvectorizer and print f1 score\n",
    "#modeling(LogisticRegression(multi_class = 'multinomial',max_iter = 4000, verbose = 1, solver = 'sag',\n",
    "#                                     class_weight = weights, C = 0.1, n_jobs = -1, random_state = 42))\n",
    "\n",
    "# Assign y_pred to a variable for further process\n",
    "#y_pred_cv_logreg = y_pred"
   ]
  },
  {
   "cell_type": "code",
   "execution_count": 39,
   "id": "unavailable-positive",
   "metadata": {},
   "outputs": [],
   "source": [
    "# Compute and print the classification report\n",
    "#print(classification_report(y_test, y_pred_cv_logreg))"
   ]
  },
  {
   "cell_type": "code",
   "execution_count": 40,
   "id": "growing-uruguay",
   "metadata": {},
   "outputs": [],
   "source": [
    "# Print confusion matrix for logistic regression with countvectorizer\n",
    "#disp_confusion_matrix(y_pred_cv_logreg, \"Imbalanced Logistic Regression\")"
   ]
  },
  {
   "cell_type": "code",
   "execution_count": null,
   "id": "adaptive-suspect",
   "metadata": {},
   "outputs": [],
   "source": []
  },
  {
   "cell_type": "code",
   "execution_count": 41,
   "id": "plastic-still",
   "metadata": {},
   "outputs": [
    {
     "name": "stdout",
     "output_type": "stream",
     "text": [
      "f1 score: 0.8690770098083532\n"
     ]
    }
   ],
   "source": [
    "# Call the modeling function for random forest classifier with countvectorizer and print f1 score\n",
    "modeling(RandomForestClassifier(n_estimators = 100, random_state = 42))\n",
    "\n",
    "# Assign y_pred to a variable for further process\n",
    "y_pred_cv_rf = y_pred"
   ]
  },
  {
   "cell_type": "code",
   "execution_count": 42,
   "id": "conditional-evening",
   "metadata": {},
   "outputs": [
    {
     "name": "stdout",
     "output_type": "stream",
     "text": [
      "              precision    recall  f1-score   support\n",
      "\n",
      "           0       0.92      0.30      0.45      4059\n",
      "           1       0.89      1.00      0.94     23837\n",
      "\n",
      "    accuracy                           0.89     27896\n",
      "   macro avg       0.90      0.65      0.69     27896\n",
      "weighted avg       0.90      0.89      0.87     27896\n",
      "\n"
     ]
    }
   ],
   "source": [
    "# Compute and print the classification report\n",
    "print(classification_report(y_test, y_pred_cv_rf))"
   ]
  },
  {
   "cell_type": "code",
   "execution_count": 43,
   "id": "suspended-charleston",
   "metadata": {},
   "outputs": [
    {
     "data": {
      "image/png": "[encoded data removed]",
      "text/plain": [
       "<Figure size 720x720 with 2 Axes>"
      ]
     },
     "metadata": {
      "needs_background": "light"
     },
     "output_type": "display_data"
    }
   ],
   "source": [
    "# Print confusion matrix for random forest classifier with countVectorizer\n",
    "disp_confusion_matrix(y_pred_cv_rf, \"Random Forest\")"
   ]
  },
  {
   "cell_type": "code",
   "execution_count": null,
   "id": "incomplete-earth",
   "metadata": {},
   "outputs": [],
   "source": []
  },
  {
   "cell_type": "code",
   "execution_count": 44,
   "id": "received-mercury",
   "metadata": {},
   "outputs": [],
   "source": [
    "#n_estimators = [10, 50, 100]"
   ]
  },
  {
   "cell_type": "code",
   "execution_count": 45,
   "id": "interim-response",
   "metadata": {},
   "outputs": [],
   "source": [
    "#param_grid = dict(n_estimators=n_estimators)"
   ]
  },
  {
   "cell_type": "code",
   "execution_count": 46,
   "id": "treated-cache",
   "metadata": {},
   "outputs": [],
   "source": [
    "#dfrst = RandomForestClassifier(n_estimators=n_estimators)"
   ]
  },
  {
   "cell_type": "code",
   "execution_count": 47,
   "id": "written-design",
   "metadata": {},
   "outputs": [],
   "source": [
    "#grid = GridSearchCV(estimator=dfrst, param_grid=param_grid)"
   ]
  },
  {
   "cell_type": "code",
   "execution_count": 48,
   "id": "rotary-studio",
   "metadata": {},
   "outputs": [],
   "source": [
    "#grid_results = grid.fit(count_vect_train, y_train)"
   ]
  },
  {
   "cell_type": "code",
   "execution_count": 49,
   "id": "removed-edward",
   "metadata": {},
   "outputs": [],
   "source": [
    "#grid_results.best_params_"
   ]
  },
  {
   "cell_type": "code",
   "execution_count": 50,
   "id": "surface-space",
   "metadata": {},
   "outputs": [
    {
     "name": "stdout",
     "output_type": "stream",
     "text": [
      "f1 score: 0.8710455816121602\n"
     ]
    }
   ],
   "source": [
    "# Call the modeling function for random forest classifier with countvectorizer and print f1 score\n",
    "modeling(RandomForestClassifier(n_estimators = 50, random_state = 42))\n",
    "\n",
    "# Assign y_pred to a variable for further process\n",
    "y_pred_cv_rf = y_pred"
   ]
  },
  {
   "cell_type": "code",
   "execution_count": 51,
   "id": "korean-motivation",
   "metadata": {},
   "outputs": [
    {
     "name": "stdout",
     "output_type": "stream",
     "text": [
      "              precision    recall  f1-score   support\n",
      "\n",
      "           0       0.91      0.31      0.46      4059\n",
      "           1       0.89      0.99      0.94     23837\n",
      "\n",
      "    accuracy                           0.89     27896\n",
      "   macro avg       0.90      0.65      0.70     27896\n",
      "weighted avg       0.90      0.89      0.87     27896\n",
      "\n"
     ]
    }
   ],
   "source": [
    "# Compute and print the classification report\n",
    "print(classification_report(y_test, y_pred_cv_rf))"
   ]
  },
  {
   "cell_type": "code",
   "execution_count": 52,
   "id": "german-cooperative",
   "metadata": {},
   "outputs": [
    {
     "data": {
      "image/png": "[encoded data removed]",
      "text/plain": [
       "<Figure size 720x720 with 2 Axes>"
      ]
     },
     "metadata": {
      "needs_background": "light"
     },
     "output_type": "display_data"
    }
   ],
   "source": [
    "# Print confusion matrix for random forest classifier with countVectorizer\n",
    "disp_confusion_matrix(y_pred_cv_rf, \"Random Forest with GridSearch\")"
   ]
  },
  {
   "cell_type": "code",
   "execution_count": null,
   "id": "quiet-syria",
   "metadata": {},
   "outputs": [],
   "source": []
  },
  {
   "cell_type": "code",
   "execution_count": null,
   "id": "wooden-quilt",
   "metadata": {},
   "outputs": [],
   "source": []
  },
  {
   "cell_type": "code",
   "execution_count": null,
   "id": "cross-auction",
   "metadata": {},
   "outputs": [],
   "source": []
  },
  {
   "cell_type": "code",
   "execution_count": 53,
   "id": "answering-preservation",
   "metadata": {},
   "outputs": [
    {
     "name": "stdout",
     "output_type": "stream",
     "text": [
      "f1 score: 0.8939144404311608\n"
     ]
    }
   ],
   "source": [
    "# Call the modeling function for naive bayes with countvectorizer and print f1 score\n",
    "modeling(MultinomialNB())\n",
    "\n",
    "# Assign y_pred to a variable for further process\n",
    "y_pred_cv_nb = y_pred"
   ]
  },
  {
   "cell_type": "code",
   "execution_count": 54,
   "id": "under-present",
   "metadata": {},
   "outputs": [
    {
     "name": "stdout",
     "output_type": "stream",
     "text": [
      "              precision    recall  f1-score   support\n",
      "\n",
      "           0       0.61      0.70      0.65      4059\n",
      "           1       0.95      0.92      0.94     23837\n",
      "\n",
      "    accuracy                           0.89     27896\n",
      "   macro avg       0.78      0.81      0.79     27896\n",
      "weighted avg       0.90      0.89      0.89     27896\n",
      "\n"
     ]
    }
   ],
   "source": [
    "# Compute and print the classification report\n",
    "print(classification_report(y_test, y_pred_cv_nb))"
   ]
  },
  {
   "cell_type": "code",
   "execution_count": 55,
   "id": "fifty-journey",
   "metadata": {},
   "outputs": [
    {
     "data": {
      "image/png": "[encoded data removed]",
      "text/plain": [
       "<Figure size 720x720 with 2 Axes>"
      ]
     },
     "metadata": {
      "needs_background": "light"
     },
     "output_type": "display_data"
    }
   ],
   "source": [
    "# Print confusion matrix for naive bayes with countVectorizer\n",
    "disp_confusion_matrix(y_pred_cv_nb, \"Naive Bayes\")"
   ]
  },
  {
   "cell_type": "code",
   "execution_count": 56,
   "id": "realistic-annual",
   "metadata": {},
   "outputs": [
    {
     "name": "stdout",
     "output_type": "stream",
     "text": [
      "[19:59:18] WARNING: C:/Users/Administrator/workspace/xgboost-win64_release_1.5.1/src/learner.cc:1115: Starting in XGBoost 1.3.0, the default evaluation metric used with the objective 'binary:logistic' was changed from 'error' to 'logloss'. Explicitly set eval_metric if you'd like to restore the old behavior.\n",
      "f1 score: 0.9018376980364714\n"
     ]
    }
   ],
   "source": [
    "# Call the modeling function for XGBoost with countvectorizer and print f1 score\n",
    "modeling(XGBClassifier())\n",
    "\n",
    "# Assign y_pred to a variable for further process\n",
    "y_pred_cv_xgb = y_pred"
   ]
  },
  {
   "cell_type": "code",
   "execution_count": 57,
   "id": "recovered-medication",
   "metadata": {},
   "outputs": [
    {
     "name": "stdout",
     "output_type": "stream",
     "text": [
      "              precision    recall  f1-score   support\n",
      "\n",
      "           0       0.80      0.51      0.62      4059\n",
      "           1       0.92      0.98      0.95     23837\n",
      "\n",
      "    accuracy                           0.91     27896\n",
      "   macro avg       0.86      0.75      0.79     27896\n",
      "weighted avg       0.90      0.91      0.90     27896\n",
      "\n"
     ]
    }
   ],
   "source": [
    "# Compute and print the classification report\n",
    "print(classification_report(y_test, y_pred_cv_xgb))"
   ]
  },
  {
   "cell_type": "code",
   "execution_count": 58,
   "id": "satellite-column",
   "metadata": {},
   "outputs": [
    {
     "data": {
      "image/png": "[encoded data removed]",
      "text/plain": [
       "<Figure size 720x720 with 2 Axes>"
      ]
     },
     "metadata": {
      "needs_background": "light"
     },
     "output_type": "display_data"
    }
   ],
   "source": [
    "# Print confusion matrix for gradient boosting with countVectorizer\n",
    "disp_confusion_matrix(y_pred_cv_xgb, \"XGBoost\")"
   ]
  },
  {
   "cell_type": "code",
   "execution_count": null,
   "id": "victorian-junction",
   "metadata": {},
   "outputs": [],
   "source": []
  },
  {
   "cell_type": "code",
   "execution_count": 59,
   "id": "organized-sight",
   "metadata": {},
   "outputs": [],
   "source": [
    "# Function for converting the \"classification report\" results to a dataframe\n",
    "def pandas_classification_report(y_true, y_pred):\n",
    "    metrics_summary = precision_recall_fscore_support(\n",
    "            y_true=y_true, \n",
    "            y_pred=y_pred)\n",
    "\n",
    "    avg = list(precision_recall_fscore_support(\n",
    "            y_true=y_true, \n",
    "            y_pred=y_pred,\n",
    "            average='weighted'))\n",
    "\n",
    "    metrics_sum_index = ['precision', 'recall', 'f1-score', 'support']\n",
    "    class_report_df = pd.DataFrame(\n",
    "        list(metrics_summary),\n",
    "        index=metrics_sum_index)\n",
    "\n",
    "    support = class_report_df.loc['support']\n",
    "    total = support.sum() \n",
    "    avg[-1] = total\n",
    "\n",
    "    class_report_df['weighted avg'] = avg\n",
    "\n",
    "    return class_report_df.T"
   ]
  },
  {
   "cell_type": "code",
   "execution_count": 60,
   "id": "acquired-belize",
   "metadata": {},
   "outputs": [],
   "source": [
    "# Function for adding explanatory columns and organizing all dataframe\n",
    "def comparison_matrix(y_test, y_pred, label, vector):\n",
    "    df = pandas_classification_report(y_test, y_pred)\n",
    "    df['class']=['bad', 'good', 'average']\n",
    "    df['accuracy']= metrics.accuracy_score(y_test, y_pred)\n",
    "    df['model'] = label\n",
    "    df['vectorizer'] = vector\n",
    "    df = df[['vectorizer', 'model', 'accuracy', 'class', 'precision', 'recall', 'f1-score', 'support']]\n",
    "    return df"
   ]
  },
  {
   "cell_type": "code",
   "execution_count": 61,
   "id": "beautiful-category",
   "metadata": {},
   "outputs": [],
   "source": [
    "#For loop for using \"comparison functions\" \n",
    "\n",
    "def comparison_table(y_preds, labels):\n",
    "    \n",
    "    # empty list for collecting dataframes\n",
    "    frames_tv = [] \n",
    "    \n",
    "    # list for y_preds\n",
    "    y_preds_tv = y_preds\n",
    "    \n",
    "    # list for labels\n",
    "    labels_tv = labels  \n",
    "    \n",
    "    vector_tv = 'CountVect'\n",
    "    \n",
    "    for y_pred, label in zip(y_preds_tv, labels_tv):\n",
    "        df = comparison_matrix(y_test, y_pred, label, vector_tv)\n",
    "        frames_tv.append(df)\n",
    "\n",
    "    # concatenating all dataframes\n",
    "    global df_tv\n",
    "    df_tv = pd.concat(frames_tv)\n",
    "    \n",
    "    global df_tv2\n",
    "    df_tv2 = df_tv.set_index(['vectorizer', 'model', 'accuracy', 'class'])"
   ]
  },
  {
   "cell_type": "code",
   "execution_count": 62,
   "id": "spatial-orbit",
   "metadata": {},
   "outputs": [],
   "source": [
    "def f1_score_bar_plot(df, category, title):\n",
    "    df = df[df['class']==category]\n",
    "    x = list(df['model'])\n",
    "    y = list(df['f1-score'])\n",
    "    y_round = list(round(df['f1-score'],2))\n",
    "    a = (list(df['f1-score'])).index(max(list(df['f1-score'])))\n",
    "    z = (list(df['f1-score'])).index(min(list(df['f1-score'])))\n",
    "    y_mean = round(df['f1-score'].mean(),2)\n",
    "    \n",
    "    plt.rcParams['figure.figsize']=[15,5]\n",
    "    b_plot = plt.bar(x=x,height=y)\n",
    "    b_plot[a].set_color('g')\n",
    "    b_plot[z].set_color('r')\n",
    "    \n",
    "    for i,v in enumerate(y_round):\n",
    "        plt.text(i-.15,0.018,str(v), color='black', fontsize=15, fontweight='bold')\n",
    "    \n",
    "    plt.axhline(y_mean,ls='--',color='k',label=y_mean)\n",
    "    plt.title(title)\n",
    "    plt.legend()\n",
    "    \n",
    "    return plt.show()"
   ]
  },
  {
   "cell_type": "code",
   "execution_count": 67,
   "id": "individual-floor",
   "metadata": {},
   "outputs": [],
   "source": [
    "comparison_table(y_preds = [y_pred_cv_logreg, y_pred_cv_rf, y_pred_cv_nb, y_pred_cv_xgb], \n",
    "                labels = ['LogReg', 'Random Forest', 'Naive Bayes', 'XGBoost'])"
   ]
  },
  {
   "cell_type": "code",
   "execution_count": 68,
   "id": "rough-election",
   "metadata": {},
   "outputs": [
    {
     "data": {
      "text/html": [
       "<div>\n",
       "<style scoped>\n",
       "    .dataframe tbody tr th:only-of-type {\n",
       "        vertical-align: middle;\n",
       "    }\n",
       "\n",
       "    .dataframe tbody tr th {\n",
       "        vertical-align: top;\n",
       "    }\n",
       "\n",
       "    .dataframe thead th {\n",
       "        text-align: right;\n",
       "    }\n",
       "</style>\n",
       "<table border=\"1\" class=\"dataframe\">\n",
       "  <thead>\n",
       "    <tr style=\"text-align: right;\">\n",
       "      <th></th>\n",
       "      <th></th>\n",
       "      <th></th>\n",
       "      <th></th>\n",
       "      <th>precision</th>\n",
       "      <th>recall</th>\n",
       "      <th>f1-score</th>\n",
       "      <th>support</th>\n",
       "    </tr>\n",
       "    <tr>\n",
       "      <th>vectorizer</th>\n",
       "      <th>model</th>\n",
       "      <th>accuracy</th>\n",
       "      <th>class</th>\n",
       "      <th></th>\n",
       "      <th></th>\n",
       "      <th></th>\n",
       "      <th></th>\n",
       "    </tr>\n",
       "  </thead>\n",
       "  <tbody>\n",
       "    <tr>\n",
       "      <th rowspan=\"12\" valign=\"top\">CountVect</th>\n",
       "      <th rowspan=\"3\" valign=\"top\">LogReg</th>\n",
       "      <th rowspan=\"3\" valign=\"top\">0.880198</th>\n",
       "      <th>bad</th>\n",
       "      <td>0.557963</td>\n",
       "      <td>0.850209</td>\n",
       "      <td>0.673760</td>\n",
       "      <td>4059.0</td>\n",
       "    </tr>\n",
       "    <tr>\n",
       "      <th>good</th>\n",
       "      <td>0.971996</td>\n",
       "      <td>0.885304</td>\n",
       "      <td>0.926627</td>\n",
       "      <td>23837.0</td>\n",
       "    </tr>\n",
       "    <tr>\n",
       "      <th>average</th>\n",
       "      <td>0.911752</td>\n",
       "      <td>0.880198</td>\n",
       "      <td>0.889834</td>\n",
       "      <td>27896.0</td>\n",
       "    </tr>\n",
       "    <tr>\n",
       "      <th rowspan=\"3\" valign=\"top\">Random Forest</th>\n",
       "      <th rowspan=\"3\" valign=\"top\">0.894393</th>\n",
       "      <th>bad</th>\n",
       "      <td>0.906501</td>\n",
       "      <td>0.305740</td>\n",
       "      <td>0.457259</td>\n",
       "      <td>4059.0</td>\n",
       "    </tr>\n",
       "    <tr>\n",
       "      <th>good</th>\n",
       "      <td>0.893769</td>\n",
       "      <td>0.994630</td>\n",
       "      <td>0.941506</td>\n",
       "      <td>23837.0</td>\n",
       "    </tr>\n",
       "    <tr>\n",
       "      <th>average</th>\n",
       "      <td>0.895621</td>\n",
       "      <td>0.894393</td>\n",
       "      <td>0.871046</td>\n",
       "      <td>27896.0</td>\n",
       "    </tr>\n",
       "    <tr>\n",
       "      <th rowspan=\"3\" valign=\"top\">Naive Bayes</th>\n",
       "      <th rowspan=\"3\" valign=\"top\">0.890773</th>\n",
       "      <th>bad</th>\n",
       "      <td>0.608212</td>\n",
       "      <td>0.700665</td>\n",
       "      <td>0.651173</td>\n",
       "      <td>4059.0</td>\n",
       "    </tr>\n",
       "    <tr>\n",
       "      <th>good</th>\n",
       "      <td>0.947674</td>\n",
       "      <td>0.923145</td>\n",
       "      <td>0.935249</td>\n",
       "      <td>23837.0</td>\n",
       "    </tr>\n",
       "    <tr>\n",
       "      <th>average</th>\n",
       "      <td>0.898281</td>\n",
       "      <td>0.890773</td>\n",
       "      <td>0.893914</td>\n",
       "      <td>27896.0</td>\n",
       "    </tr>\n",
       "    <tr>\n",
       "      <th rowspan=\"3\" valign=\"top\">XGBoost</th>\n",
       "      <th rowspan=\"3\" valign=\"top\">0.910310</th>\n",
       "      <th>bad</th>\n",
       "      <td>0.799078</td>\n",
       "      <td>0.512441</td>\n",
       "      <td>0.624437</td>\n",
       "      <td>4059.0</td>\n",
       "    </tr>\n",
       "    <tr>\n",
       "      <th>good</th>\n",
       "      <td>0.921757</td>\n",
       "      <td>0.978059</td>\n",
       "      <td>0.949074</td>\n",
       "      <td>23837.0</td>\n",
       "    </tr>\n",
       "    <tr>\n",
       "      <th>average</th>\n",
       "      <td>0.903907</td>\n",
       "      <td>0.910310</td>\n",
       "      <td>0.901838</td>\n",
       "      <td>27896.0</td>\n",
       "    </tr>\n",
       "  </tbody>\n",
       "</table>\n",
       "</div>"
      ],
      "text/plain": [
       "                                           precision    recall  f1-score  \\\n",
       "vectorizer model         accuracy class                                    \n",
       "CountVect  LogReg        0.880198 bad       0.557963  0.850209  0.673760   \n",
       "                                  good      0.971996  0.885304  0.926627   \n",
       "                                  average   0.911752  0.880198  0.889834   \n",
       "           Random Forest 0.894393 bad       0.906501  0.305740  0.457259   \n",
       "                                  good      0.893769  0.994630  0.941506   \n",
       "                                  average   0.895621  0.894393  0.871046   \n",
       "           Naive Bayes   0.890773 bad       0.608212  0.700665  0.651173   \n",
       "                                  good      0.947674  0.923145  0.935249   \n",
       "                                  average   0.898281  0.890773  0.893914   \n",
       "           XGBoost       0.910310 bad       0.799078  0.512441  0.624437   \n",
       "                                  good      0.921757  0.978059  0.949074   \n",
       "                                  average   0.903907  0.910310  0.901838   \n",
       "\n",
       "                                           support  \n",
       "vectorizer model         accuracy class             \n",
       "CountVect  LogReg        0.880198 bad       4059.0  \n",
       "                                  good     23837.0  \n",
       "                                  average  27896.0  \n",
       "           Random Forest 0.894393 bad       4059.0  \n",
       "                                  good     23837.0  \n",
       "                                  average  27896.0  \n",
       "           Naive Bayes   0.890773 bad       4059.0  \n",
       "                                  good     23837.0  \n",
       "                                  average  27896.0  \n",
       "           XGBoost       0.910310 bad       4059.0  \n",
       "                                  good     23837.0  \n",
       "                                  average  27896.0  "
      ]
     },
     "execution_count": 68,
     "metadata": {},
     "output_type": "execute_result"
    }
   ],
   "source": [
    "df_tv2"
   ]
  },
  {
   "cell_type": "code",
   "execution_count": 69,
   "id": "danish-remedy",
   "metadata": {},
   "outputs": [
    {
     "data": {
      "image/png": "[encoded data removed]",
      "text/plain": [
       "<Figure size 1080x360 with 1 Axes>"
      ]
     },
     "metadata": {
      "needs_background": "light"
     },
     "output_type": "display_data"
    }
   ],
   "source": [
    "# Plotting f1 score with \"f1_score_bar_plot\" function\n",
    "f1_score_bar_plot(df=df_tv, category='average', title= \"Average f1 Score\")"
   ]
  },
  {
   "cell_type": "code",
   "execution_count": null,
   "id": "indirect-discrimination",
   "metadata": {},
   "outputs": [],
   "source": []
  },
  {
   "cell_type": "code",
   "execution_count": null,
   "id": "apparent-channels",
   "metadata": {},
   "outputs": [],
   "source": []
  },
  {
   "cell_type": "code",
   "execution_count": null,
   "id": "seeing-memphis",
   "metadata": {},
   "outputs": [],
   "source": []
  },
  {
   "cell_type": "code",
   "execution_count": 70,
   "id": "satellite-party",
   "metadata": {},
   "outputs": [],
   "source": [
    "# Create the word vector with TF-IDF Vectorizer\n",
    "tfidf_vect = TfidfVectorizer(ngram_range=(1, 1), max_features=10000)\n",
    "tfidf_vect_train = tfidf_vect.fit_transform(X_train)\n",
    "tfidf_vect_train = tfidf_vect_train.toarray()\n",
    "tfidf_vect_test = tfidf_vect.transform(X_test)\n",
    "tfidf_vect_test = tfidf_vect_test.toarray()"
   ]
  },
  {
   "cell_type": "code",
   "execution_count": 71,
   "id": "behind-conference",
   "metadata": {},
   "outputs": [
    {
     "name": "stdout",
     "output_type": "stream",
     "text": [
      "f1 score: 0.8864433356650955\n"
     ]
    }
   ],
   "source": [
    "# Call the modeling function for logistic regression with TF-IDF and print f1 score\n",
    "modeling(LogisticRegression(multi_class = 'multinomial', solver = 'sag', \n",
    "                            class_weight = 'balanced', C = 0.1, n_jobs = -1, random_state = 42), \n",
    "                            tfidf_vect_train, tfidf_vect_test)\n",
    "\n",
    "# Assign y_pred to a variable for further process\n",
    "y_pred_tfidf_logreg = y_pred"
   ]
  },
  {
   "cell_type": "code",
   "execution_count": 72,
   "id": "effective-possession",
   "metadata": {},
   "outputs": [
    {
     "name": "stdout",
     "output_type": "stream",
     "text": [
      "              precision    recall  f1-score   support\n",
      "\n",
      "           0       0.54      0.88      0.67      4059\n",
      "           1       0.98      0.87      0.92     23837\n",
      "\n",
      "    accuracy                           0.88     27896\n",
      "   macro avg       0.76      0.88      0.80     27896\n",
      "weighted avg       0.91      0.88      0.89     27896\n",
      "\n"
     ]
    }
   ],
   "source": [
    "# Compute and print the classification report\n",
    "print(classification_report(y_test, y_pred_tfidf_logreg))"
   ]
  },
  {
   "cell_type": "code",
   "execution_count": 73,
   "id": "former-maldives",
   "metadata": {},
   "outputs": [
    {
     "data": {
      "image/png": "[encoded data removed]",
      "text/plain": [
       "<Figure size 720x720 with 2 Axes>"
      ]
     },
     "metadata": {
      "needs_background": "light"
     },
     "output_type": "display_data"
    }
   ],
   "source": [
    "# Print confusion matrix for logistic regression with TF-IDF\n",
    "disp_confusion_matrix(y_pred_tfidf_logreg, \"Logistic Regression\", \"TF-IDF\")"
   ]
  },
  {
   "cell_type": "code",
   "execution_count": null,
   "id": "actual-quantity",
   "metadata": {},
   "outputs": [],
   "source": []
  },
  {
   "cell_type": "code",
   "execution_count": 74,
   "id": "solved-reproduction",
   "metadata": {},
   "outputs": [
    {
     "name": "stdout",
     "output_type": "stream",
     "text": [
      "f1 score: 0.8696807024793944\n"
     ]
    }
   ],
   "source": [
    "# Call the modeling function for random forest classifier with TF-IDF and print f1 score\n",
    "modeling(RandomForestClassifier(n_estimators = 100, random_state = 42), \n",
    "         tfidf_vect_train, tfidf_vect_test)\n",
    "\n",
    "# Assign y_pred to a variable for further process\n",
    "y_pred_tfidf_rf = y_pred"
   ]
  },
  {
   "cell_type": "code",
   "execution_count": 75,
   "id": "conventional-theorem",
   "metadata": {},
   "outputs": [
    {
     "name": "stdout",
     "output_type": "stream",
     "text": [
      "              precision    recall  f1-score   support\n",
      "\n",
      "           0       0.93      0.29      0.45      4059\n",
      "           1       0.89      1.00      0.94     23837\n",
      "\n",
      "    accuracy                           0.89     27896\n",
      "   macro avg       0.91      0.65      0.69     27896\n",
      "weighted avg       0.90      0.89      0.87     27896\n",
      "\n"
     ]
    }
   ],
   "source": [
    "# Compute and print the classification report\n",
    "print(classification_report(y_test, y_pred_tfidf_rf))"
   ]
  },
  {
   "cell_type": "code",
   "execution_count": 76,
   "id": "metric-detroit",
   "metadata": {},
   "outputs": [
    {
     "data": {
      "image/png": "[encoded data removed]",
      "text/plain": [
       "<Figure size 720x720 with 2 Axes>"
      ]
     },
     "metadata": {
      "needs_background": "light"
     },
     "output_type": "display_data"
    }
   ],
   "source": [
    "# Print confusion matrix for random forest classifier with TF-IDF\n",
    "disp_confusion_matrix(y_pred_tfidf_rf, \"Random Forest\", \"TF-IDF\")"
   ]
  },
  {
   "cell_type": "code",
   "execution_count": null,
   "id": "grateful-dragon",
   "metadata": {},
   "outputs": [],
   "source": []
  },
  {
   "cell_type": "code",
   "execution_count": null,
   "id": "flush-intention",
   "metadata": {},
   "outputs": [],
   "source": [
    "#n_estimators = [10, 25, 50]"
   ]
  },
  {
   "cell_type": "code",
   "execution_count": null,
   "id": "blessed-holiday",
   "metadata": {},
   "outputs": [],
   "source": [
    "#param_grid = dict(n_estimators=n_estimators)"
   ]
  },
  {
   "cell_type": "code",
   "execution_count": null,
   "id": "incredible-tractor",
   "metadata": {},
   "outputs": [],
   "source": [
    "#dfrst = RandomForestClassifier(n_estimators=n_estimators)"
   ]
  },
  {
   "cell_type": "code",
   "execution_count": null,
   "id": "comfortable-system",
   "metadata": {},
   "outputs": [],
   "source": [
    "#grid = GridSearchCV(estimator=dfrst, param_grid=param_grid)"
   ]
  },
  {
   "cell_type": "code",
   "execution_count": null,
   "id": "first-blind",
   "metadata": {},
   "outputs": [],
   "source": [
    "#grid_results = grid.fit(tfidf_vect_train, y_train)"
   ]
  },
  {
   "cell_type": "code",
   "execution_count": null,
   "id": "fewer-wallace",
   "metadata": {},
   "outputs": [],
   "source": [
    "#grid_results.best_params_"
   ]
  },
  {
   "cell_type": "code",
   "execution_count": null,
   "id": "maritime-column",
   "metadata": {},
   "outputs": [],
   "source": []
  },
  {
   "cell_type": "code",
   "execution_count": null,
   "id": "naval-inclusion",
   "metadata": {},
   "outputs": [],
   "source": [
    "#n_estimators = [50, 100, 200]"
   ]
  },
  {
   "cell_type": "code",
   "execution_count": null,
   "id": "diverse-supply",
   "metadata": {},
   "outputs": [],
   "source": [
    "#param_grid = dict(n_estimators=n_estimators)"
   ]
  },
  {
   "cell_type": "code",
   "execution_count": null,
   "id": "copyrighted-librarian",
   "metadata": {},
   "outputs": [],
   "source": [
    "#dfrst = RandomForestClassifier(n_estimators=n_estimators)"
   ]
  },
  {
   "cell_type": "code",
   "execution_count": null,
   "id": "noticed-oxygen",
   "metadata": {},
   "outputs": [],
   "source": [
    "#grid = GridSearchCV(estimator=dfrst, param_grid=param_grid)"
   ]
  },
  {
   "cell_type": "code",
   "execution_count": null,
   "id": "norwegian-david",
   "metadata": {},
   "outputs": [],
   "source": [
    "#grid_results = grid.fit(tfidf_vect_train, y_train)"
   ]
  },
  {
   "cell_type": "code",
   "execution_count": null,
   "id": "altered-concrete",
   "metadata": {},
   "outputs": [],
   "source": [
    "#grid_results.best_params_"
   ]
  },
  {
   "cell_type": "code",
   "execution_count": null,
   "id": "abandoned-adult",
   "metadata": {},
   "outputs": [],
   "source": []
  },
  {
   "cell_type": "code",
   "execution_count": null,
   "id": "dressed-chemistry",
   "metadata": {},
   "outputs": [],
   "source": []
  },
  {
   "cell_type": "code",
   "execution_count": null,
   "id": "published-container",
   "metadata": {},
   "outputs": [],
   "source": []
  },
  {
   "cell_type": "code",
   "execution_count": 77,
   "id": "acknowledged-poker",
   "metadata": {},
   "outputs": [
    {
     "name": "stdout",
     "output_type": "stream",
     "text": [
      "f1 score: 0.847955720087893\n"
     ]
    }
   ],
   "source": [
    "# Call the modeling function for naive bayes with TF-IDF and print f1 score\n",
    "modeling(MultinomialNB(), tfidf_vect_train, tfidf_vect_test)\n",
    "\n",
    "# Assign y_pred to a variable for further process\n",
    "y_pred_tfidf_nb = y_pred"
   ]
  },
  {
   "cell_type": "code",
   "execution_count": 78,
   "id": "neutral-hobby",
   "metadata": {},
   "outputs": [
    {
     "name": "stdout",
     "output_type": "stream",
     "text": [
      "              precision    recall  f1-score   support\n",
      "\n",
      "           0       0.91      0.21      0.34      4059\n",
      "           1       0.88      1.00      0.93     23837\n",
      "\n",
      "    accuracy                           0.88     27896\n",
      "   macro avg       0.89      0.60      0.64     27896\n",
      "weighted avg       0.88      0.88      0.85     27896\n",
      "\n"
     ]
    }
   ],
   "source": [
    "# Compute and print the classification report\n",
    "print(classification_report(y_test, y_pred_tfidf_nb))"
   ]
  },
  {
   "cell_type": "code",
   "execution_count": 79,
   "id": "textile-species",
   "metadata": {},
   "outputs": [
    {
     "data": {
      "image/png": "[encoded data removed]",
      "text/plain": [
       "<Figure size 720x720 with 2 Axes>"
      ]
     },
     "metadata": {
      "needs_background": "light"
     },
     "output_type": "display_data"
    }
   ],
   "source": [
    "# Print confusion matrix for naive bayes with TF-IDF\n",
    "disp_confusion_matrix(y_pred_tfidf_nb, \"Naive Bayes\", \"TF-IDF\")"
   ]
  },
  {
   "cell_type": "code",
   "execution_count": null,
   "id": "distinguished-member",
   "metadata": {},
   "outputs": [],
   "source": []
  },
  {
   "cell_type": "code",
   "execution_count": 80,
   "id": "perceived-donor",
   "metadata": {},
   "outputs": [
    {
     "name": "stdout",
     "output_type": "stream",
     "text": [
      "[20:35:30] WARNING: C:/Users/Administrator/workspace/xgboost-win64_release_1.5.1/src/learner.cc:1115: Starting in XGBoost 1.3.0, the default evaluation metric used with the objective 'binary:logistic' was changed from 'error' to 'logloss'. Explicitly set eval_metric if you'd like to restore the old behavior.\n",
      "f1 score: 0.9046397390533396\n"
     ]
    }
   ],
   "source": [
    "# Call the modeling function for XGBoost with TF-IDF and print f1 score\n",
    "modeling(XGBClassifier(), tfidf_vect_train, tfidf_vect_test)\n",
    "\n",
    "# Assign y_pred to a variable for further process\n",
    "y_pred_tfidf_xgb = y_pred"
   ]
  },
  {
   "cell_type": "code",
   "execution_count": 81,
   "id": "typical-veteran",
   "metadata": {},
   "outputs": [
    {
     "name": "stdout",
     "output_type": "stream",
     "text": [
      "              precision    recall  f1-score   support\n",
      "\n",
      "           0       0.81      0.52      0.64      4059\n",
      "           1       0.92      0.98      0.95     23837\n",
      "\n",
      "    accuracy                           0.91     27896\n",
      "   macro avg       0.87      0.75      0.79     27896\n",
      "weighted avg       0.91      0.91      0.90     27896\n",
      "\n"
     ]
    }
   ],
   "source": [
    "# Compute and print the classification report\n",
    "print(classification_report(y_test, y_pred_tfidf_xgb))"
   ]
  },
  {
   "cell_type": "code",
   "execution_count": 82,
   "id": "cosmetic-engine",
   "metadata": {},
   "outputs": [
    {
     "data": {
      "image/png": "[encoded data removed]",
      "text/plain": [
       "<Figure size 720x720 with 2 Axes>"
      ]
     },
     "metadata": {
      "needs_background": "light"
     },
     "output_type": "display_data"
    }
   ],
   "source": [
    "# Print confusion matrix for XGBoost with TF-IDF\n",
    "disp_confusion_matrix(y_pred_tfidf_xgb, \"XGBoost\", \"TF-IDF\")"
   ]
  },
  {
   "cell_type": "code",
   "execution_count": 83,
   "id": "recognized-inclusion",
   "metadata": {},
   "outputs": [],
   "source": [
    "comparison_table(y_preds = [y_pred_tfidf_logreg, y_pred_tfidf_rf, y_pred_tfidf_nb, y_pred_tfidf_xgb], \n",
    "                labels = ['LogReg', 'Random Forest', 'Naive Bayes', 'XGBoost'])"
   ]
  },
  {
   "cell_type": "code",
   "execution_count": 84,
   "id": "ceramic-omaha",
   "metadata": {},
   "outputs": [
    {
     "name": "stdout",
     "output_type": "stream",
     "text": [
      "\n",
      "Comparision Matrix of Models with TF-IDF Vectorizer\n",
      "\n"
     ]
    },
    {
     "data": {
      "text/html": [
       "<div>\n",
       "<style scoped>\n",
       "    .dataframe tbody tr th:only-of-type {\n",
       "        vertical-align: middle;\n",
       "    }\n",
       "\n",
       "    .dataframe tbody tr th {\n",
       "        vertical-align: top;\n",
       "    }\n",
       "\n",
       "    .dataframe thead th {\n",
       "        text-align: right;\n",
       "    }\n",
       "</style>\n",
       "<table border=\"1\" class=\"dataframe\">\n",
       "  <thead>\n",
       "    <tr style=\"text-align: right;\">\n",
       "      <th></th>\n",
       "      <th></th>\n",
       "      <th></th>\n",
       "      <th></th>\n",
       "      <th>precision</th>\n",
       "      <th>recall</th>\n",
       "      <th>f1-score</th>\n",
       "      <th>support</th>\n",
       "    </tr>\n",
       "    <tr>\n",
       "      <th>vectorizer</th>\n",
       "      <th>model</th>\n",
       "      <th>accuracy</th>\n",
       "      <th>class</th>\n",
       "      <th></th>\n",
       "      <th></th>\n",
       "      <th></th>\n",
       "      <th></th>\n",
       "    </tr>\n",
       "  </thead>\n",
       "  <tbody>\n",
       "    <tr>\n",
       "      <th rowspan=\"12\" valign=\"top\">CountVect</th>\n",
       "      <th rowspan=\"3\" valign=\"top\">LogReg</th>\n",
       "      <th rowspan=\"3\" valign=\"top\">0.875215</th>\n",
       "      <th>bad</th>\n",
       "      <td>0.544082</td>\n",
       "      <td>0.878788</td>\n",
       "      <td>0.672068</td>\n",
       "      <td>4059.0</td>\n",
       "    </tr>\n",
       "    <tr>\n",
       "      <th>good</th>\n",
       "      <td>0.976945</td>\n",
       "      <td>0.874607</td>\n",
       "      <td>0.922948</td>\n",
       "      <td>23837.0</td>\n",
       "    </tr>\n",
       "    <tr>\n",
       "      <th>average</th>\n",
       "      <td>0.913961</td>\n",
       "      <td>0.875215</td>\n",
       "      <td>0.886443</td>\n",
       "      <td>27896.0</td>\n",
       "    </tr>\n",
       "    <tr>\n",
       "      <th rowspan=\"3\" valign=\"top\">Random Forest</th>\n",
       "      <th rowspan=\"3\" valign=\"top\">0.894214</th>\n",
       "      <th>bad</th>\n",
       "      <td>0.930793</td>\n",
       "      <td>0.294900</td>\n",
       "      <td>0.447895</td>\n",
       "      <td>4059.0</td>\n",
       "    </tr>\n",
       "    <tr>\n",
       "      <th>good</th>\n",
       "      <td>0.892446</td>\n",
       "      <td>0.996266</td>\n",
       "      <td>0.941503</td>\n",
       "      <td>23837.0</td>\n",
       "    </tr>\n",
       "    <tr>\n",
       "      <th>average</th>\n",
       "      <td>0.898026</td>\n",
       "      <td>0.894214</td>\n",
       "      <td>0.869681</td>\n",
       "      <td>27896.0</td>\n",
       "    </tr>\n",
       "    <tr>\n",
       "      <th rowspan=\"3\" valign=\"top\">Naive Bayes</th>\n",
       "      <th rowspan=\"3\" valign=\"top\">0.881488</th>\n",
       "      <th>bad</th>\n",
       "      <td>0.905274</td>\n",
       "      <td>0.207194</td>\n",
       "      <td>0.337209</td>\n",
       "      <td>4059.0</td>\n",
       "    </tr>\n",
       "    <tr>\n",
       "      <th>good</th>\n",
       "      <td>0.880669</td>\n",
       "      <td>0.996308</td>\n",
       "      <td>0.934926</td>\n",
       "      <td>23837.0</td>\n",
       "    </tr>\n",
       "    <tr>\n",
       "      <th>average</th>\n",
       "      <td>0.884249</td>\n",
       "      <td>0.881488</td>\n",
       "      <td>0.847956</td>\n",
       "      <td>27896.0</td>\n",
       "    </tr>\n",
       "    <tr>\n",
       "      <th rowspan=\"3\" valign=\"top\">XGBoost</th>\n",
       "      <th rowspan=\"3\" valign=\"top\">0.912676</th>\n",
       "      <th>bad</th>\n",
       "      <td>0.808204</td>\n",
       "      <td>0.524267</td>\n",
       "      <td>0.635983</td>\n",
       "      <td>4059.0</td>\n",
       "    </tr>\n",
       "    <tr>\n",
       "      <th>good</th>\n",
       "      <td>0.923564</td>\n",
       "      <td>0.978814</td>\n",
       "      <td>0.950387</td>\n",
       "      <td>23837.0</td>\n",
       "    </tr>\n",
       "    <tr>\n",
       "      <th>average</th>\n",
       "      <td>0.906779</td>\n",
       "      <td>0.912676</td>\n",
       "      <td>0.904640</td>\n",
       "      <td>27896.0</td>\n",
       "    </tr>\n",
       "  </tbody>\n",
       "</table>\n",
       "</div>"
      ],
      "text/plain": [
       "                                           precision    recall  f1-score  \\\n",
       "vectorizer model         accuracy class                                    \n",
       "CountVect  LogReg        0.875215 bad       0.544082  0.878788  0.672068   \n",
       "                                  good      0.976945  0.874607  0.922948   \n",
       "                                  average   0.913961  0.875215  0.886443   \n",
       "           Random Forest 0.894214 bad       0.930793  0.294900  0.447895   \n",
       "                                  good      0.892446  0.996266  0.941503   \n",
       "                                  average   0.898026  0.894214  0.869681   \n",
       "           Naive Bayes   0.881488 bad       0.905274  0.207194  0.337209   \n",
       "                                  good      0.880669  0.996308  0.934926   \n",
       "                                  average   0.884249  0.881488  0.847956   \n",
       "           XGBoost       0.912676 bad       0.808204  0.524267  0.635983   \n",
       "                                  good      0.923564  0.978814  0.950387   \n",
       "                                  average   0.906779  0.912676  0.904640   \n",
       "\n",
       "                                           support  \n",
       "vectorizer model         accuracy class             \n",
       "CountVect  LogReg        0.875215 bad       4059.0  \n",
       "                                  good     23837.0  \n",
       "                                  average  27896.0  \n",
       "           Random Forest 0.894214 bad       4059.0  \n",
       "                                  good     23837.0  \n",
       "                                  average  27896.0  \n",
       "           Naive Bayes   0.881488 bad       4059.0  \n",
       "                                  good     23837.0  \n",
       "                                  average  27896.0  \n",
       "           XGBoost       0.912676 bad       4059.0  \n",
       "                                  good     23837.0  \n",
       "                                  average  27896.0  "
      ]
     },
     "execution_count": 84,
     "metadata": {},
     "output_type": "execute_result"
    }
   ],
   "source": [
    "# Print the comparision matrix\n",
    "print('\\nComparision Matrix of Models with TF-IDF Vectorizer\\n')\n",
    "df_tv2"
   ]
  },
  {
   "cell_type": "code",
   "execution_count": 85,
   "id": "confidential-fighter",
   "metadata": {},
   "outputs": [
    {
     "data": {
      "image/png": "[encoded data removed]",
      "text/plain": [
       "<Figure size 1080x360 with 1 Axes>"
      ]
     },
     "metadata": {
      "needs_background": "light"
     },
     "output_type": "display_data"
    }
   ],
   "source": [
    "# Plotting f1 score with \"f1_score_bar_plot\" function\n",
    "f1_score_bar_plot(df=df_tv, category='average', title= \"Average F1 Score\")"
   ]
  },
  {
   "cell_type": "code",
   "execution_count": null,
   "id": "productive-agency",
   "metadata": {},
   "outputs": [],
   "source": []
  },
  {
   "cell_type": "code",
   "execution_count": null,
   "id": "similar-mathematics",
   "metadata": {},
   "outputs": [],
   "source": []
  }
 ],
 "metadata": {
  "kernelspec": {
   "display_name": "Python 3",
   "language": "python",
   "name": "python3"
  },
  "language_info": {
   "codemirror_mode": {
    "name": "ipython",
    "version": 3
   },
   "file_extension": ".py",
   "mimetype": "text/x-python",
   "name": "python",
   "nbconvert_exporter": "python",
   "pygments_lexer": "ipython3",
   "version": "3.8.1"
  }
 },
 "nbformat": 4,
 "nbformat_minor": 5
}
