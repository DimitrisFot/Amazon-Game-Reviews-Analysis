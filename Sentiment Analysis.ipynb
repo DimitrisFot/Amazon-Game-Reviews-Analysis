{
 "cells": [
  {
   "cell_type": "code",
   "execution_count": 1,
   "id": "appropriate-functionality",
   "metadata": {},
   "outputs": [],
   "source": [
    "import pandas as pd \n",
    "import numpy as np\n",
    "import itertools\n",
    "import re\n",
    "import string\n",
    "pd.set_option('display.max_colwidth', 100)\n",
    "import nltk.corpus\n",
    "from nltk.corpus import stopwords\n",
    "stop_words = stopwords.words('english')\n",
    "from nltk.tokenize import sent_tokenize, word_tokenize\n",
    "import matplotlib.pyplot as plt\n",
    "#!pip install contractions\n",
    "import contractions \n",
    "from nltk.stem.lancaster import LancasterStemmer\n",
    "from nltk.stem import WordNetLemmatizer\n",
    "from sklearn.dummy import DummyClassifier\n",
    "from sklearn.linear_model import LogisticRegression\n",
    "from sklearn.metrics import f1_score, classification_report, confusion_matrix\n",
    "from sklearn.ensemble import RandomForestClassifier"
   ]
  },
  {
   "cell_type": "code",
   "execution_count": 2,
   "id": "regulated-rendering",
   "metadata": {},
   "outputs": [],
   "source": [
    "reviews = pd.read_json(r'C:\\Users\\dfota\\OneDrive\\Έγγραφα\\Thesis Project\\Amazon-Game-Reviews-Analysis\\Data\\MergedDataset.json')"
   ]
  },
  {
   "cell_type": "code",
   "execution_count": 3,
   "id": "creative-tampa",
   "metadata": {
    "scrolled": false
   },
   "outputs": [
    {
     "data": {
      "text/html": [
       "<div>\n",
       "<style scoped>\n",
       "    .dataframe tbody tr th:only-of-type {\n",
       "        vertical-align: middle;\n",
       "    }\n",
       "\n",
       "    .dataframe tbody tr th {\n",
       "        vertical-align: top;\n",
       "    }\n",
       "\n",
       "    .dataframe thead th {\n",
       "        text-align: right;\n",
       "    }\n",
       "</style>\n",
       "<table border=\"1\" class=\"dataframe\">\n",
       "  <thead>\n",
       "    <tr style=\"text-align: right;\">\n",
       "      <th></th>\n",
       "      <th>asin</th>\n",
       "      <th>overall</th>\n",
       "      <th>reviewTime</th>\n",
       "      <th>title</th>\n",
       "      <th>category</th>\n",
       "      <th>imageURLHighRes</th>\n",
       "      <th>reviews</th>\n",
       "    </tr>\n",
       "  </thead>\n",
       "  <tbody>\n",
       "    <tr>\n",
       "      <th>0</th>\n",
       "      <td>B00000DMAN</td>\n",
       "      <td>5</td>\n",
       "      <td>11 28, 1999</td>\n",
       "      <td>The X-Files Game</td>\n",
       "      <td>PC</td>\n",
       "      <td>https://images-na.ssl-images-amazon.com/images/I/31BDm2VqflL.jpg</td>\n",
       "      <td>This game is a lot of fun, with a creepy atmosphere that revolves around the disappearance of Ag...</td>\n",
       "    </tr>\n",
       "    <tr>\n",
       "      <th>1</th>\n",
       "      <td>B00000DMAN</td>\n",
       "      <td>4</td>\n",
       "      <td>03 5, 2003</td>\n",
       "      <td>The X-Files Game</td>\n",
       "      <td>PC</td>\n",
       "      <td>https://images-na.ssl-images-amazon.com/images/I/31BDm2VqflL.jpg</td>\n",
       "      <td>This was not the best mystery/adventure game I've ever played, and I'm not even a big fan of suc...</td>\n",
       "    </tr>\n",
       "    <tr>\n",
       "      <th>2</th>\n",
       "      <td>B00000DMAN</td>\n",
       "      <td>4</td>\n",
       "      <td>02 13, 2001</td>\n",
       "      <td>The X-Files Game</td>\n",
       "      <td>PC</td>\n",
       "      <td>https://images-na.ssl-images-amazon.com/images/I/31BDm2VqflL.jpg</td>\n",
       "      <td>This was a pretty good game, but not a great game. I'd probably rate this closer to 3 1/2 stars....</td>\n",
       "    </tr>\n",
       "    <tr>\n",
       "      <th>3</th>\n",
       "      <td>B00000DMAN</td>\n",
       "      <td>4</td>\n",
       "      <td>08 19, 2000</td>\n",
       "      <td>The X-Files Game</td>\n",
       "      <td>PC</td>\n",
       "      <td>https://images-na.ssl-images-amazon.com/images/I/31BDm2VqflL.jpg</td>\n",
       "      <td>We stopped watching the series (lack of time) and so this was a nice way  to keep the excitement...</td>\n",
       "    </tr>\n",
       "    <tr>\n",
       "      <th>4</th>\n",
       "      <td>B00000DMAN</td>\n",
       "      <td>5</td>\n",
       "      <td>07 27, 2000</td>\n",
       "      <td>The X-Files Game</td>\n",
       "      <td>PC</td>\n",
       "      <td>https://images-na.ssl-images-amazon.com/images/I/31BDm2VqflL.jpg</td>\n",
       "      <td>As a fan of Myst and Riven, I would not put this game in the same  category.  However, it does e...</td>\n",
       "    </tr>\n",
       "  </tbody>\n",
       "</table>\n",
       "</div>"
      ],
      "text/plain": [
       "         asin  overall   reviewTime             title category  \\\n",
       "0  B00000DMAN        5  11 28, 1999  The X-Files Game       PC   \n",
       "1  B00000DMAN        4   03 5, 2003  The X-Files Game       PC   \n",
       "2  B00000DMAN        4  02 13, 2001  The X-Files Game       PC   \n",
       "3  B00000DMAN        4  08 19, 2000  The X-Files Game       PC   \n",
       "4  B00000DMAN        5  07 27, 2000  The X-Files Game       PC   \n",
       "\n",
       "                                                    imageURLHighRes  \\\n",
       "0  https://images-na.ssl-images-amazon.com/images/I/31BDm2VqflL.jpg   \n",
       "1  https://images-na.ssl-images-amazon.com/images/I/31BDm2VqflL.jpg   \n",
       "2  https://images-na.ssl-images-amazon.com/images/I/31BDm2VqflL.jpg   \n",
       "3  https://images-na.ssl-images-amazon.com/images/I/31BDm2VqflL.jpg   \n",
       "4  https://images-na.ssl-images-amazon.com/images/I/31BDm2VqflL.jpg   \n",
       "\n",
       "                                                                                               reviews  \n",
       "0  This game is a lot of fun, with a creepy atmosphere that revolves around the disappearance of Ag...  \n",
       "1  This was not the best mystery/adventure game I've ever played, and I'm not even a big fan of suc...  \n",
       "2  This was a pretty good game, but not a great game. I'd probably rate this closer to 3 1/2 stars....  \n",
       "3  We stopped watching the series (lack of time) and so this was a nice way  to keep the excitement...  \n",
       "4  As a fan of Myst and Riven, I would not put this game in the same  category.  However, it does e...  "
      ]
     },
     "execution_count": 3,
     "metadata": {},
     "output_type": "execute_result"
    }
   ],
   "source": [
    "reviews.head()"
   ]
  },
  {
   "cell_type": "code",
   "execution_count": 4,
   "id": "ahead-platform",
   "metadata": {
    "scrolled": true
   },
   "outputs": [
    {
     "data": {
      "text/html": [
       "<div>\n",
       "<style scoped>\n",
       "    .dataframe tbody tr th:only-of-type {\n",
       "        vertical-align: middle;\n",
       "    }\n",
       "\n",
       "    .dataframe tbody tr th {\n",
       "        vertical-align: top;\n",
       "    }\n",
       "\n",
       "    .dataframe thead th {\n",
       "        text-align: right;\n",
       "    }\n",
       "</style>\n",
       "<table border=\"1\" class=\"dataframe\">\n",
       "  <thead>\n",
       "    <tr style=\"text-align: right;\">\n",
       "      <th></th>\n",
       "      <th>asin</th>\n",
       "      <th>overall</th>\n",
       "      <th>reviewTime</th>\n",
       "      <th>title</th>\n",
       "      <th>category</th>\n",
       "      <th>imageURLHighRes</th>\n",
       "      <th>reviews</th>\n",
       "      <th>rating_class</th>\n",
       "    </tr>\n",
       "  </thead>\n",
       "  <tbody>\n",
       "    <tr>\n",
       "      <th>0</th>\n",
       "      <td>B00000DMAN</td>\n",
       "      <td>5</td>\n",
       "      <td>11 28, 1999</td>\n",
       "      <td>The X-Files Game</td>\n",
       "      <td>PC</td>\n",
       "      <td>https://images-na.ssl-images-amazon.com/images/I/31BDm2VqflL.jpg</td>\n",
       "      <td>This game is a lot of fun, with a creepy atmosphere that revolves around the disappearance of Ag...</td>\n",
       "      <td>good</td>\n",
       "    </tr>\n",
       "    <tr>\n",
       "      <th>1</th>\n",
       "      <td>B00000DMAN</td>\n",
       "      <td>4</td>\n",
       "      <td>03 5, 2003</td>\n",
       "      <td>The X-Files Game</td>\n",
       "      <td>PC</td>\n",
       "      <td>https://images-na.ssl-images-amazon.com/images/I/31BDm2VqflL.jpg</td>\n",
       "      <td>This was not the best mystery/adventure game I've ever played, and I'm not even a big fan of suc...</td>\n",
       "      <td>good</td>\n",
       "    </tr>\n",
       "    <tr>\n",
       "      <th>2</th>\n",
       "      <td>B00000DMAN</td>\n",
       "      <td>4</td>\n",
       "      <td>02 13, 2001</td>\n",
       "      <td>The X-Files Game</td>\n",
       "      <td>PC</td>\n",
       "      <td>https://images-na.ssl-images-amazon.com/images/I/31BDm2VqflL.jpg</td>\n",
       "      <td>This was a pretty good game, but not a great game. I'd probably rate this closer to 3 1/2 stars....</td>\n",
       "      <td>good</td>\n",
       "    </tr>\n",
       "    <tr>\n",
       "      <th>3</th>\n",
       "      <td>B00000DMAN</td>\n",
       "      <td>4</td>\n",
       "      <td>08 19, 2000</td>\n",
       "      <td>The X-Files Game</td>\n",
       "      <td>PC</td>\n",
       "      <td>https://images-na.ssl-images-amazon.com/images/I/31BDm2VqflL.jpg</td>\n",
       "      <td>We stopped watching the series (lack of time) and so this was a nice way  to keep the excitement...</td>\n",
       "      <td>good</td>\n",
       "    </tr>\n",
       "    <tr>\n",
       "      <th>4</th>\n",
       "      <td>B00000DMAN</td>\n",
       "      <td>5</td>\n",
       "      <td>07 27, 2000</td>\n",
       "      <td>The X-Files Game</td>\n",
       "      <td>PC</td>\n",
       "      <td>https://images-na.ssl-images-amazon.com/images/I/31BDm2VqflL.jpg</td>\n",
       "      <td>As a fan of Myst and Riven, I would not put this game in the same  category.  However, it does e...</td>\n",
       "      <td>good</td>\n",
       "    </tr>\n",
       "  </tbody>\n",
       "</table>\n",
       "</div>"
      ],
      "text/plain": [
       "         asin  overall   reviewTime             title category  \\\n",
       "0  B00000DMAN        5  11 28, 1999  The X-Files Game       PC   \n",
       "1  B00000DMAN        4   03 5, 2003  The X-Files Game       PC   \n",
       "2  B00000DMAN        4  02 13, 2001  The X-Files Game       PC   \n",
       "3  B00000DMAN        4  08 19, 2000  The X-Files Game       PC   \n",
       "4  B00000DMAN        5  07 27, 2000  The X-Files Game       PC   \n",
       "\n",
       "                                                    imageURLHighRes  \\\n",
       "0  https://images-na.ssl-images-amazon.com/images/I/31BDm2VqflL.jpg   \n",
       "1  https://images-na.ssl-images-amazon.com/images/I/31BDm2VqflL.jpg   \n",
       "2  https://images-na.ssl-images-amazon.com/images/I/31BDm2VqflL.jpg   \n",
       "3  https://images-na.ssl-images-amazon.com/images/I/31BDm2VqflL.jpg   \n",
       "4  https://images-na.ssl-images-amazon.com/images/I/31BDm2VqflL.jpg   \n",
       "\n",
       "                                                                                               reviews  \\\n",
       "0  This game is a lot of fun, with a creepy atmosphere that revolves around the disappearance of Ag...   \n",
       "1  This was not the best mystery/adventure game I've ever played, and I'm not even a big fan of suc...   \n",
       "2  This was a pretty good game, but not a great game. I'd probably rate this closer to 3 1/2 stars....   \n",
       "3  We stopped watching the series (lack of time) and so this was a nice way  to keep the excitement...   \n",
       "4  As a fan of Myst and Riven, I would not put this game in the same  category.  However, it does e...   \n",
       "\n",
       "  rating_class  \n",
       "0         good  \n",
       "1         good  \n",
       "2         good  \n",
       "3         good  \n",
       "4         good  "
      ]
     },
     "execution_count": 4,
     "metadata": {},
     "output_type": "execute_result"
    }
   ],
   "source": [
    "reviews['rating_class'] = reviews['overall'].apply(lambda x: 'bad' if x < 3 else'good')\n",
    "reviews.head()"
   ]
  },
  {
   "cell_type": "code",
   "execution_count": 41,
   "id": "desirable-pipeline",
   "metadata": {},
   "outputs": [
    {
     "data": {
      "text/plain": [
       "1    95521\n",
       "0    16061\n",
       "Name: rating_class, dtype: int64"
      ]
     },
     "execution_count": 41,
     "metadata": {},
     "output_type": "execute_result"
    }
   ],
   "source": [
    "reviews['rating_class'].value_counts()"
   ]
  },
  {
   "cell_type": "code",
   "execution_count": 5,
   "id": "after-prison",
   "metadata": {},
   "outputs": [
    {
     "name": "stdout",
     "output_type": "stream",
     "text": [
      "Number of raw tokens: 21317836\n"
     ]
    }
   ],
   "source": [
    "raw_tokens=len([w for t in (reviews[\"reviews\"].apply(word_tokenize)) for w in t])\n",
    "print('Number of raw tokens: {}'.format(raw_tokens))"
   ]
  },
  {
   "cell_type": "code",
   "execution_count": 6,
   "id": "skilled-preserve",
   "metadata": {},
   "outputs": [],
   "source": [
    "def text_cleaning(text):\n",
    "    '''Make text lowercase, remove text in square brackets,remove links,remove punctuation\n",
    "    and remove words containing numbers.'''\n",
    "    text = str(text).lower()\n",
    "    text = re.sub('\\[.*?\\]', '', text)\n",
    "    text = re.sub('https?://\\S+|www\\.\\S+', '', text)\n",
    "    text = re.sub('<.*?>+', '', text)\n",
    "    text = re.sub('[%s]' % re.escape(string.punctuation), '', text)\n",
    "    text = re.sub('\\n', '', text)\n",
    "    text = re.sub('\\w*\\d\\w*', '', text)\n",
    "    return text"
   ]
  },
  {
   "cell_type": "code",
   "execution_count": 7,
   "id": "fleet-sapphire",
   "metadata": {},
   "outputs": [],
   "source": [
    "def expand_contractions(text):\n",
    "    expanded_text = contractions.fix(text)\n",
    "    return expanded_text"
   ]
  },
  {
   "cell_type": "code",
   "execution_count": 8,
   "id": "gothic-application",
   "metadata": {},
   "outputs": [],
   "source": [
    "def replace_numbers(text):\n",
    "    p = inflect.engine()\n",
    "    new_words = []\n",
    "    for word in words:\n",
    "        if word.isdigit():\n",
    "            new_word = p.number_to_words(word)\n",
    "            new_words.append(new_word)\n",
    "        else:\n",
    "            new_words.append(word)\n",
    "    return new_words"
   ]
  },
  {
   "cell_type": "code",
   "execution_count": 9,
   "id": "short-operation",
   "metadata": {},
   "outputs": [],
   "source": [
    "stopword_list= stopwords.words('english')\n",
    "stopword_list.remove('no')\n",
    "stopword_list.remove('not')"
   ]
  },
  {
   "cell_type": "code",
   "execution_count": 10,
   "id": "valuable-qualification",
   "metadata": {},
   "outputs": [],
   "source": [
    "def remove_stopwords(words):\n",
    "    new_words = []\n",
    "    for word in words:\n",
    "        if word not in stopword_list:\n",
    "            new_words.append(word)\n",
    "    return new_words"
   ]
  },
  {
   "cell_type": "code",
   "execution_count": 11,
   "id": "suitable-brunswick",
   "metadata": {},
   "outputs": [],
   "source": [
    "def lemmatize_text(words):\n",
    "    lemmatizer = nltk.stem.WordNetLemmatizer()\n",
    "    return [lemmatizer.lemmatize(w) for w in words]"
   ]
  },
  {
   "cell_type": "code",
   "execution_count": 12,
   "id": "excessive-finish",
   "metadata": {},
   "outputs": [],
   "source": [
    "def normalize_and_lemmatize(input):\n",
    "    sample = text_cleaning(input)\n",
    "    sample = expand_contractions(sample)\n",
    "    words = nltk.word_tokenize(sample)\n",
    "    words = remove_stopwords(words)    \n",
    "    lemmas = lemmatize_text(words)\n",
    "    return ' '.join(lemmas)"
   ]
  },
  {
   "cell_type": "code",
   "execution_count": 13,
   "id": "retired-review",
   "metadata": {},
   "outputs": [],
   "source": [
    "reviews['clean_text'] = reviews['reviews'].map(lambda text: normalize_and_lemmatize(text))"
   ]
  },
  {
   "cell_type": "code",
   "execution_count": 14,
   "id": "differential-detail",
   "metadata": {},
   "outputs": [
    {
     "name": "stdout",
     "output_type": "stream",
     "text": [
      "Number of clean tokens: 9386880\n",
      "\n",
      "Percentage of removed tokens: 0.56\n"
     ]
    }
   ],
   "source": [
    "clean_tokens=len([w for t in (reviews[\"clean_text\"].apply(word_tokenize)) for w in t])\n",
    "print('Number of clean tokens: {}\\n'.format(clean_tokens))\n",
    "print('Percentage of removed tokens: {0:.2f}'.format(1-(clean_tokens/raw_tokens)))"
   ]
  },
  {
   "cell_type": "code",
   "execution_count": 15,
   "id": "referenced-actress",
   "metadata": {},
   "outputs": [],
   "source": [
    "def token (text):\n",
    "    token = [w for w in nltk.word_tokenize(text)]\n",
    "    return token\n",
    "\n",
    "reviews['token'] = reviews['clean_text'].apply(token)"
   ]
  },
  {
   "cell_type": "code",
   "execution_count": 16,
   "id": "packed-quest",
   "metadata": {},
   "outputs": [
    {
     "data": {
      "text/html": [
       "<div>\n",
       "<style scoped>\n",
       "    .dataframe tbody tr th:only-of-type {\n",
       "        vertical-align: middle;\n",
       "    }\n",
       "\n",
       "    .dataframe tbody tr th {\n",
       "        vertical-align: top;\n",
       "    }\n",
       "\n",
       "    .dataframe thead th {\n",
       "        text-align: right;\n",
       "    }\n",
       "</style>\n",
       "<table border=\"1\" class=\"dataframe\">\n",
       "  <thead>\n",
       "    <tr style=\"text-align: right;\">\n",
       "      <th></th>\n",
       "      <th>asin</th>\n",
       "      <th>overall</th>\n",
       "      <th>reviewTime</th>\n",
       "      <th>title</th>\n",
       "      <th>category</th>\n",
       "      <th>imageURLHighRes</th>\n",
       "      <th>reviews</th>\n",
       "      <th>rating_class</th>\n",
       "      <th>clean_text</th>\n",
       "      <th>token</th>\n",
       "    </tr>\n",
       "  </thead>\n",
       "  <tbody>\n",
       "    <tr>\n",
       "      <th>0</th>\n",
       "      <td>B00000DMAN</td>\n",
       "      <td>5</td>\n",
       "      <td>11 28, 1999</td>\n",
       "      <td>The X-Files Game</td>\n",
       "      <td>PC</td>\n",
       "      <td>https://images-na.ssl-images-amazon.com/images/I/31BDm2VqflL.jpg</td>\n",
       "      <td>This game is a lot of fun, with a creepy atmosphere that revolves around the disappearance of Ag...</td>\n",
       "      <td>good</td>\n",
       "      <td>game lot fun creepy atmosphere revolves around disappearance agent mulder scully heard complain ...</td>\n",
       "      <td>[game, lot, fun, creepy, atmosphere, revolves, around, disappearance, agent, mulder, scully, hea...</td>\n",
       "    </tr>\n",
       "    <tr>\n",
       "      <th>1</th>\n",
       "      <td>B00000DMAN</td>\n",
       "      <td>4</td>\n",
       "      <td>03 5, 2003</td>\n",
       "      <td>The X-Files Game</td>\n",
       "      <td>PC</td>\n",
       "      <td>https://images-na.ssl-images-amazon.com/images/I/31BDm2VqflL.jpg</td>\n",
       "      <td>This was not the best mystery/adventure game I've ever played, and I'm not even a big fan of suc...</td>\n",
       "      <td>good</td>\n",
       "      <td>not best mysteryadventure game ever played not even big fan game begin serious xphile despite se...</td>\n",
       "      <td>[not, best, mysteryadventure, game, ever, played, not, even, big, fan, game, begin, serious, xph...</td>\n",
       "    </tr>\n",
       "    <tr>\n",
       "      <th>2</th>\n",
       "      <td>B00000DMAN</td>\n",
       "      <td>4</td>\n",
       "      <td>02 13, 2001</td>\n",
       "      <td>The X-Files Game</td>\n",
       "      <td>PC</td>\n",
       "      <td>https://images-na.ssl-images-amazon.com/images/I/31BDm2VqflL.jpg</td>\n",
       "      <td>This was a pretty good game, but not a great game. I'd probably rate this closer to 3 1/2 stars....</td>\n",
       "      <td>good</td>\n",
       "      <td>pretty good game not great game id probably rate closer star agent craig wilmore scully mulder d...</td>\n",
       "      <td>[pretty, good, game, not, great, game, id, probably, rate, closer, star, agent, craig, wilmore, ...</td>\n",
       "    </tr>\n",
       "    <tr>\n",
       "      <th>3</th>\n",
       "      <td>B00000DMAN</td>\n",
       "      <td>4</td>\n",
       "      <td>08 19, 2000</td>\n",
       "      <td>The X-Files Game</td>\n",
       "      <td>PC</td>\n",
       "      <td>https://images-na.ssl-images-amazon.com/images/I/31BDm2VqflL.jpg</td>\n",
       "      <td>We stopped watching the series (lack of time) and so this was a nice way  to keep the excitement...</td>\n",
       "      <td>good</td>\n",
       "      <td>stopped watching series lack time nice way keep excitement going game good perhaps little disori...</td>\n",
       "      <td>[stopped, watching, series, lack, time, nice, way, keep, excitement, going, game, good, perhaps,...</td>\n",
       "    </tr>\n",
       "    <tr>\n",
       "      <th>4</th>\n",
       "      <td>B00000DMAN</td>\n",
       "      <td>5</td>\n",
       "      <td>07 27, 2000</td>\n",
       "      <td>The X-Files Game</td>\n",
       "      <td>PC</td>\n",
       "      <td>https://images-na.ssl-images-amazon.com/images/I/31BDm2VqflL.jpg</td>\n",
       "      <td>As a fan of Myst and Riven, I would not put this game in the same  category.  However, it does e...</td>\n",
       "      <td>good</td>\n",
       "      <td>fan myst riven would not put game category however equally well type myst riven not main charact...</td>\n",
       "      <td>[fan, myst, riven, would, not, put, game, category, however, equally, well, type, myst, riven, n...</td>\n",
       "    </tr>\n",
       "  </tbody>\n",
       "</table>\n",
       "</div>"
      ],
      "text/plain": [
       "         asin  overall   reviewTime             title category  \\\n",
       "0  B00000DMAN        5  11 28, 1999  The X-Files Game       PC   \n",
       "1  B00000DMAN        4   03 5, 2003  The X-Files Game       PC   \n",
       "2  B00000DMAN        4  02 13, 2001  The X-Files Game       PC   \n",
       "3  B00000DMAN        4  08 19, 2000  The X-Files Game       PC   \n",
       "4  B00000DMAN        5  07 27, 2000  The X-Files Game       PC   \n",
       "\n",
       "                                                    imageURLHighRes  \\\n",
       "0  https://images-na.ssl-images-amazon.com/images/I/31BDm2VqflL.jpg   \n",
       "1  https://images-na.ssl-images-amazon.com/images/I/31BDm2VqflL.jpg   \n",
       "2  https://images-na.ssl-images-amazon.com/images/I/31BDm2VqflL.jpg   \n",
       "3  https://images-na.ssl-images-amazon.com/images/I/31BDm2VqflL.jpg   \n",
       "4  https://images-na.ssl-images-amazon.com/images/I/31BDm2VqflL.jpg   \n",
       "\n",
       "                                                                                               reviews  \\\n",
       "0  This game is a lot of fun, with a creepy atmosphere that revolves around the disappearance of Ag...   \n",
       "1  This was not the best mystery/adventure game I've ever played, and I'm not even a big fan of suc...   \n",
       "2  This was a pretty good game, but not a great game. I'd probably rate this closer to 3 1/2 stars....   \n",
       "3  We stopped watching the series (lack of time) and so this was a nice way  to keep the excitement...   \n",
       "4  As a fan of Myst and Riven, I would not put this game in the same  category.  However, it does e...   \n",
       "\n",
       "  rating_class  \\\n",
       "0         good   \n",
       "1         good   \n",
       "2         good   \n",
       "3         good   \n",
       "4         good   \n",
       "\n",
       "                                                                                            clean_text  \\\n",
       "0  game lot fun creepy atmosphere revolves around disappearance agent mulder scully heard complain ...   \n",
       "1  not best mysteryadventure game ever played not even big fan game begin serious xphile despite se...   \n",
       "2  pretty good game not great game id probably rate closer star agent craig wilmore scully mulder d...   \n",
       "3  stopped watching series lack time nice way keep excitement going game good perhaps little disori...   \n",
       "4  fan myst riven would not put game category however equally well type myst riven not main charact...   \n",
       "\n",
       "                                                                                                 token  \n",
       "0  [game, lot, fun, creepy, atmosphere, revolves, around, disappearance, agent, mulder, scully, hea...  \n",
       "1  [not, best, mysteryadventure, game, ever, played, not, even, big, fan, game, begin, serious, xph...  \n",
       "2  [pretty, good, game, not, great, game, id, probably, rate, closer, star, agent, craig, wilmore, ...  \n",
       "3  [stopped, watching, series, lack, time, nice, way, keep, excitement, going, game, good, perhaps,...  \n",
       "4  [fan, myst, riven, would, not, put, game, category, however, equally, well, type, myst, riven, n...  "
      ]
     },
     "execution_count": 16,
     "metadata": {},
     "output_type": "execute_result"
    }
   ],
   "source": [
    "reviews.head()"
   ]
  },
  {
   "cell_type": "code",
   "execution_count": 16,
   "id": "individual-sympathy",
   "metadata": {},
   "outputs": [],
   "source": [
    "reviews['rating_class'] = reviews['rating_class'].apply(lambda x: 0 if x == 'bad' else 1)"
   ]
  },
  {
   "cell_type": "code",
   "execution_count": 17,
   "id": "accepted-dancing",
   "metadata": {},
   "outputs": [],
   "source": [
    "X = reviews['clean_text']\n",
    "y = reviews['rating_class']"
   ]
  },
  {
   "cell_type": "code",
   "execution_count": 18,
   "id": "revised-offense",
   "metadata": {},
   "outputs": [],
   "source": [
    "#!pip install sklearn\n",
    "from sklearn.model_selection import train_test_split\n",
    "# Splitting Dataset into train and test set \n",
    "X_train, X_test, y_train, y_test = train_test_split(X, y, test_size=0.25, random_state=42)"
   ]
  },
  {
   "cell_type": "code",
   "execution_count": 19,
   "id": "strange-chancellor",
   "metadata": {},
   "outputs": [
    {
     "name": "stdout",
     "output_type": "stream",
     "text": [
      "Train Set Shape\t\t:(83686,)\n",
      "Test Set Shape\t\t:(27896,)\n"
     ]
    }
   ],
   "source": [
    "print ('Train Set Shape\\t\\t:{}\\nTest Set Shape\\t\\t:{}'.format(X_train.shape, X_test.shape))"
   ]
  },
  {
   "cell_type": "code",
   "execution_count": 20,
   "id": "analyzed-effects",
   "metadata": {},
   "outputs": [],
   "source": [
    "def plot_confusion_matrix(cm, classes,\n",
    "                          normalize=False,\n",
    "                          title = 'Confusion matrix',\n",
    "                          cmap = plt.cm.ocean):\n",
    "    \"\"\"\n",
    "    Create a confusion matrix plot for 'good' and 'bad' rating values \n",
    "    \"\"\"\n",
    "    if normalize:\n",
    "        cm = cm.astype('float') / cm.sum(axis = 1)[:, np.newaxis]\n",
    "    plt.imshow(cm, interpolation = 'nearest', cmap = cmap)\n",
    "    plt.title(title, fontsize = 20)\n",
    "    plt.colorbar()\n",
    "    tick_marks = np.arange(len(classes))\n",
    "    plt.xticks(tick_marks, classes, fontsize = 20)\n",
    "    plt.yticks(tick_marks, classes, fontsize = 20)\n",
    "    \n",
    "    fmt = '.2f' if normalize else 'd'\n",
    "    thresh = cm.max() / 2.\n",
    "\n",
    "    for i, j in itertools.product(range(cm.shape[0]), range(cm.shape[1])):\n",
    "        plt.text(j, i, format(cm[i, j], fmt), horizontalalignment = \"center\", \n",
    "                 color = \"white\" if cm[i, j] < thresh else \"black\", fontsize = 40)\n",
    "    \n",
    "    plt.tight_layout()\n",
    "    plt.ylabel('True Label', fontsize = 30)\n",
    "    plt.xlabel('Predicted Label', fontsize = 30)\n",
    "\n",
    "    return plt"
   ]
  },
  {
   "cell_type": "code",
   "execution_count": 21,
   "id": "accredited-webcam",
   "metadata": {},
   "outputs": [],
   "source": [
    "def disp_confusion_matrix(y_pred, model_name, vector = 'CounterVectorizing'):\n",
    "    \"\"\"\n",
    "    Display confusion matrix for selected model with countVectorizer\n",
    "    \"\"\"\n",
    "    cm = confusion_matrix(y_test, y_pred)\n",
    "    fig = plt.figure(figsize=(10, 10))\n",
    "    plot = plot_confusion_matrix(cm, classes=['Bad','Good'], normalize=False, \n",
    "                                 title = model_name + \" \" + 'with' + \" \" + vector + \" \"+ '\\nConfusion Matrix')\n",
    "    plt.show()"
   ]
  },
  {
   "cell_type": "code",
   "execution_count": 22,
   "id": "modular-monday",
   "metadata": {},
   "outputs": [],
   "source": [
    "from sklearn.feature_extraction.text import CountVectorizer\n",
    "# Create the word vector with CountVectorizer\n",
    "count_vect = CountVectorizer(ngram_range=(1,1), max_features=10000)\n",
    "count_vect_train = count_vect.fit_transform(X_train)\n",
    "count_vect_train = count_vect_train.toarray()\n",
    "count_vect_test = count_vect.transform(X_test)\n",
    "count_vect_test = count_vect_test.toarray()"
   ]
  },
  {
   "cell_type": "code",
   "execution_count": 23,
   "id": "dressed-halifax",
   "metadata": {},
   "outputs": [
    {
     "name": "stdout",
     "output_type": "stream",
     "text": [
      "Vocabulary length : 10000\n"
     ]
    },
    {
     "name": "stderr",
     "output_type": "stream",
     "text": [
      "c:\\users\\dfota\\appdata\\local\\programs\\python\\python38\\lib\\site-packages\\sklearn\\utils\\deprecation.py:87: FutureWarning: Function get_feature_names is deprecated; get_feature_names is deprecated in 1.0 and will be removed in 1.2. Please use get_feature_names_out instead.\n",
      "  warnings.warn(msg, category=FutureWarning)\n"
     ]
    }
   ],
   "source": [
    "# Print vocabulary length\n",
    "print('Vocabulary length :', len(count_vect.get_feature_names()))"
   ]
  },
  {
   "cell_type": "code",
   "execution_count": 24,
   "id": "earlier-catch",
   "metadata": {},
   "outputs": [],
   "source": [
    "# Assign feature names of vector into a variable\n",
    "vocab = count_vect.get_feature_names()"
   ]
  },
  {
   "cell_type": "code",
   "execution_count": 25,
   "id": "modern-findings",
   "metadata": {},
   "outputs": [
    {
     "data": {
      "text/html": [
       "<div>\n",
       "<style scoped>\n",
       "    .dataframe tbody tr th:only-of-type {\n",
       "        vertical-align: middle;\n",
       "    }\n",
       "\n",
       "    .dataframe tbody tr th {\n",
       "        vertical-align: top;\n",
       "    }\n",
       "\n",
       "    .dataframe thead th {\n",
       "        text-align: right;\n",
       "    }\n",
       "</style>\n",
       "<table border=\"1\" class=\"dataframe\">\n",
       "  <thead>\n",
       "    <tr style=\"text-align: right;\">\n",
       "      <th></th>\n",
       "      <th>aa</th>\n",
       "      <th>aaa</th>\n",
       "      <th>abandon</th>\n",
       "      <th>abandoned</th>\n",
       "      <th>ability</th>\n",
       "      <th>abit</th>\n",
       "      <th>able</th>\n",
       "      <th>aboard</th>\n",
       "      <th>abomination</th>\n",
       "      <th>abound</th>\n",
       "      <th>...</th>\n",
       "      <th>zerog</th>\n",
       "      <th>zeus</th>\n",
       "      <th>zip</th>\n",
       "      <th>zombie</th>\n",
       "      <th>zone</th>\n",
       "      <th>zoning</th>\n",
       "      <th>zoo</th>\n",
       "      <th>zoom</th>\n",
       "      <th>zoomed</th>\n",
       "      <th>zooming</th>\n",
       "    </tr>\n",
       "  </thead>\n",
       "  <tbody>\n",
       "    <tr>\n",
       "      <th>0</th>\n",
       "      <td>0</td>\n",
       "      <td>0</td>\n",
       "      <td>0</td>\n",
       "      <td>0</td>\n",
       "      <td>0</td>\n",
       "      <td>0</td>\n",
       "      <td>0</td>\n",
       "      <td>0</td>\n",
       "      <td>0</td>\n",
       "      <td>0</td>\n",
       "      <td>...</td>\n",
       "      <td>0</td>\n",
       "      <td>0</td>\n",
       "      <td>0</td>\n",
       "      <td>0</td>\n",
       "      <td>0</td>\n",
       "      <td>0</td>\n",
       "      <td>0</td>\n",
       "      <td>0</td>\n",
       "      <td>0</td>\n",
       "      <td>0</td>\n",
       "    </tr>\n",
       "    <tr>\n",
       "      <th>1</th>\n",
       "      <td>0</td>\n",
       "      <td>2</td>\n",
       "      <td>0</td>\n",
       "      <td>0</td>\n",
       "      <td>1</td>\n",
       "      <td>0</td>\n",
       "      <td>0</td>\n",
       "      <td>0</td>\n",
       "      <td>0</td>\n",
       "      <td>0</td>\n",
       "      <td>...</td>\n",
       "      <td>0</td>\n",
       "      <td>0</td>\n",
       "      <td>0</td>\n",
       "      <td>0</td>\n",
       "      <td>0</td>\n",
       "      <td>0</td>\n",
       "      <td>0</td>\n",
       "      <td>0</td>\n",
       "      <td>0</td>\n",
       "      <td>0</td>\n",
       "    </tr>\n",
       "    <tr>\n",
       "      <th>2</th>\n",
       "      <td>0</td>\n",
       "      <td>0</td>\n",
       "      <td>0</td>\n",
       "      <td>0</td>\n",
       "      <td>0</td>\n",
       "      <td>0</td>\n",
       "      <td>0</td>\n",
       "      <td>0</td>\n",
       "      <td>0</td>\n",
       "      <td>0</td>\n",
       "      <td>...</td>\n",
       "      <td>0</td>\n",
       "      <td>0</td>\n",
       "      <td>0</td>\n",
       "      <td>0</td>\n",
       "      <td>0</td>\n",
       "      <td>0</td>\n",
       "      <td>0</td>\n",
       "      <td>0</td>\n",
       "      <td>0</td>\n",
       "      <td>0</td>\n",
       "    </tr>\n",
       "    <tr>\n",
       "      <th>3</th>\n",
       "      <td>0</td>\n",
       "      <td>0</td>\n",
       "      <td>0</td>\n",
       "      <td>0</td>\n",
       "      <td>0</td>\n",
       "      <td>0</td>\n",
       "      <td>0</td>\n",
       "      <td>0</td>\n",
       "      <td>0</td>\n",
       "      <td>0</td>\n",
       "      <td>...</td>\n",
       "      <td>0</td>\n",
       "      <td>0</td>\n",
       "      <td>0</td>\n",
       "      <td>0</td>\n",
       "      <td>0</td>\n",
       "      <td>0</td>\n",
       "      <td>0</td>\n",
       "      <td>0</td>\n",
       "      <td>0</td>\n",
       "      <td>0</td>\n",
       "    </tr>\n",
       "    <tr>\n",
       "      <th>4</th>\n",
       "      <td>0</td>\n",
       "      <td>0</td>\n",
       "      <td>0</td>\n",
       "      <td>0</td>\n",
       "      <td>0</td>\n",
       "      <td>0</td>\n",
       "      <td>0</td>\n",
       "      <td>0</td>\n",
       "      <td>0</td>\n",
       "      <td>0</td>\n",
       "      <td>...</td>\n",
       "      <td>0</td>\n",
       "      <td>0</td>\n",
       "      <td>0</td>\n",
       "      <td>4</td>\n",
       "      <td>0</td>\n",
       "      <td>0</td>\n",
       "      <td>0</td>\n",
       "      <td>0</td>\n",
       "      <td>0</td>\n",
       "      <td>0</td>\n",
       "    </tr>\n",
       "    <tr>\n",
       "      <th>...</th>\n",
       "      <td>...</td>\n",
       "      <td>...</td>\n",
       "      <td>...</td>\n",
       "      <td>...</td>\n",
       "      <td>...</td>\n",
       "      <td>...</td>\n",
       "      <td>...</td>\n",
       "      <td>...</td>\n",
       "      <td>...</td>\n",
       "      <td>...</td>\n",
       "      <td>...</td>\n",
       "      <td>...</td>\n",
       "      <td>...</td>\n",
       "      <td>...</td>\n",
       "      <td>...</td>\n",
       "      <td>...</td>\n",
       "      <td>...</td>\n",
       "      <td>...</td>\n",
       "      <td>...</td>\n",
       "      <td>...</td>\n",
       "      <td>...</td>\n",
       "    </tr>\n",
       "    <tr>\n",
       "      <th>83681</th>\n",
       "      <td>0</td>\n",
       "      <td>0</td>\n",
       "      <td>0</td>\n",
       "      <td>0</td>\n",
       "      <td>1</td>\n",
       "      <td>0</td>\n",
       "      <td>0</td>\n",
       "      <td>0</td>\n",
       "      <td>0</td>\n",
       "      <td>0</td>\n",
       "      <td>...</td>\n",
       "      <td>0</td>\n",
       "      <td>0</td>\n",
       "      <td>0</td>\n",
       "      <td>0</td>\n",
       "      <td>0</td>\n",
       "      <td>0</td>\n",
       "      <td>0</td>\n",
       "      <td>0</td>\n",
       "      <td>0</td>\n",
       "      <td>0</td>\n",
       "    </tr>\n",
       "    <tr>\n",
       "      <th>83682</th>\n",
       "      <td>0</td>\n",
       "      <td>0</td>\n",
       "      <td>0</td>\n",
       "      <td>0</td>\n",
       "      <td>0</td>\n",
       "      <td>0</td>\n",
       "      <td>0</td>\n",
       "      <td>0</td>\n",
       "      <td>0</td>\n",
       "      <td>0</td>\n",
       "      <td>...</td>\n",
       "      <td>0</td>\n",
       "      <td>0</td>\n",
       "      <td>0</td>\n",
       "      <td>0</td>\n",
       "      <td>0</td>\n",
       "      <td>0</td>\n",
       "      <td>0</td>\n",
       "      <td>0</td>\n",
       "      <td>0</td>\n",
       "      <td>0</td>\n",
       "    </tr>\n",
       "    <tr>\n",
       "      <th>83683</th>\n",
       "      <td>0</td>\n",
       "      <td>0</td>\n",
       "      <td>0</td>\n",
       "      <td>0</td>\n",
       "      <td>0</td>\n",
       "      <td>0</td>\n",
       "      <td>0</td>\n",
       "      <td>0</td>\n",
       "      <td>0</td>\n",
       "      <td>0</td>\n",
       "      <td>...</td>\n",
       "      <td>0</td>\n",
       "      <td>0</td>\n",
       "      <td>0</td>\n",
       "      <td>0</td>\n",
       "      <td>0</td>\n",
       "      <td>0</td>\n",
       "      <td>0</td>\n",
       "      <td>0</td>\n",
       "      <td>0</td>\n",
       "      <td>0</td>\n",
       "    </tr>\n",
       "    <tr>\n",
       "      <th>83684</th>\n",
       "      <td>0</td>\n",
       "      <td>0</td>\n",
       "      <td>0</td>\n",
       "      <td>0</td>\n",
       "      <td>0</td>\n",
       "      <td>0</td>\n",
       "      <td>0</td>\n",
       "      <td>0</td>\n",
       "      <td>0</td>\n",
       "      <td>0</td>\n",
       "      <td>...</td>\n",
       "      <td>0</td>\n",
       "      <td>0</td>\n",
       "      <td>0</td>\n",
       "      <td>0</td>\n",
       "      <td>0</td>\n",
       "      <td>0</td>\n",
       "      <td>0</td>\n",
       "      <td>0</td>\n",
       "      <td>0</td>\n",
       "      <td>0</td>\n",
       "    </tr>\n",
       "    <tr>\n",
       "      <th>83685</th>\n",
       "      <td>0</td>\n",
       "      <td>0</td>\n",
       "      <td>0</td>\n",
       "      <td>0</td>\n",
       "      <td>0</td>\n",
       "      <td>0</td>\n",
       "      <td>0</td>\n",
       "      <td>0</td>\n",
       "      <td>0</td>\n",
       "      <td>0</td>\n",
       "      <td>...</td>\n",
       "      <td>0</td>\n",
       "      <td>0</td>\n",
       "      <td>0</td>\n",
       "      <td>0</td>\n",
       "      <td>0</td>\n",
       "      <td>0</td>\n",
       "      <td>0</td>\n",
       "      <td>0</td>\n",
       "      <td>0</td>\n",
       "      <td>0</td>\n",
       "    </tr>\n",
       "  </tbody>\n",
       "</table>\n",
       "<p>83686 rows × 10000 columns</p>\n",
       "</div>"
      ],
      "text/plain": [
       "       aa  aaa  abandon  abandoned  ability  abit  able  aboard  abomination  \\\n",
       "0       0    0        0          0        0     0     0       0            0   \n",
       "1       0    2        0          0        1     0     0       0            0   \n",
       "2       0    0        0          0        0     0     0       0            0   \n",
       "3       0    0        0          0        0     0     0       0            0   \n",
       "4       0    0        0          0        0     0     0       0            0   \n",
       "...    ..  ...      ...        ...      ...   ...   ...     ...          ...   \n",
       "83681   0    0        0          0        1     0     0       0            0   \n",
       "83682   0    0        0          0        0     0     0       0            0   \n",
       "83683   0    0        0          0        0     0     0       0            0   \n",
       "83684   0    0        0          0        0     0     0       0            0   \n",
       "83685   0    0        0          0        0     0     0       0            0   \n",
       "\n",
       "       abound  ...  zerog  zeus  zip  zombie  zone  zoning  zoo  zoom  zoomed  \\\n",
       "0           0  ...      0     0    0       0     0       0    0     0       0   \n",
       "1           0  ...      0     0    0       0     0       0    0     0       0   \n",
       "2           0  ...      0     0    0       0     0       0    0     0       0   \n",
       "3           0  ...      0     0    0       0     0       0    0     0       0   \n",
       "4           0  ...      0     0    0       4     0       0    0     0       0   \n",
       "...       ...  ...    ...   ...  ...     ...   ...     ...  ...   ...     ...   \n",
       "83681       0  ...      0     0    0       0     0       0    0     0       0   \n",
       "83682       0  ...      0     0    0       0     0       0    0     0       0   \n",
       "83683       0  ...      0     0    0       0     0       0    0     0       0   \n",
       "83684       0  ...      0     0    0       0     0       0    0     0       0   \n",
       "83685       0  ...      0     0    0       0     0       0    0     0       0   \n",
       "\n",
       "       zooming  \n",
       "0            0  \n",
       "1            0  \n",
       "2            0  \n",
       "3            0  \n",
       "4            0  \n",
       "...        ...  \n",
       "83681        0  \n",
       "83682        0  \n",
       "83683        0  \n",
       "83684        0  \n",
       "83685        0  \n",
       "\n",
       "[83686 rows x 10000 columns]"
      ]
     },
     "execution_count": 25,
     "metadata": {},
     "output_type": "execute_result"
    }
   ],
   "source": [
    "pd.DataFrame(count_vect_train, columns = vocab)"
   ]
  },
  {
   "cell_type": "code",
   "execution_count": 26,
   "id": "cutting-impossible",
   "metadata": {},
   "outputs": [],
   "source": [
    "def modeling(Model, Xtrain = count_vect_train, Xtest = count_vect_test):\n",
    "    \"\"\"\n",
    "    This function apply countVectorizer with machine learning algorithms. \n",
    "    \"\"\"\n",
    "    \n",
    "    # Instantiate the classifier: model\n",
    "    model = Model\n",
    "    \n",
    "    # Fitting classifier to the Training set (all features)\n",
    "    model.fit(Xtrain, y_train)\n",
    "    \n",
    "    global y_pred\n",
    "    # Predicting the Test set results\n",
    "    y_pred = model.predict(Xtest)\n",
    "    \n",
    "    # Assign f1 score to a variable\n",
    "    score = f1_score(y_test, y_pred, average = 'weighted')\n",
    "    \n",
    "    # Printing evaluation metric (f1-score) \n",
    "    print(\"f1 score: {}\".format(score))"
   ]
  },
  {
   "cell_type": "code",
   "execution_count": 27,
   "id": "concrete-symphony",
   "metadata": {},
   "outputs": [
    {
     "name": "stdout",
     "output_type": "stream",
     "text": [
      "f1 score: 0.7519385118958205\n"
     ]
    }
   ],
   "source": [
    "clf = DummyClassifier(strategy = 'stratified', random_state =42)\n",
    "clf.fit(X_train, y_train)\n",
    "y_pred = clf.predict(X_test)\n",
    "score = f1_score(y_test, y_pred, average = 'weighted')\n",
    "    \n",
    "# Printing evaluation metric (f1-score) \n",
    "print(\"f1 score: {}\".format(score))"
   ]
  },
  {
   "cell_type": "code",
   "execution_count": 28,
   "id": "possible-composite",
   "metadata": {},
   "outputs": [
    {
     "name": "stdout",
     "output_type": "stream",
     "text": [
      "              precision    recall  f1-score   support\n",
      "\n",
      "           0       0.14      0.14      0.14      4037\n",
      "           1       0.85      0.86      0.86     23859\n",
      "\n",
      "    accuracy                           0.75     27896\n",
      "   macro avg       0.50      0.50      0.50     27896\n",
      "weighted avg       0.75      0.75      0.75     27896\n",
      "\n"
     ]
    }
   ],
   "source": [
    "# Compute and print the classification report\n",
    "print(classification_report(y_test, y_pred))"
   ]
  },
  {
   "cell_type": "code",
   "execution_count": 48,
   "id": "finished-alpha",
   "metadata": {},
   "outputs": [
    {
     "name": "stderr",
     "output_type": "stream",
     "text": [
      "c:\\users\\dfota\\appdata\\local\\programs\\python\\python38\\lib\\site-packages\\sklearn\\linear_model\\_sag.py:352: ConvergenceWarning: The max_iter was reached which means the coef_ did not converge\n",
      "  warnings.warn(\n"
     ]
    },
    {
     "name": "stdout",
     "output_type": "stream",
     "text": [
      "f1 score: 0.8931707180702178\n"
     ]
    }
   ],
   "source": [
    "# Call the modeling function for logistic regression with countvectorizer and print f1 score\n",
    "modeling(LogisticRegression(multi_class = 'multinomial', solver = 'sag',\n",
    "                                     class_weight = 'balanced', C = 0.1, n_jobs = -1, random_state = 42))\n",
    "\n",
    "# Assign y_pred to a variable for further process\n",
    "y_pred_cv_logreg = y_pred"
   ]
  },
  {
   "cell_type": "code",
   "execution_count": 49,
   "id": "flush-flesh",
   "metadata": {},
   "outputs": [
    {
     "name": "stdout",
     "output_type": "stream",
     "text": [
      "              precision    recall  f1-score   support\n",
      "\n",
      "           0       0.57      0.85      0.68      4037\n",
      "           1       0.97      0.89      0.93     23859\n",
      "\n",
      "    accuracy                           0.88     27896\n",
      "   macro avg       0.77      0.87      0.80     27896\n",
      "weighted avg       0.91      0.88      0.89     27896\n",
      "\n"
     ]
    }
   ],
   "source": [
    "# Compute and print the classification report\n",
    "print(classification_report(y_test, y_pred_cv_logreg))"
   ]
  },
  {
   "cell_type": "code",
   "execution_count": 50,
   "id": "gorgeous-press",
   "metadata": {
    "scrolled": false
   },
   "outputs": [
    {
     "data": {
      "image/png": "[encoded data removed]",
      "text/plain": [
       "<Figure size 720x720 with 2 Axes>"
      ]
     },
     "metadata": {
      "needs_background": "light"
     },
     "output_type": "display_data"
    }
   ],
   "source": [
    "# Print confusion matrix for logistic regression with countvectorizer\n",
    "disp_confusion_matrix(y_pred_cv_logreg, \"Logistic Regression\")"
   ]
  },
  {
   "cell_type": "code",
   "execution_count": 45,
   "id": "greenhouse-payroll",
   "metadata": {},
   "outputs": [
    {
     "name": "stderr",
     "output_type": "stream",
     "text": [
      "[Parallel(n_jobs=-1)]: Using backend ThreadingBackend with 12 concurrent workers.\n"
     ]
    },
    {
     "name": "stdout",
     "output_type": "stream",
     "text": [
      "convergence after 1318 epochs took 11373 seconds\n"
     ]
    },
    {
     "name": "stderr",
     "output_type": "stream",
     "text": [
      "[Parallel(n_jobs=-1)]: Done   1 out of   1 | elapsed: 189.6min finished\n"
     ]
    },
    {
     "name": "stdout",
     "output_type": "stream",
     "text": [
      "f1 score: 0.8977528306119162\n"
     ]
    }
   ],
   "source": [
    "weights = {0:6.0, 1:1.0}\n",
    "# Call the modeling function for logistic regression with countvectorizer and print f1 score\n",
    "modeling(LogisticRegression(multi_class = 'multinomial',max_iter = 4000, verbose = 1, solver = 'sag',\n",
    "                                     class_weight = weights, C = 0.1, n_jobs = -1, random_state = 42))\n",
    "\n",
    "# Assign y_pred to a variable for further process\n",
    "y_pred_cv_logreg = y_pred"
   ]
  },
  {
   "cell_type": "code",
   "execution_count": 46,
   "id": "significant-exchange",
   "metadata": {},
   "outputs": [
    {
     "name": "stdout",
     "output_type": "stream",
     "text": [
      "              precision    recall  f1-score   support\n",
      "\n",
      "           0       0.59      0.82      0.68      4037\n",
      "           1       0.97      0.90      0.93     23859\n",
      "\n",
      "    accuracy                           0.89     27896\n",
      "   macro avg       0.78      0.86      0.81     27896\n",
      "weighted avg       0.91      0.89      0.90     27896\n",
      "\n"
     ]
    }
   ],
   "source": [
    "# Compute and print the classification report\n",
    "print(classification_report(y_test, y_pred_cv_logreg))"
   ]
  },
  {
   "cell_type": "code",
   "execution_count": 47,
   "id": "worthy-wonder",
   "metadata": {},
   "outputs": [
    {
     "data": {
      "image/png": "[encoded data removed]",
      "text/plain": [
       "<Figure size 720x720 with 2 Axes>"
      ]
     },
     "metadata": {
      "needs_background": "light"
     },
     "output_type": "display_data"
    }
   ],
   "source": [
    "# Print confusion matrix for logistic regression with countvectorizer\n",
    "disp_confusion_matrix(y_pred_cv_logreg, \"Imbalanced Logistic Regression\")"
   ]
  },
  {
   "cell_type": "code",
   "execution_count": null,
   "id": "express-plasma",
   "metadata": {},
   "outputs": [],
   "source": []
  },
  {
   "cell_type": "code",
   "execution_count": 33,
   "id": "bottom-penalty",
   "metadata": {},
   "outputs": [],
   "source": [
    "#!pip install gensim\n",
    "#from gensim.models import Word2Vec\n",
    "#sent = [row.split(' ') for row in reviews['reviews']]\n",
    "#sent[0]"
   ]
  },
  {
   "cell_type": "code",
   "execution_count": 34,
   "id": "advanced-subscription",
   "metadata": {},
   "outputs": [],
   "source": [
    "#model = Word2Vec(sent, min_count=1,workers=3, window =3, sg = 1)"
   ]
  },
  {
   "cell_type": "code",
   "execution_count": 35,
   "id": "early-copper",
   "metadata": {},
   "outputs": [],
   "source": [
    "#model.wv['funny']"
   ]
  },
  {
   "cell_type": "code",
   "execution_count": 51,
   "id": "plastic-still",
   "metadata": {},
   "outputs": [
    {
     "name": "stdout",
     "output_type": "stream",
     "text": [
      "f1 score: 0.8672068215583003\n"
     ]
    }
   ],
   "source": [
    "# Call the modeling function for random forest classifier with countvectorizer and print f1 score\n",
    "modeling(RandomForestClassifier(n_estimators = 100, random_state = 42))\n",
    "\n",
    "# Assign y_pred to a variable for further process\n",
    "y_pred_cv_rf = y_pred"
   ]
  },
  {
   "cell_type": "code",
   "execution_count": 52,
   "id": "conditional-evening",
   "metadata": {},
   "outputs": [
    {
     "name": "stdout",
     "output_type": "stream",
     "text": [
      "              precision    recall  f1-score   support\n",
      "\n",
      "           0       0.91      0.29      0.43      4037\n",
      "           1       0.89      1.00      0.94     23859\n",
      "\n",
      "    accuracy                           0.89     27896\n",
      "   macro avg       0.90      0.64      0.69     27896\n",
      "weighted avg       0.89      0.89      0.87     27896\n",
      "\n"
     ]
    }
   ],
   "source": [
    "# Compute and print the classification report\n",
    "print(classification_report(y_test, y_pred_cv_rf))"
   ]
  },
  {
   "cell_type": "code",
   "execution_count": 53,
   "id": "suspended-charleston",
   "metadata": {},
   "outputs": [
    {
     "data": {
      "image/png": "[encoded data removed]",
      "text/plain": [
       "<Figure size 720x720 with 2 Axes>"
      ]
     },
     "metadata": {
      "needs_background": "light"
     },
     "output_type": "display_data"
    }
   ],
   "source": [
    "# Print confusion matrix for random forest classifier with countVectorizer\n",
    "disp_confusion_matrix(y_pred_cv_rf, \"Random Forest\")"
   ]
  },
  {
   "cell_type": "code",
   "execution_count": null,
   "id": "answering-preservation",
   "metadata": {},
   "outputs": [],
   "source": []
  },
  {
   "cell_type": "code",
   "execution_count": null,
   "id": "under-present",
   "metadata": {},
   "outputs": [],
   "source": []
  },
  {
   "cell_type": "code",
   "execution_count": null,
   "id": "fifty-journey",
   "metadata": {},
   "outputs": [],
   "source": []
  }
 ],
 "metadata": {
  "kernelspec": {
   "display_name": "Python 3",
   "language": "python",
   "name": "python3"
  },
  "language_info": {
   "codemirror_mode": {
    "name": "ipython",
    "version": 3
   },
   "file_extension": ".py",
   "mimetype": "text/x-python",
   "name": "python",
   "nbconvert_exporter": "python",
   "pygments_lexer": "ipython3",
   "version": "3.8.1"
  }
 },
 "nbformat": 4,
 "nbformat_minor": 5
}
